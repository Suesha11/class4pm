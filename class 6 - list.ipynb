{
 "cells": [
  {
   "cell_type": "code",
   "execution_count": 3,
   "metadata": {},
   "outputs": [
    {
     "name": "stdout",
     "output_type": "stream",
     "text": [
      "['apple', 'ball', 'cat']\n",
      "apple\n"
     ]
    }
   ],
   "source": [
    "#list is ordered and changeable...allows dublicate members\n",
    "\n",
    "a=['apple', 'ball','cat']\n",
    "print(a)\n",
    "print(a[0])"
   ]
  },
  {
   "cell_type": "code",
   "execution_count": 4,
   "metadata": {},
   "outputs": [
    {
     "name": "stdout",
     "output_type": "stream",
     "text": [
      "[1, 2, 3, 4, 5, 6]\n",
      "<class 'list'>\n"
     ]
    }
   ],
   "source": [
    "#concatination\n",
    "a=[1,2,3]\n",
    "b=[4,5,6]\n",
    "print(a+b)\n",
    "print(type(a))"
   ]
  },
  {
   "cell_type": "code",
   "execution_count": 5,
   "metadata": {},
   "outputs": [
    {
     "name": "stdout",
     "output_type": "stream",
     "text": [
      "[1, 2, 3, 4, 5, 2, 3, 4]\n"
     ]
    }
   ],
   "source": [
    "#dublicate\n",
    "a=[1,2,3,4,5,2,3,4]\n",
    "print(a)"
   ]
  },
  {
   "cell_type": "code",
   "execution_count": 6,
   "metadata": {},
   "outputs": [
    {
     "name": "stdout",
     "output_type": "stream",
     "text": [
      "8\n"
     ]
    }
   ],
   "source": [
    "#find length\n",
    "print(len(a))"
   ]
  },
  {
   "cell_type": "code",
   "execution_count": 7,
   "metadata": {},
   "outputs": [
    {
     "name": "stdout",
     "output_type": "stream",
     "text": [
      "enter any value =fsdfsdf\n"
     ]
    },
    {
     "ename": "TypeError",
     "evalue": "can only concatenate list (not \"str\") to list",
     "output_type": "error",
     "traceback": [
      "\u001b[1;31m---------------------------------------------------------------------------\u001b[0m",
      "\u001b[1;31mTypeError\u001b[0m                                 Traceback (most recent call last)",
      "\u001b[1;32m<ipython-input-7-7cdb31f10db2>\u001b[0m in \u001b[0;36m<module>\u001b[1;34m\u001b[0m\n\u001b[0;32m      2\u001b[0m \u001b[0ma\u001b[0m\u001b[1;33m=\u001b[0m\u001b[1;33m[\u001b[0m\u001b[1;33m]\u001b[0m\u001b[1;33m\u001b[0m\u001b[1;33m\u001b[0m\u001b[0m\n\u001b[0;32m      3\u001b[0m \u001b[0mb\u001b[0m\u001b[1;33m=\u001b[0m\u001b[0minput\u001b[0m\u001b[1;33m(\u001b[0m\u001b[1;34m\"enter any value =\"\u001b[0m\u001b[1;33m)\u001b[0m\u001b[1;33m\u001b[0m\u001b[1;33m\u001b[0m\u001b[0m\n\u001b[1;32m----> 4\u001b[1;33m \u001b[0ma\u001b[0m\u001b[1;33m+\u001b[0m\u001b[0mb\u001b[0m \u001b[1;31m#should make b a list\u001b[0m\u001b[1;33m\u001b[0m\u001b[1;33m\u001b[0m\u001b[0m\n\u001b[0m",
      "\u001b[1;31mTypeError\u001b[0m: can only concatenate list (not \"str\") to list"
     ]
    }
   ],
   "source": [
    "#empty list\n",
    "a=[]\n",
    "b=input(\"enter any value =\")\n",
    "a+b #should make b a list"
   ]
  },
  {
   "cell_type": "code",
   "execution_count": 8,
   "metadata": {},
   "outputs": [
    {
     "name": "stdout",
     "output_type": "stream",
     "text": [
      "enter any value =sdfsd\n"
     ]
    },
    {
     "data": {
      "text/plain": [
       "['sdfsd']"
      ]
     },
     "execution_count": 8,
     "metadata": {},
     "output_type": "execute_result"
    }
   ],
   "source": [
    "a=[]\n",
    "\n",
    "b=input(\"enter any value =\")\n",
    "a+[b]"
   ]
  },
  {
   "cell_type": "code",
   "execution_count": 9,
   "metadata": {},
   "outputs": [
    {
     "name": "stdout",
     "output_type": "stream",
     "text": [
      "enter any value =sdfsdf\n",
      "enter any value =sdfsd\n",
      "enter any value =sdfsdf\n",
      "['sdfsdf', 'sdfsd', 'sdfsdf']\n"
     ]
    }
   ],
   "source": [
    "a=[]\n",
    "for i in range(3):\n",
    "    b=input(\"enter any value =\")\n",
    "    a=a+[b]\n",
    "print(a)    \n",
    "    "
   ]
  },
  {
   "cell_type": "code",
   "execution_count": 11,
   "metadata": {},
   "outputs": [
    {
     "name": "stdout",
     "output_type": "stream",
     "text": [
      "enter the number of elements=4\n",
      "enter any value =ddsfd\n",
      "enter any value =sdfsd\n",
      "enter any value =sfs\n",
      "enter any value =sdfsd\n",
      "['ddsfd', 'sdfsd', 'sfs', 'sdfsd']\n"
     ]
    }
   ],
   "source": [
    "a=[]\n",
    "n=int(input(\"enter the number of elements=\"))\n",
    "for i in range(n):\n",
    "    b=input(\"enter any value =\")\n",
    "    a=a+[b]\n",
    "print(a)    "
   ]
  },
  {
   "cell_type": "code",
   "execution_count": 17,
   "metadata": {},
   "outputs": [
    {
     "data": {
      "text/plain": [
       "['hey', 'hi', 'bye']"
      ]
     },
     "execution_count": 17,
     "metadata": {},
     "output_type": "execute_result"
    }
   ],
   "source": [
    "#value replace\n",
    "\n",
    "a=['hello','hi','bye']\n",
    "a[0]='hey'\n",
    "a"
   ]
  },
  {
   "cell_type": "code",
   "execution_count": 12,
   "metadata": {},
   "outputs": [
    {
     "data": {
      "text/plain": [
       "['hello', 'hi', 'bye', 'hello', 'hi', 'bye']"
      ]
     },
     "execution_count": 12,
     "metadata": {},
     "output_type": "execute_result"
    }
   ],
   "source": [
    "a=['hello','hi','bye']\n",
    "a*2"
   ]
  },
  {
   "cell_type": "code",
   "execution_count": 13,
   "metadata": {},
   "outputs": [
    {
     "ename": "TypeError",
     "evalue": "can't multiply sequence by non-int of type 'list'",
     "output_type": "error",
     "traceback": [
      "\u001b[1;31m---------------------------------------------------------------------------\u001b[0m",
      "\u001b[1;31mTypeError\u001b[0m                                 Traceback (most recent call last)",
      "\u001b[1;32m<ipython-input-13-38cfdb96ff69>\u001b[0m in \u001b[0;36m<module>\u001b[1;34m\u001b[0m\n\u001b[0;32m      1\u001b[0m \u001b[0ma\u001b[0m\u001b[1;33m=\u001b[0m\u001b[1;33m[\u001b[0m\u001b[1;34m'hello'\u001b[0m\u001b[1;33m,\u001b[0m\u001b[1;34m'hi'\u001b[0m\u001b[1;33m,\u001b[0m\u001b[1;34m'bye'\u001b[0m\u001b[1;33m]\u001b[0m\u001b[1;33m\u001b[0m\u001b[1;33m\u001b[0m\u001b[0m\n\u001b[0;32m      2\u001b[0m \u001b[0mb\u001b[0m\u001b[1;33m=\u001b[0m\u001b[1;33m[\u001b[0m\u001b[1;34m'nobye'\u001b[0m\u001b[1;33m]\u001b[0m\u001b[1;33m\u001b[0m\u001b[1;33m\u001b[0m\u001b[0m\n\u001b[1;32m----> 3\u001b[1;33m \u001b[0ma\u001b[0m\u001b[1;33m*\u001b[0m\u001b[0mb\u001b[0m\u001b[1;33m\u001b[0m\u001b[1;33m\u001b[0m\u001b[0m\n\u001b[0m",
      "\u001b[1;31mTypeError\u001b[0m: can't multiply sequence by non-int of type 'list'"
     ]
    }
   ],
   "source": [
    "a=['hello','hi','bye']\n",
    "b=['nobye']\n",
    "a*b"
   ]
  },
  {
   "cell_type": "code",
   "execution_count": 14,
   "metadata": {},
   "outputs": [
    {
     "name": "stdout",
     "output_type": "stream",
     "text": [
      "enter the number of elements=2\n",
      "enter any value =sdfsd\n",
      "0 ['sdfsd']\n",
      "enter any value =sdfsd\n",
      "1 ['sdfsd', 'sdfsd']\n"
     ]
    }
   ],
   "source": [
    "a=[]\n",
    "n=int(input(\"enter the number of elements=\"))\n",
    "for i in range(n):\n",
    "    b=input(\"enter any value =\")\n",
    "    a=a+[b]\n",
    "    print(i,a) "
   ]
  },
  {
   "cell_type": "code",
   "execution_count": 15,
   "metadata": {},
   "outputs": [
    {
     "data": {
      "text/plain": [
       "15"
      ]
     },
     "execution_count": 15,
     "metadata": {},
     "output_type": "execute_result"
    }
   ],
   "source": [
    "sum([1,2,3,4,5])  #function"
   ]
  },
  {
   "cell_type": "code",
   "execution_count": 16,
   "metadata": {},
   "outputs": [
    {
     "data": {
      "text/plain": [
       "21"
      ]
     },
     "execution_count": 16,
     "metadata": {},
     "output_type": "execute_result"
    }
   ],
   "source": [
    "a=[1,2,3,4,5,6]\n",
    "sum(a)"
   ]
  },
  {
   "cell_type": "code",
   "execution_count": 17,
   "metadata": {},
   "outputs": [
    {
     "name": "stdout",
     "output_type": "stream",
     "text": [
      "enter the no of elements=4\n",
      "enter the numbers=3\n",
      "enter the numbers=4\n",
      "enter the numbers=5\n",
      "enter the numbers=3\n",
      "15\n"
     ]
    }
   ],
   "source": [
    "a=[]\n",
    "n=int(input(\"enter the no of elements=\"))\n",
    "for i in range(n):\n",
    "    b=int(input(\"enter the numbers=\"))\n",
    "    a=a+[b]\n",
    "    \n",
    "print(sum(a))    "
   ]
  },
  {
   "cell_type": "code",
   "execution_count": 19,
   "metadata": {},
   "outputs": [
    {
     "name": "stdout",
     "output_type": "stream",
     "text": [
      "enter the no of elements=4\n",
      "enter the numbers=2\n",
      "enter the numbers=7\n",
      "enter the numbers=5\n",
      "enter the numbers=2\n",
      "The sum is 16\n",
      "The average value is 4.0\n",
      "The max value is 7\n",
      "The max value is 2\n"
     ]
    }
   ],
   "source": [
    "a=[]\n",
    "n=int(input(\"enter the no of elements=\"))\n",
    "for i in range(n):\n",
    "    b=int(input(\"enter the numbers=\"))\n",
    "    a=a+[b]\n",
    "    \n",
    "print(\"The sum is\",sum(a))\n",
    "print(\"The average value is\",sum(a)/n)\n",
    "print(\"The max value is\",max(a))\n",
    "print(\"The max value is\",min(a))"
   ]
  },
  {
   "cell_type": "code",
   "execution_count": 23,
   "metadata": {},
   "outputs": [
    {
     "name": "stdout",
     "output_type": "stream",
     "text": [
      "enter the no of elements=3\n",
      "enter the numbers=4\n",
      "enter the numbers=5\n",
      "enter the numbers=2\n",
      "the sorted value is [2, 4, 5]\n"
     ]
    }
   ],
   "source": [
    "#sorting in list...string in alphabetical order\n",
    "\n",
    "a=[]\n",
    "n=int(input(\"enter the no of elements=\"))\n",
    "for i in range(n):\n",
    "    b=int(input(\"enter the numbers=\"))\n",
    "    a=a+[b]\n",
    "    \n",
    "a.sort()\n",
    "print(\"the sorted value is\",a)\n"
   ]
  },
  {
   "cell_type": "code",
   "execution_count": 26,
   "metadata": {},
   "outputs": [
    {
     "name": "stdout",
     "output_type": "stream",
     "text": [
      "enter the no of elements=3\n",
      "enter the vale=suesha\n",
      "enter the vale=giri\n",
      "enter the vale=bista\n",
      "the sorted value is ['bista', 'giri', 'suesha']\n"
     ]
    }
   ],
   "source": [
    "a=[]\n",
    "n=int(input(\"enter the no of elements=\"))\n",
    "for i in range(n):\n",
    "    b=input(\"enter the vale=\")\n",
    "    a=a+[b]\n",
    "    \n",
    "a.sort()\n",
    "print(\"the sorted value is\",a)\n"
   ]
  },
  {
   "cell_type": "code",
   "execution_count": 28,
   "metadata": {},
   "outputs": [
    {
     "name": "stdout",
     "output_type": "stream",
     "text": [
      "enter the no of elements=3\n",
      "enter the vale=sfsdfs\n",
      "enter the vale=ass\n",
      "enter the vale=dgd\n",
      "the sorted value is ['ass', 'dgd', 'sfsdfs']\n"
     ]
    }
   ],
   "source": [
    "a=[]\n",
    "n=int(input(\"enter the no of elements=\"))\n",
    "for i in range(n):\n",
    "    b=input(\"enter the vale=\")\n",
    "    a=a+[b]\n",
    "    \n",
    "a.sort()\n",
    "b=a#a.sort()ma a mai gayera update garcha its an operation so\n",
    "print(\"the sorted value is\",b)\n"
   ]
  },
  {
   "cell_type": "code",
   "execution_count": 29,
   "metadata": {},
   "outputs": [
    {
     "name": "stdout",
     "output_type": "stream",
     "text": [
      "['..zebra', '1.Apple', 'Apple', 'apple']\n"
     ]
    }
   ],
   "source": [
    "#special characters take the place first and then numeric and alphabetical when they are in the same list\n",
    "a=['apple','Apple','1.Apple','..zebra']\n",
    "a.sort()\n",
    "print(a)"
   ]
  },
  {
   "cell_type": "code",
   "execution_count": 32,
   "metadata": {},
   "outputs": [
    {
     "name": "stdout",
     "output_type": "stream",
     "text": [
      "apple\n",
      "Apple\n",
      "1.Apple\n",
      "..zebra\n",
      "apple\n"
     ]
    }
   ],
   "source": [
    "#loop in list\n",
    "a=['apple','Apple','1.Apple','..zebra','apple']\n",
    "for i in a:\n",
    "    print(i)\n"
   ]
  },
  {
   "cell_type": "code",
   "execution_count": 33,
   "metadata": {},
   "outputs": [
    {
     "name": "stdout",
     "output_type": "stream",
     "text": [
      "yes 2\n"
     ]
    }
   ],
   "source": [
    "#search\n",
    "if 'apple' in a: \n",
    "    print(\"yes\",a.count('apple')) #count will give the numbers of apple\n",
    "else:\n",
    "    print(\"no\")"
   ]
  },
  {
   "cell_type": "code",
   "execution_count": 34,
   "metadata": {},
   "outputs": [
    {
     "name": "stdout",
     "output_type": "stream",
     "text": [
      "no\n"
     ]
    }
   ],
   "source": [
    "if 'cow' in a: \n",
    "    print(\"yes\",a.count('apple')) #count will give the numbers of apple\n",
    "else:\n",
    "    print(\"no\")"
   ]
  },
  {
   "cell_type": "code",
   "execution_count": 35,
   "metadata": {},
   "outputs": [
    {
     "name": "stdout",
     "output_type": "stream",
     "text": [
      "a\n",
      "p\n",
      "p\n",
      "l\n",
      "e\n"
     ]
    }
   ],
   "source": [
    "a=['apple','Apple','1.Apple','..zebra','apple']\n",
    "for i in a[0]:\n",
    "    print(i)"
   ]
  },
  {
   "cell_type": "code",
   "execution_count": 36,
   "metadata": {},
   "outputs": [
    {
     "data": {
      "text/plain": [
       "'a'"
      ]
     },
     "execution_count": 36,
     "metadata": {},
     "output_type": "execute_result"
    }
   ],
   "source": [
    "#accessing elements\n",
    "\n",
    "a=['apple','Apple','1.Apple','..zebra','apple']\n",
    "a[0]\n",
    "a[0][0]"
   ]
  },
  {
   "cell_type": "code",
   "execution_count": 38,
   "metadata": {},
   "outputs": [
    {
     "data": {
      "text/plain": [
       "['apple', 'Apple', '1.Apple', '..zebra', 'apple', 'ball']"
      ]
     },
     "execution_count": 38,
     "metadata": {},
     "output_type": "execute_result"
    }
   ],
   "source": [
    "#append..adds at backside\n",
    "\n",
    "a=['apple','Apple','1.Apple','..zebra','apple']\n",
    "a.append('ball')\n",
    "a"
   ]
  },
  {
   "cell_type": "code",
   "execution_count": 39,
   "metadata": {},
   "outputs": [
    {
     "data": {
      "text/plain": [
       "[3, 'apple', 4, 5, 6, 7]"
      ]
     },
     "execution_count": 39,
     "metadata": {},
     "output_type": "execute_result"
    }
   ],
   "source": [
    "#insert..adds at any given index\n",
    "a=[3,4,5,6,7]\n",
    "a.insert(1,'apple') #a.insert(indexnumber,value)\n",
    "a"
   ]
  },
  {
   "cell_type": "code",
   "execution_count": 40,
   "metadata": {},
   "outputs": [
    {
     "name": "stdout",
     "output_type": "stream",
     "text": [
      "enter the no of elements=3\n",
      "enter the numbers=5\n",
      "enter the numbers=6\n",
      "enter the numbers=7\n",
      "[5, 6, 7]\n"
     ]
    }
   ],
   "source": [
    "a=[]\n",
    "n=int(input(\"enter the no of elements=\"))\n",
    "for i in range(n):\n",
    "    b=int(input(\"enter the numbers=\"))\n",
    "    a.append(b) #instead of a+b #a. garda list ma nai asar parna jancha.\n",
    "    \n",
    "print(a)\n",
    "    "
   ]
  },
  {
   "cell_type": "code",
   "execution_count": 44,
   "metadata": {},
   "outputs": [
    {
     "data": {
      "text/plain": [
       "[3, 4, 5, 6, 'apple', 7]"
      ]
     },
     "execution_count": 44,
     "metadata": {},
     "output_type": "execute_result"
    }
   ],
   "source": [
    "a=[3,4,5,6,7]\n",
    "a.insert(-1,'apple') \n",
    "a # -1 is the last index but second last ma ayo kinaki esle right tira shift gardai lancha"
   ]
  },
  {
   "cell_type": "code",
   "execution_count": null,
   "metadata": {},
   "outputs": [],
   "source": []
  }
 ],
 "metadata": {
  "kernelspec": {
   "display_name": "Python 3",
   "language": "python",
   "name": "python3"
  },
  "language_info": {
   "codemirror_mode": {
    "name": "ipython",
    "version": 3
   },
   "file_extension": ".py",
   "mimetype": "text/x-python",
   "name": "python",
   "nbconvert_exporter": "python",
   "pygments_lexer": "ipython3",
   "version": "3.7.4"
  }
 },
 "nbformat": 4,
 "nbformat_minor": 2
}
