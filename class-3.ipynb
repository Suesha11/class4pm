{
 "cells": [
  {
   "cell_type": "code",
   "execution_count": null,
   "metadata": {},
   "outputs": [],
   "source": [
    "# 1.function with return type \n",
    "# 2. recursive function (function callling itself)"
   ]
  },
  {
   "cell_type": "code",
   "execution_count": 1,
   "metadata": {},
   "outputs": [
    {
     "name": "stdout",
     "output_type": "stream",
     "text": [
      "enter the value2\n",
      "enter the value of b4\n",
      "enter o (+ - / *)+\n",
      "6\n"
     ]
    }
   ],
   "source": [
    "#if else\n",
    "a = int(input(\"enter the value\")) \n",
    "b = int(input(\"enter the value of b\"))\n",
    "o = input(\"enter o (+ - / *)\")\n",
    "if o== '+':\n",
    "    print(a+b)\n",
    "elif o== '-':\n",
    "    print(a-b)\n",
    "elif o=='*':\n",
    "    print(a*b)\n",
    "elif o=='/':\n",
    "    print(a/b)\n",
    "else:\n",
    "    print(\"invalid operator\")\n",
    "    \n"
   ]
  },
  {
   "cell_type": "code",
   "execution_count": 2,
   "metadata": {},
   "outputs": [
    {
     "name": "stdout",
     "output_type": "stream",
     "text": [
      "enter the value2\n",
      "enter the value of b3\n",
      "enter o (+ - / *)*\n",
      "6\n",
      "enter 'y' for more calculationsy\n",
      "enter the value3\n",
      "enter the value of b4\n",
      "enter o (+ - / *)-\n",
      "-1\n",
      "enter 'y' for more calculationssadsd\n"
     ]
    }
   ],
   "source": [
    "def cal():\n",
    "    a = int(input(\"enter the value\")) \n",
    "    b = int(input(\"enter the value of b\"))\n",
    "    o = input(\"enter o (+ - / *)\")\n",
    "    if o== '+':\n",
    "        print(a+b)\n",
    "    elif o== '-':\n",
    "        print(a-b)\n",
    "    elif o=='*':\n",
    "        print(a*b)\n",
    "    elif o=='/':\n",
    "        print(a/b)\n",
    "    else:\n",
    "        print(\"invalid operator\")\n",
    "        \n",
    "    x = input(\"enter 'y' for more calculations\")\n",
    "    if x=='y':\n",
    "        cal()\n",
    "        \n",
    "cal()\n"
   ]
  },
  {
   "cell_type": "code",
   "execution_count": 3,
   "metadata": {},
   "outputs": [
    {
     "name": "stdout",
     "output_type": "stream",
     "text": [
      "enter the value2\n",
      "enter the value of b3\n",
      "enter o (+ - / *)+\n",
      "5\n",
      "enter 'y' for more calculationsfdfk\n"
     ]
    }
   ],
   "source": [
    "def add(a,b):\n",
    "    return a+b\n",
    "def mul(a,b):\n",
    "    return a*b\n",
    "def div(a,b):\n",
    "    return a/b\n",
    "def sub(a,b):\n",
    "    return a-b\n",
    "\n",
    "def cal():\n",
    "    a = int(input(\"enter the value\")) \n",
    "    b = int(input(\"enter the value of b\"))\n",
    "    o = input(\"enter o (+ - / *)\")\n",
    "    if o== '+':\n",
    "        print(add(a,b))\n",
    "    elif o== '-':\n",
    "        print(sub(a,b))\n",
    "    elif o=='*':\n",
    "        print(div(a,b))\n",
    "    elif o=='/':\n",
    "        print(mul(a,b))\n",
    "    else:\n",
    "        print(\"invalid operator\")\n",
    "        \n",
    "    x = input(\"enter 'y' for more calculations\")\n",
    "    if x=='y':\n",
    "        cal()\n",
    "        \n",
    "cal()\n"
   ]
  },
  {
   "cell_type": "code",
   "execution_count": 1,
   "metadata": {},
   "outputs": [
    {
     "name": "stdout",
     "output_type": "stream",
     "text": [
      "enter the value4\n",
      "enter the value of b6\n",
      "enter o (+ - / *)/\n",
      "0.6666666666666666\n",
      "enter 'y' for more calculationsvhv\n"
     ]
    }
   ],
   "source": [
    "def add(a,b):\n",
    "    return a+b\n",
    "def mul(a,b):\n",
    "    return a*b\n",
    "def div(a,b):\n",
    "    return a/b\n",
    "def sub(a,b):\n",
    "    return a-b\n",
    "\n",
    "def cal():\n",
    "    a = int(input(\"enter the value\")) \n",
    "    b = int(input(\"enter the value of b\"))\n",
    "    o = input(\"enter o (+ - / *)\")\n",
    "    if o== '+':\n",
    "        print(add(a,b))\n",
    "    elif o== '-':\n",
    "        print(sub(a,b))\n",
    "    elif o=='*':\n",
    "        print(div(a,b))\n",
    "    elif (o=='/') and (b!=0): #putting thecondition\n",
    "        \n",
    "        print(div(a,b))\n",
    "    else:\n",
    "        print(\"invalid operator\")\n",
    "        \n",
    "    x = input(\"enter 'y' for more calculations\")\n",
    "    if x=='y':\n",
    "        cal()\n",
    "        \n",
    "cal()\n"
   ]
  },
  {
   "cell_type": "code",
   "execution_count": 2,
   "metadata": {},
   "outputs": [
    {
     "name": "stdout",
     "output_type": "stream",
     "text": [
      "enter the value3\n",
      "enter the value of b5\n",
      "enter o (+ - / *)+\n",
      "8\n",
      "enter value of x3\n",
      "enter the value4 \n",
      "enter the value of b9\n",
      "enter o (+ - / *)-\n",
      "-5\n",
      "enter value of x9\n"
     ]
    }
   ],
   "source": [
    "def add(a,b):\n",
    "    return a+b\n",
    "def mul(a,b):\n",
    "    return a*b\n",
    "def div(a,b):\n",
    "    return a/b\n",
    "def sub(a,b):\n",
    "    return a-b\n",
    "\n",
    "def cal():\n",
    "    a = int(input(\"enter the value\")) \n",
    "    b = int(input(\"enter the value of b\"))\n",
    "    o = input(\"enter o (+ - / *)\")\n",
    "    if o== '+':\n",
    "        print(add(a,b))\n",
    "    elif o== '-':\n",
    "        print(sub(a,b))\n",
    "    elif o=='*':\n",
    "        print(div(a,b))\n",
    "    elif (o=='/') and (b!=0): #putting thecondition\n",
    "        \n",
    "        print(div(a,b))\n",
    "    else:\n",
    "        print(\"invalid operator\")\n",
    "        \n",
    "    x = int(input(\"enter value of x\"))\n",
    "    if x<=6:\n",
    "        cal()\n",
    "        \n",
    "cal()\n"
   ]
  },
  {
   "cell_type": "code",
   "execution_count": 8,
   "metadata": {},
   "outputs": [
    {
     "name": "stdout",
     "output_type": "stream",
     "text": [
      "enter your namesuesha\n",
      "use different name\n"
     ]
    }
   ],
   "source": [
    "a= input(\"enter your name\")\n",
    "b = len(a)\n",
    "if b>=6:\n",
    "    print(\"use different name\")\n",
    "else:\n",
    "    print(a)\n"
   ]
  },
  {
   "cell_type": "code",
   "execution_count": null,
   "metadata": {},
   "outputs": [],
   "source": [
    "def add(a,b):\n",
    "    return a+b\n",
    "def mul(a,b):\n",
    "    return a*b\n",
    "def div(a,b):\n",
    "    return a/b\n",
    "def sub(a,b):\n",
    "    return a-b\n",
    "\n",
    "def cal():\n",
    "    a = int(input(\"enter the value\")) \n",
    "    b = int(input(\"enter the value of b\"))\n",
    "    o = input(\"enter o (+ - / *)\")\n",
    "    if o== '+':\n",
    "        print(add(a,b))\n",
    "    elif o== '-':\n",
    "        print(sub(a,b))\n",
    "    elif o=='*':\n",
    "        print(div(a,b))\n",
    "    elif (o=='/') and (b!=0): #putting thecondition\n",
    "        \n",
    "        print(div(a,b))\n",
    "    else:\n",
    "        print(\"invalid operator\")\n",
    "        \n",
    "    x = input(\"enter 'y' for more calculations\")\n",
    "    if (x=='y') or (x=='Y'): () is for more conditions eg. (a or b) and c\n",
    "        cal()\n",
    "        \n",
    "cal()\n"
   ]
  },
  {
   "cell_type": "code",
   "execution_count": null,
   "metadata": {},
   "outputs": [],
   "source": [
    "# a & b\n",
    "# a | b"
   ]
  },
  {
   "cell_type": "code",
   "execution_count": 2,
   "metadata": {},
   "outputs": [
    {
     "name": "stdout",
     "output_type": "stream",
     "text": [
      "7\n"
     ]
    }
   ],
   "source": [
    "# function with return type\n",
    "\n",
    "def sum(a,b):\n",
    "    \n",
    "    return a+b\n",
    "\n",
    "print(sum(2,5))\n",
    "    "
   ]
  },
  {
   "cell_type": "code",
   "execution_count": 3,
   "metadata": {},
   "outputs": [
    {
     "name": "stdout",
     "output_type": "stream",
     "text": [
      "enter your namesuesha\n",
      "enter your roll2\n",
      "enter your addresskapan\n",
      "('suesha', 2, 'kapan')\n"
     ]
    }
   ],
   "source": [
    "def student(n,r,a):\n",
    "    \n",
    "    return n,r,a\n",
    "\n",
    "n= input(\"enter your name\")\n",
    "r = int(input(\"enter your roll\"))\n",
    "a= input(\"enter your address\")\n",
    "\n",
    "print(student(n,r,a))\n",
    "    "
   ]
  },
  {
   "cell_type": "code",
   "execution_count": 7,
   "metadata": {},
   "outputs": [
    {
     "name": "stdout",
     "output_type": "stream",
     "text": [
      "enter your nameferefe\n",
      "enter your roll2\n",
      "enter your addressfdf\n",
      "('ferefe', 2, 'fdf')\n"
     ]
    }
   ],
   "source": [
    "def student(n,r,a):\n",
    "    \n",
    "    return n,r,a\n",
    "\n",
    "n= input(\"enter your name\")\n",
    "r = int(input(\"enter your roll\"))\n",
    "a= input(\"enter your address\")\n",
    "\n",
    "z= student(n,r,a)\n",
    "print(z)\n",
    "    "
   ]
  },
  {
   "cell_type": "code",
   "execution_count": 4,
   "metadata": {},
   "outputs": [
    {
     "name": "stdout",
     "output_type": "stream",
     "text": [
      "enter your namesdfsd\n",
      "enter your roll3\n",
      "enter your addresswewe\n",
      "sdfsd\n"
     ]
    }
   ],
   "source": [
    "def student(a,b,c):\n",
    "     \n",
    "    return a\n",
    "\n",
    "n= input(\"enter your name\")\n",
    "r = int(input(\"enter your roll\"))\n",
    "s= input(\"enter your address\")\n",
    "\n",
    "print(student(n,r,s))\n"
   ]
  },
  {
   "cell_type": "code",
   "execution_count": null,
   "metadata": {},
   "outputs": [
    {
     "name": "stdout",
     "output_type": "stream",
     "text": [
      "enter the length3\n",
      "enter the breadth2\n",
      "enter the height5\n",
      "the volume is 30\n",
      "enter the length2\n",
      "enter the breadth5\n",
      "enter the height7\n",
      "the volume is 70\n"
     ]
    }
   ],
   "source": [
    "def volume():\n",
    "    l=int(input(\"enter the length\"))\n",
    "    b=int(input(\"enter the breadth\"))\n",
    "    h=int(input(\"enter the height\"))\n",
    "    \n",
    "    \n",
    "    print(\"the volume is\",l*b*h)\n",
    "    volume()\n",
    "    \n",
    "volume()  \n",
    "    \n",
    "    "
   ]
  },
  {
   "cell_type": "code",
   "execution_count": 6,
   "metadata": {},
   "outputs": [
    {
     "name": "stdout",
     "output_type": "stream",
     "text": [
      "enter the length2\n",
      "enter the breadth3\n",
      "enter the height5\n",
      "the volume is 30\n",
      "enter 'y' for more calulationss\n",
      "the calculations is finished\n"
     ]
    }
   ],
   "source": [
    "def volume():\n",
    "    l=int(input(\"enter the length\"))\n",
    "    b=int(input(\"enter the breadth\"))\n",
    "    h=int(input(\"enter the height\"))\n",
    "    \n",
    "    \n",
    "    print(\"the volume is\",l*b*h)\n",
    "    \n",
    "    x= input(\"enter 'y' for more calulations\")\n",
    "    if x=='y':\n",
    "        volume()\n",
    "    else:\n",
    "        print(\"the calculations is finished\")\n",
    "    \n",
    "volume()"
   ]
  },
  {
   "cell_type": "code",
   "execution_count": null,
   "metadata": {},
   "outputs": [],
   "source": [
    "#if conditon matra huda chai harek if euta new ondition huncha\n",
    "#if bhitra elif huda eti aru kunai condtn match bhayo bhane tei matra execute huncha..else condition dina is not mandatory"
   ]
  }
 ],
 "metadata": {
  "kernelspec": {
   "display_name": "Python 3",
   "language": "python",
   "name": "python3"
  },
  "language_info": {
   "codemirror_mode": {
    "name": "ipython",
    "version": 3
   },
   "file_extension": ".py",
   "mimetype": "text/x-python",
   "name": "python",
   "nbconvert_exporter": "python",
   "pygments_lexer": "ipython3",
   "version": "3.7.4"
  }
 },
 "nbformat": 4,
 "nbformat_minor": 2
}
