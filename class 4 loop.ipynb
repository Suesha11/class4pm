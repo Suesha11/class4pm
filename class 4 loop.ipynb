{
 "cells": [
  {
   "cell_type": "code",
   "execution_count": 1,
   "metadata": {},
   "outputs": [
    {
     "name": "stdout",
     "output_type": "stream",
     "text": [
      "0 hello world\n",
      "1 hello world\n",
      "2 hello world\n",
      "3 hello world\n",
      "4 hello world\n"
     ]
    }
   ],
   "source": [
    "#loops\n",
    "#in for loop we use range functions\n",
    "\n",
    "for i in range(5):# 0 to 4\n",
    "    print(i,\"hello world\")"
   ]
  },
  {
   "cell_type": "code",
   "execution_count": 2,
   "metadata": {},
   "outputs": [
    {
     "name": "stdout",
     "output_type": "stream",
     "text": [
      "1 hello world\n",
      "2 hello world\n",
      "3 hello world\n",
      "4 hello world\n"
     ]
    }
   ],
   "source": [
    "for i in range(1,5):\n",
    "    print(i,\"hello world\")"
   ]
  },
  {
   "cell_type": "code",
   "execution_count": 3,
   "metadata": {},
   "outputs": [
    {
     "name": "stdout",
     "output_type": "stream",
     "text": [
      "1 hello world\n",
      "3 hello world\n"
     ]
    }
   ],
   "source": [
    "for i in range(1,5,2):\n",
    "    print(i,\"hello world\")"
   ]
  },
  {
   "cell_type": "code",
   "execution_count": 1,
   "metadata": {},
   "outputs": [
    {
     "name": "stdout",
     "output_type": "stream",
     "text": [
      "hello world\n",
      "hello world\n",
      "hello world\n",
      "hello world\n",
      "hello world\n"
     ]
    }
   ],
   "source": [
    "for i in range(5):\n",
    "    print(\"hello world\")"
   ]
  },
  {
   "cell_type": "code",
   "execution_count": null,
   "metadata": {},
   "outputs": [],
   "source": []
  },
  {
   "cell_type": "code",
   "execution_count": 4,
   "metadata": {},
   "outputs": [
    {
     "name": "stdout",
     "output_type": "stream",
     "text": [
      "enter any no =5\n",
      "5\n",
      "10\n",
      "15\n",
      "20\n",
      "25\n",
      "30\n",
      "35\n",
      "40\n",
      "45\n",
      "50\n"
     ]
    }
   ],
   "source": [
    "#multiplication table\n",
    "n =int(input(\"enter any no =\"))\n",
    "for i in range(1,11):\n",
    "       print(n*i)"
   ]
  },
  {
   "cell_type": "code",
   "execution_count": 5,
   "metadata": {},
   "outputs": [
    {
     "name": "stdout",
     "output_type": "stream",
     "text": [
      "enter any number =4\n",
      "4 * 1 = 4\n",
      "4 * 2 = 8\n",
      "4 * 3 = 12\n",
      "4 * 4 = 16\n",
      "4 * 5 = 20\n",
      "4 * 6 = 24\n",
      "4 * 7 = 28\n",
      "4 * 8 = 32\n",
      "4 * 9 = 36\n",
      "4 * 10 = 40\n"
     ]
    }
   ],
   "source": [
    "n = int(input(\"enter any number =\"))\n",
    "for i in range(1,11):\n",
    "    print(n,\"*\",i,\"=\",n*i)"
   ]
  },
  {
   "cell_type": "code",
   "execution_count": 6,
   "metadata": {},
   "outputs": [
    {
     "name": "stdout",
     "output_type": "stream",
     "text": [
      "enter the value =6\n",
      "enter the value of y=2\n",
      "enter the value of y=3\n",
      "enter the value of y=4\n",
      "enter the value of y=3\n",
      "enter the value of y=4\n",
      "enter the value of y=5\n",
      "the total value is = 21\n",
      "the average value is= 10.5\n"
     ]
    }
   ],
   "source": [
    "x =0\n",
    "n = int(input(\"enter the value =\"))\n",
    "\n",
    "for i in range(n):\n",
    "    y = int(input(\"enter the value of y=\"))\n",
    "    x = x+y\n",
    "\n",
    "print(\"the total value is =\",x)\n",
    "print(\"the average value is=\",x/2)"
   ]
  },
  {
   "cell_type": "code",
   "execution_count": 9,
   "metadata": {},
   "outputs": [
    {
     "name": "stdout",
     "output_type": "stream",
     "text": [
      "enter the value =3\n",
      "1\n",
      "2\n",
      "6\n"
     ]
    }
   ],
   "source": [
    "#factorial\n",
    "x=1\n",
    "n = int(input(\"enter the value =\"))\n",
    "\n",
    "for i in range(1,n+1):\n",
    "    \n",
    "    x = x*i\n",
    "    print(x) "
   ]
  },
  {
   "cell_type": "code",
   "execution_count": 11,
   "metadata": {},
   "outputs": [
    {
     "name": "stdout",
     "output_type": "stream",
     "text": [
      "enter the value =5\n",
      "120\n"
     ]
    }
   ],
   "source": [
    "x=1\n",
    "n = int(input(\"enter the value =\"))\n",
    "\n",
    "for i in range(1,n+1):\n",
    "    \n",
    "    x = x*i\n",
    "\n",
    "print(x) "
   ]
  },
  {
   "cell_type": "code",
   "execution_count": null,
   "metadata": {},
   "outputs": [],
   "source": [
    "def add(a,b):\n",
    "    print(a+b)\n",
    "    \n",
    "n = int(input(\"enter the value of n\"))\n",
    "\n",
    "for"
   ]
  },
  {
   "cell_type": "code",
   "execution_count": 8,
   "metadata": {},
   "outputs": [
    {
     "name": "stdout",
     "output_type": "stream",
     "text": [
      "sita\n",
      "gita\n",
      "hari\n"
     ]
    }
   ],
   "source": [
    "name = ['sita','gita','hari']\n",
    "for i in name:\n",
    "    print(i)\n",
    "    \n",
    "  \n",
    "    \n",
    "    \n",
    "    "
   ]
  },
  {
   "cell_type": "code",
   "execution_count": 10,
   "metadata": {},
   "outputs": [
    {
     "name": "stdout",
     "output_type": "stream",
     "text": [
      "sita\n",
      "sita\n",
      "sita\n",
      "sita\n"
     ]
    }
   ],
   "source": [
    "name = \"sita\"\n",
    "for i in name:\n",
    "    print(name)"
   ]
  },
  {
   "cell_type": "code",
   "execution_count": null,
   "metadata": {},
   "outputs": [],
   "source": []
  },
  {
   "cell_type": "code",
   "execution_count": null,
   "metadata": {},
   "outputs": [],
   "source": [
    "#while\n",
    "\n",
    "#syntax\n",
    "\n",
    "#<variable>\n",
    "#while <condition>:\n",
    "#   <oerations>\n",
    "# <variable increment or decrement>\n",
    "    "
   ]
  },
  {
   "cell_type": "code",
   "execution_count": null,
   "metadata": {},
   "outputs": [],
   "source": []
  },
  {
   "cell_type": "code",
   "execution_count": 1,
   "metadata": {},
   "outputs": [
    {
     "name": "stdout",
     "output_type": "stream",
     "text": [
      "0\n",
      "1\n",
      "2\n",
      "3\n",
      "4\n",
      "5\n",
      "6\n",
      "7\n",
      "8\n",
      "9\n"
     ]
    }
   ],
   "source": [
    "a=0\n",
    "while a<10:\n",
    "    print(a)\n",
    "    a = a+1\n",
    "    "
   ]
  },
  {
   "cell_type": "code",
   "execution_count": 1,
   "metadata": {},
   "outputs": [
    {
     "name": "stdout",
     "output_type": "stream",
     "text": [
      "hello world\n",
      "hello world\n",
      "hello world\n",
      "hello world\n",
      "hello world\n"
     ]
    }
   ],
   "source": [
    "a=0\n",
    "while a<5:\n",
    "    print(\"hello world\")\n",
    "    a=a+1"
   ]
  },
  {
   "cell_type": "code",
   "execution_count": 1,
   "metadata": {},
   "outputs": [
    {
     "name": "stdout",
     "output_type": "stream",
     "text": [
      "enter the number of elements=3\n",
      "enter the value1\n",
      "enter the value2\n",
      "enter the value3\n",
      "the sum is  6\n"
     ]
    }
   ],
   "source": [
    "sum=0\n",
    "a=0\n",
    "n= int(input(\"enter the number of elements=\"))\n",
    "\n",
    "while a<n:\n",
    "    x=int(input(\"enter the value\"))\n",
    "    sum=sum+x\n",
    "    a+=1\n",
    "print(\"the sum is \",sum)    "
   ]
  },
  {
   "cell_type": "code",
   "execution_count": 4,
   "metadata": {},
   "outputs": [
    {
     "name": "stdout",
     "output_type": "stream",
     "text": [
      "enter the value of n=2\n",
      "the number is positive\n"
     ]
    }
   ],
   "source": [
    "#while as if condition\n",
    "\n",
    "n=int(input(\"enter the value of n=\"))\n",
    "\n",
    "while n>0:\n",
    "    print(\"the number is positive\")\n",
    "    break\n"
   ]
  },
  {
   "cell_type": "code",
   "execution_count": 2,
   "metadata": {},
   "outputs": [
    {
     "name": "stdout",
     "output_type": "stream",
     "text": [
      "sit\n",
      "sit\n",
      "sit\n",
      "sit\n"
     ]
    }
   ],
   "source": [
    "name = \"sita\"\n",
    "for i in name:\n",
    "    print(name[0:3])"
   ]
  },
  {
   "cell_type": "code",
   "execution_count": 5,
   "metadata": {},
   "outputs": [
    {
     "name": "stdout",
     "output_type": "stream",
     "text": [
      "enter any number=1\n",
      "enter any number=10\n",
      "The even number is 2\n",
      "The even number is 4\n",
      "The even number is 6\n",
      "The even number is 8\n",
      "The even number is 10\n"
     ]
    }
   ],
   "source": [
    "#print odd and even numbers between the given two numbers\n",
    "\n",
    "x= int(input(\"enter any number=\"))\n",
    "y=int(input(\"enter any number=\"))\n",
    "\n",
    "for i in range(x,y+1):\n",
    "    if i%2==0:\n",
    "        print(\"The even number is\",i)\n",
    "        \n",
    "        \n",
    "        \n",
    "\n",
    "\n",
    "\n"
   ]
  },
  {
   "cell_type": "code",
   "execution_count": 7,
   "metadata": {},
   "outputs": [
    {
     "name": "stdout",
     "output_type": "stream",
     "text": [
      "enter any number=1\n",
      "enter any number=10\n",
      "the odd number is 1\n",
      "the odd number is 3\n",
      "the odd number is 5\n",
      "the odd number is 7\n",
      "the odd number is 9\n"
     ]
    }
   ],
   "source": [
    "x= int(input(\"enter any number=\"))\n",
    "y=int(input(\"enter any number=\"))\n",
    "\n",
    "for i in range(x,y+1):\n",
    "    if i%2!=0:\n",
    "        print('the odd number is',i)"
   ]
  },
  {
   "cell_type": "code",
   "execution_count": null,
   "metadata": {},
   "outputs": [],
   "source": [
    "#control statement\n",
    "#break\n",
    "#continue\n",
    "#pass\n",
    "\n"
   ]
  },
  {
   "cell_type": "code",
   "execution_count": 10,
   "metadata": {},
   "outputs": [
    {
     "name": "stdout",
     "output_type": "stream",
     "text": [
      "h\n",
      "e\n",
      "l\n",
      "l\n",
      "o\n"
     ]
    }
   ],
   "source": [
    "#break\n",
    "\n",
    "a='hello world'\n",
    "for i in a:\n",
    "    if i==' ':\n",
    "        break\n",
    "    else:\n",
    "        print(i)"
   ]
  },
  {
   "cell_type": "code",
   "execution_count": 1,
   "metadata": {},
   "outputs": [
    {
     "name": "stdout",
     "output_type": "stream",
     "text": [
      "h\n",
      "e\n",
      "l\n",
      "l\n",
      "o\n",
      " \n",
      "w\n",
      "o\n",
      "r\n",
      "l\n",
      "d\n"
     ]
    }
   ],
   "source": [
    "a='hello world'\n",
    "for i in a:\n",
    "    if i=='':\n",
    "        break\n",
    "    else:\n",
    "        print(i)"
   ]
  },
  {
   "cell_type": "code",
   "execution_count": 11,
   "metadata": {},
   "outputs": [
    {
     "name": "stdout",
     "output_type": "stream",
     "text": [
      "h\n",
      "e\n",
      "l\n",
      "l\n",
      "o\n",
      "w\n",
      "o\n",
      "r\n",
      "l\n",
      "d\n"
     ]
    }
   ],
   "source": [
    "\n",
    "a='hello world'\n",
    "for i in a:\n",
    "    if i==' ':\n",
    "        continue\n",
    "    print(i)"
   ]
  },
  {
   "cell_type": "code",
   "execution_count": 2,
   "metadata": {},
   "outputs": [],
   "source": [
    "#pass ..this is executed but does nothing...comment i other hand is ignored as a whole\n",
    "def add():\n",
    "    pass\n",
    "add()"
   ]
  },
  {
   "cell_type": "code",
   "execution_count": 3,
   "metadata": {},
   "outputs": [
    {
     "name": "stdout",
     "output_type": "stream",
     "text": [
      "h\n",
      "e\n",
      "l\n",
      "l\n",
      "o\n",
      " \n",
      "w\n",
      "o\n",
      "r\n",
      "l\n",
      "d\n"
     ]
    }
   ],
   "source": [
    "a='hello world'\n",
    "for i in a:\n",
    "    if a==' ':\n",
    "        pass\n",
    "    print(i)"
   ]
  },
  {
   "cell_type": "code",
   "execution_count": 6,
   "metadata": {},
   "outputs": [
    {
     "name": "stdout",
     "output_type": "stream",
     "text": [
      "enter any number=4\n",
      "prime number\n"
     ]
    }
   ],
   "source": [
    "\n",
    "n= int(input(\"enter any number=\"))\n",
    "\n",
    "for i in range(1,n):\n",
    "    if (n%i ==0) and (n%n==0):\n",
    "        print(\"prime number\")\n",
    "        break\n",
    "    else:\n",
    "        print(\"composite number\")\n",
    "        \n",
    "  \n",
    "    \n",
    "    \n"
   ]
  },
  {
   "cell_type": "code",
   "execution_count": 12,
   "metadata": {},
   "outputs": [
    {
     "name": "stdout",
     "output_type": "stream",
     "text": [
      "enter any number=9\n"
     ]
    },
    {
     "data": {
      "text/plain": [
       "4"
      ]
     },
     "execution_count": 12,
     "metadata": {},
     "output_type": "execute_result"
    }
   ],
   "source": [
    "n= int(input(\"enter any number=\"))\n",
    "n//2\n"
   ]
  },
  {
   "cell_type": "code",
   "execution_count": null,
   "metadata": {},
   "outputs": [],
   "source": []
  }
 ],
 "metadata": {
  "kernelspec": {
   "display_name": "Python 3",
   "language": "python",
   "name": "python3"
  },
  "language_info": {
   "codemirror_mode": {
    "name": "ipython",
    "version": 3
   },
   "file_extension": ".py",
   "mimetype": "text/x-python",
   "name": "python",
   "nbconvert_exporter": "python",
   "pygments_lexer": "ipython3",
   "version": "3.7.4"
  }
 },
 "nbformat": 4,
 "nbformat_minor": 2
}
