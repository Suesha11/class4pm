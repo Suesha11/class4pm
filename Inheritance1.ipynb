{
 "cells": [
  {
   "cell_type": "code",
   "execution_count": 1,
   "metadata": {},
   "outputs": [],
   "source": [
    "#private protected and public\n",
    "\n",
    "#private - can only be accessed by a particular class \n",
    "#protected= can be accessed by inherited class\n",
    "#public -can be accessed anywhere"
   ]
  },
  {
   "cell_type": "code",
   "execution_count": 2,
   "metadata": {},
   "outputs": [
    {
     "name": "stdout",
     "output_type": "stream",
     "text": [
      "ram\n"
     ]
    }
   ],
   "source": [
    "#public\n",
    "\n",
    "class Info:\n",
    "    def __init__(self,name,age,add): #making it public\n",
    "        self.name=name\n",
    "        self.age=age\n",
    "        self.address=add\n",
    "        \n",
    "    def infos(this):\n",
    "        print(f\"hi i am {self.name}.I am {self.age}.I live in {self.address}\")\n",
    "        \n",
    "obj=Info(\"ram\",23,\"kapan\")\n",
    "obj.infos\n",
    "\n",
    "\n",
    "print(obj.name)"
   ]
  },
  {
   "cell_type": "code",
   "execution_count": 4,
   "metadata": {},
   "outputs": [
    {
     "name": "stdout",
     "output_type": "stream",
     "text": [
      "ram\n",
      "23\n",
      "kapan\n"
     ]
    }
   ],
   "source": [
    "#protected\n",
    "\n",
    "class Info:\n",
    "    def __init__(self,name,age,add): #making it public\n",
    "        self._name=name#single underscore for protected\n",
    "        self._age=age\n",
    "        self.address=add\n",
    "        \n",
    "    def infos(this):\n",
    "        print(f\"hi i am {self._name}.I am {self._age}.I live in {self.address}\")\n",
    "        \n",
    "obj=Info(\"ram\",23,\"kapan\")\n",
    "obj.infos\n",
    "\n",
    "\n",
    "print(obj._name)\n",
    "print(obj._age)#protected can be called with an underscore from outside the class\n",
    "print(obj.address)"
   ]
  },
  {
   "cell_type": "code",
   "execution_count": 6,
   "metadata": {},
   "outputs": [
    {
     "name": "stdout",
     "output_type": "stream",
     "text": [
      "hi i am ram.I am 23.I live in kapan\n"
     ]
    },
    {
     "ename": "AttributeError",
     "evalue": "'Info' object has no attribute '_name'",
     "output_type": "error",
     "traceback": [
      "\u001b[1;31m---------------------------------------------------------------------------\u001b[0m",
      "\u001b[1;31mAttributeError\u001b[0m                            Traceback (most recent call last)",
      "\u001b[1;32m<ipython-input-6-7bb3dfe11877>\u001b[0m in \u001b[0;36m<module>\u001b[1;34m\u001b[0m\n\u001b[0;32m     14\u001b[0m \u001b[1;33m\u001b[0m\u001b[0m\n\u001b[0;32m     15\u001b[0m \u001b[1;33m\u001b[0m\u001b[0m\n\u001b[1;32m---> 16\u001b[1;33m \u001b[0mprint\u001b[0m\u001b[1;33m(\u001b[0m\u001b[0mobj\u001b[0m\u001b[1;33m.\u001b[0m\u001b[0m_name\u001b[0m\u001b[1;33m)\u001b[0m\u001b[1;33m\u001b[0m\u001b[1;33m\u001b[0m\u001b[0m\n\u001b[0m\u001b[0;32m     17\u001b[0m \u001b[0mprint\u001b[0m\u001b[1;33m(\u001b[0m\u001b[0mobj\u001b[0m\u001b[1;33m.\u001b[0m\u001b[0m_age\u001b[0m\u001b[1;33m)\u001b[0m\u001b[1;31m#protected can be called with an underscore from outside the class\u001b[0m\u001b[1;33m\u001b[0m\u001b[1;33m\u001b[0m\u001b[0m\n\u001b[0;32m     18\u001b[0m \u001b[0mprint\u001b[0m\u001b[1;33m(\u001b[0m\u001b[0mobj\u001b[0m\u001b[1;33m.\u001b[0m\u001b[0maddress\u001b[0m\u001b[1;33m)\u001b[0m\u001b[1;33m\u001b[0m\u001b[1;33m\u001b[0m\u001b[0m\n",
      "\u001b[1;31mAttributeError\u001b[0m: 'Info' object has no attribute '_name'"
     ]
    }
   ],
   "source": [
    "#private\n",
    "\n",
    "class Info:\n",
    "    def __init__(self,name,age,add): #making it public\n",
    "        self.__name=name#doubleunderscore for private..only use in this class..bahira bata access garna didaina sajilai\n",
    "        self._age=age#protected\n",
    "        self.address=add#public\n",
    "        \n",
    "    def infos(this):\n",
    "        print(f\"hi i am {this.__name}.I am {this._age}.I live in {this.address}\")\n",
    "        \n",
    "obj=Info(\"ram\",23,\"kapan\")\n",
    "obj.infos()\n",
    "\n",
    "\n",
    "print(obj.__name) #private lai ya bataa call garna didaina tara euts trick cha..print(obj._Info__name): info bhannne class ma\n",
    "                 #.....name bhanne private ko lai protectedma chnage gareko\n",
    "print(obj._age)#protected can be called with an underscore from outside the class\n",
    "print(obj.address)"
   ]
  },
  {
   "cell_type": "code",
   "execution_count": 8,
   "metadata": {},
   "outputs": [
    {
     "name": "stdout",
     "output_type": "stream",
     "text": [
      "the volume is 30\n"
     ]
    }
   ],
   "source": [
    "class Area:\n",
    "    def __init__(self,l,b):\n",
    "        self._l=l\n",
    "        self.__b=b\n",
    "    def area(self):\n",
    "        return self._l*self.__b\n",
    "    \n",
    "class Height:\n",
    "    def __init__(self,h):\n",
    "        self.h=h\n",
    "        \n",
    "    def height(self):\n",
    "        return self.h\n",
    "    \n",
    "a=Area(3,5)\n",
    "h=Height(2)\n",
    "c=a.area()\n",
    "d=h.height()\n",
    "volume=c*d\n",
    "print(\"the volume is\",volume)\n",
    "        "
   ]
  },
  {
   "cell_type": "code",
   "execution_count": 13,
   "metadata": {},
   "outputs": [
    {
     "name": "stdout",
     "output_type": "stream",
     "text": [
      "hi i am ram.I am 34.I live in kapan\n",
      "ram 34\n"
     ]
    }
   ],
   "source": [
    "#when there is multiple class\n",
    "class Profile:\n",
    "    def __init__(self,name,age):\n",
    "        self._name=name\n",
    "        self.__age=age\n",
    "        \n",
    "        \n",
    "    def show(self):\n",
    "        print(self._name ,self.__age)\n",
    "        \n",
    "class Hr(Profile):\n",
    "    \n",
    "    def __init__(self,name,age,address):\n",
    "        Profile.__init__(self,name,age)\n",
    "        self.address=address\n",
    "        \n",
    "    def text(self):\n",
    "        print(f\"hi i am {self._name}.I am {self._Profile__age}.I live in {self.address}\")\n",
    "        \n",
    "obj=Hr(\"ram\",34,\"kapan\")\n",
    "obj.text()\n",
    "obj.show()"
   ]
  },
  {
   "cell_type": "code",
   "execution_count": 21,
   "metadata": {},
   "outputs": [
    {
     "name": "stdout",
     "output_type": "stream",
     "text": [
      "suesha 23\n"
     ]
    },
    {
     "ename": "AttributeError",
     "evalue": "'Hr' object has no attribute 'name'",
     "output_type": "error",
     "traceback": [
      "\u001b[1;31m---------------------------------------------------------------------------\u001b[0m",
      "\u001b[1;31mAttributeError\u001b[0m                            Traceback (most recent call last)",
      "\u001b[1;32m<ipython-input-21-5cfeb5a4acaa>\u001b[0m in \u001b[0;36m<module>\u001b[1;34m\u001b[0m\n\u001b[0;32m     22\u001b[0m \u001b[1;33m\u001b[0m\u001b[0m\n\u001b[0;32m     23\u001b[0m \u001b[0mobj\u001b[0m\u001b[1;33m=\u001b[0m\u001b[0mHr\u001b[0m\u001b[1;33m(\u001b[0m\u001b[1;34m\"suesha\"\u001b[0m\u001b[1;33m,\u001b[0m\u001b[1;36m23\u001b[0m\u001b[1;33m)\u001b[0m\u001b[1;33m\u001b[0m\u001b[1;33m\u001b[0m\u001b[0m\n\u001b[1;32m---> 24\u001b[1;33m \u001b[0mobj\u001b[0m\u001b[1;33m.\u001b[0m\u001b[0mshow\u001b[0m\u001b[1;33m(\u001b[0m\u001b[1;33m)\u001b[0m\u001b[1;33m\u001b[0m\u001b[1;33m\u001b[0m\u001b[0m\n\u001b[0m",
      "\u001b[1;32m<ipython-input-21-5cfeb5a4acaa>\u001b[0m in \u001b[0;36mshow\u001b[1;34m(self)\u001b[0m\n\u001b[0;32m      8\u001b[0m \u001b[1;33m\u001b[0m\u001b[0m\n\u001b[0;32m      9\u001b[0m     \u001b[1;32mdef\u001b[0m \u001b[0mshow\u001b[0m\u001b[1;33m(\u001b[0m\u001b[0mself\u001b[0m\u001b[1;33m)\u001b[0m\u001b[1;33m:\u001b[0m\u001b[1;33m\u001b[0m\u001b[1;33m\u001b[0m\u001b[0m\n\u001b[1;32m---> 10\u001b[1;33m         \u001b[0mprint\u001b[0m\u001b[1;33m(\u001b[0m\u001b[0mself\u001b[0m\u001b[1;33m.\u001b[0m\u001b[0mname\u001b[0m \u001b[1;33m,\u001b[0m\u001b[0mself\u001b[0m\u001b[1;33m.\u001b[0m\u001b[0mage\u001b[0m\u001b[1;33m)\u001b[0m\u001b[1;33m\u001b[0m\u001b[1;33m\u001b[0m\u001b[0m\n\u001b[0m\u001b[0;32m     11\u001b[0m \u001b[1;33m\u001b[0m\u001b[0m\n\u001b[0;32m     12\u001b[0m \u001b[1;32mclass\u001b[0m \u001b[0mHr\u001b[0m\u001b[1;33m(\u001b[0m\u001b[0mProfile\u001b[0m\u001b[1;33m)\u001b[0m\u001b[1;33m:\u001b[0m\u001b[1;33m\u001b[0m\u001b[1;33m\u001b[0m\u001b[0m\n",
      "\u001b[1;31mAttributeError\u001b[0m: 'Hr' object has no attribute 'name'"
     ]
    }
   ],
   "source": [
    "#when there is multiple class\n",
    "class Profile:\n",
    "    def __init__(self,name,age):\n",
    "        self.name=name\n",
    "        self.age=age\n",
    "        print(self.name ,self.age)\n",
    "        \n",
    "        \n",
    "    def show(self):\n",
    "        print(self.name ,self.age)\n",
    "        \n",
    "class Hr(Profile):\n",
    "    \n",
    "    def __init__(self,n,a):\n",
    "        \n",
    "        self.n=n\n",
    "        self.a=a\n",
    "        print(self.n ,self.a)\n",
    "        \n",
    "   \n",
    "        \n",
    "\n",
    "obj=Hr(\"suesha\",23)\n",
    "obj.show()"
   ]
  },
  {
   "cell_type": "code",
   "execution_count": 22,
   "metadata": {},
   "outputs": [
    {
     "name": "stdout",
     "output_type": "stream",
     "text": [
      "hi i am ram.I am 34.I live in kapan\n"
     ]
    },
    {
     "data": {
      "text/plain": [
       "34"
      ]
     },
     "execution_count": 22,
     "metadata": {},
     "output_type": "execute_result"
    }
   ],
   "source": [
    "#using super function\n",
    "class Profile:\n",
    "    def __init__(self,name,age):\n",
    "        self._name=name\n",
    "        self.__age=age\n",
    "        \n",
    "        \n",
    "    def show(self):\n",
    "        return self.__age\n",
    "        \n",
    "class Hr(Profile):\n",
    "    \n",
    "    def __init__(self,name,age,address):\n",
    "        Profile.__init__(self,name,age)\n",
    "        self.address=address\n",
    "        \n",
    "    def text(self):\n",
    "        print(f\"hi i am {self._name}.I am {super().show()}.I live in {self.address}\") #super() use garera private data lai taniyo\n",
    "        \n",
    "obj=Hr(\"ram\",34,\"kapan\")\n",
    "obj.text()\n",
    "obj.show()"
   ]
  },
  {
   "cell_type": "code",
   "execution_count": null,
   "metadata": {},
   "outputs": [],
   "source": []
  }
 ],
 "metadata": {
  "kernelspec": {
   "display_name": "Python 3",
   "language": "python",
   "name": "python3"
  },
  "language_info": {
   "codemirror_mode": {
    "name": "ipython",
    "version": 3
   },
   "file_extension": ".py",
   "mimetype": "text/x-python",
   "name": "python",
   "nbconvert_exporter": "python",
   "pygments_lexer": "ipython3",
   "version": "3.7.4"
  }
 },
 "nbformat": 4,
 "nbformat_minor": 2
}
