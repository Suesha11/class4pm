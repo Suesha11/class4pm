{
 "cells": [
  {
   "cell_type": "code",
   "execution_count": 1,
   "metadata": {},
   "outputs": [
    {
     "ename": "SyntaxError",
     "evalue": "invalid syntax (<ipython-input-1-b8fc44bd8070>, line 3)",
     "output_type": "error",
     "traceback": [
      "\u001b[1;36m  File \u001b[1;32m\"<ipython-input-1-b8fc44bd8070>\"\u001b[1;36m, line \u001b[1;32m3\u001b[0m\n\u001b[1;33m    def <function_name>():\u001b[0m\n\u001b[1;37m        ^\u001b[0m\n\u001b[1;31mSyntaxError\u001b[0m\u001b[1;31m:\u001b[0m invalid syntax\n"
     ]
    }
   ],
   "source": [
    "#function declaration syntax\n",
    "\n",
    "def <function_name>():\n",
    "    \n",
    "    <operations>\n",
    "\n",
    "<function_name>() #function call\n",
    "\n",
    "\n"
   ]
  },
  {
   "cell_type": "code",
   "execution_count": 1,
   "metadata": {},
   "outputs": [
    {
     "name": "stdout",
     "output_type": "stream",
     "text": [
      "5\n"
     ]
    }
   ],
   "source": [
    "def area():\n",
    "    \n",
    "    print(a+b)\n",
    "    \n",
    "a=2 #global variables\n",
    "b=3\n",
    "\n",
    "area()"
   ]
  },
  {
   "cell_type": "code",
   "execution_count": 2,
   "metadata": {},
   "outputs": [
    {
     "name": "stdout",
     "output_type": "stream",
     "text": [
      "6\n"
     ]
    }
   ],
   "source": [
    "a=2 #global variables\n",
    "b=3\n",
    "\n",
    "def area():\n",
    "    print(a*b)\n",
    "\n",
    "area()"
   ]
  },
  {
   "cell_type": "code",
   "execution_count": 7,
   "metadata": {},
   "outputs": [
    {
     "name": "stdout",
     "output_type": "stream",
     "text": [
      "12\n"
     ]
    }
   ],
   "source": [
    "def volume(l,b):\n",
    "    \n",
    "    l=2 #local variables\n",
    "    b=2\n",
    "    h=3\n",
    "    \n",
    "    print(l*b*h)\n",
    " \n",
    "volume(2,3)\n",
    "    \n",
    "    "
   ]
  },
  {
   "cell_type": "code",
   "execution_count": 9,
   "metadata": {},
   "outputs": [
    {
     "name": "stdout",
     "output_type": "stream",
     "text": [
      "the value of p =2\n",
      "the valueof t = 3\n",
      "the value of r =4\n",
      "0.24\n"
     ]
    }
   ],
   "source": [
    "def simpleinterest():\n",
    "    p = int(input(\"the value of p =\"))\n",
    "    t = int(input(\"the valueof t = \"))\n",
    "    r = int(input(\"the value of r =\"))\n",
    "    \n",
    "    si = p*t*r/100\n",
    "    print(si)\n",
    "    \n",
    "simpleinterest()    "
   ]
  },
  {
   "cell_type": "code",
   "execution_count": 10,
   "metadata": {},
   "outputs": [
    {
     "name": "stdout",
     "output_type": "stream",
     "text": [
      "the value of p =2\n",
      "the valueof t = 3\n",
      "the value of r =5\n",
      "0.3\n"
     ]
    }
   ],
   "source": [
    "p = int(input(\"the value of p =\"))\n",
    "t = int(input(\"the valueof t = \"))\n",
    "r = int(input(\"the value of r =\"))\n",
    "si = p*t*r/100\n",
    "\n",
    "def simpleinterest():\n",
    "    \n",
    "    print(si)\n",
    "    \n",
    "simpleinterest()\n",
    "    \n",
    "    "
   ]
  },
  {
   "cell_type": "code",
   "execution_count": 11,
   "metadata": {},
   "outputs": [
    {
     "name": "stdout",
     "output_type": "stream",
     "text": [
      "the area is 8\n"
     ]
    }
   ],
   "source": [
    "#function paramters with arguments\n",
    "\n",
    "def area(l,b):\n",
    "    \n",
    "    print(\"the area is\",l*b)\n",
    "area(2,4)    "
   ]
  },
  {
   "cell_type": "code",
   "execution_count": 12,
   "metadata": {},
   "outputs": [
    {
     "name": "stdout",
     "output_type": "stream",
     "text": [
      "the area is 12\n"
     ]
    }
   ],
   "source": [
    "l= 3\n",
    "b= 4\n",
    "\n",
    "def area(x,y):\n",
    "    print(\"the area is\", l*b)\n",
    "area(2,2)    "
   ]
  },
  {
   "cell_type": "code",
   "execution_count": 13,
   "metadata": {},
   "outputs": [
    {
     "name": "stdout",
     "output_type": "stream",
     "text": [
      "the area is 4\n"
     ]
    }
   ],
   "source": [
    "l= 3\n",
    "b= 4\n",
    "\n",
    "def area(x,y):\n",
    "    print(\"the area is\", x*y)\n",
    "area(2,2)"
   ]
  },
  {
   "cell_type": "code",
   "execution_count": 15,
   "metadata": {},
   "outputs": [
    {
     "name": "stdout",
     "output_type": "stream",
     "text": [
      "length =2\n",
      "breadth =6\n",
      "the area is 12\n"
     ]
    }
   ],
   "source": [
    "def area(x,y):\n",
    "    \n",
    "    print(\"the area is\",x*y)\n",
    "    \n",
    "l = int(input(\"length =\"))\n",
    "b = int(input(\"breadth =\"))\n",
    "\n",
    "area(l,b)"
   ]
  },
  {
   "cell_type": "code",
   "execution_count": 3,
   "metadata": {},
   "outputs": [
    {
     "name": "stdout",
     "output_type": "stream",
     "text": [
      "hello i am suesha\n",
      "i live in kapan\n",
      "i study at kct\n",
      "hello i am suesha i live in kapan i study at kct\n"
     ]
    }
   ],
   "source": [
    "def intro():\n",
    "    \n",
    "    p= input(\"hello i am \")\n",
    "    q = input(\"i live in \")\n",
    "    r= input(\"i study at \")\n",
    "    \n",
    "    print(\"hello i am\",p + \" i live in\",q + \" i study at\",r)\n",
    "    \n",
    "intro()    "
   ]
  },
  {
   "cell_type": "code",
   "execution_count": 4,
   "metadata": {},
   "outputs": [
    {
     "name": "stdout",
     "output_type": "stream",
     "text": [
      "hello i am suesha i live in kapan i study at kct\n"
     ]
    }
   ],
   "source": [
    "def intro(a,b,c):\n",
    "    \n",
    "  \n",
    "    print(\"hello i am\",a + \" i live in\",b + \" i study at\",c)\n",
    "    \n",
    "intro(\"suesha\", \"kapan\", \"kct\")    "
   ]
  },
  {
   "cell_type": "code",
   "execution_count": 5,
   "metadata": {},
   "outputs": [
    {
     "name": "stdout",
     "output_type": "stream",
     "text": [
      "hello i am suesha\n",
      "i live in kapan\n",
      "i study at kct\n",
      "hello i am suesha i live in kapan i study at kct\n"
     ]
    }
   ],
   "source": [
    "def intro(a,b,c):\n",
    "    \n",
    "    p= input(\"hello i am \")\n",
    "    q = input(\"i live in \")\n",
    "    r= input(\"i study at \")\n",
    "    \n",
    "    print(\"hello i am\",p + \" i live in\",q + \" i study at\",r)\n",
    "    \n",
    "intro(\"s\", \"k\", \"k\")    "
   ]
  },
  {
   "cell_type": "code",
   "execution_count": 6,
   "metadata": {},
   "outputs": [
    {
     "name": "stdout",
     "output_type": "stream",
     "text": [
      "hello i am suesha\n",
      "i live in kapan\n",
      "i study at kct\n",
      "hello i am s i live in k i study at k\n"
     ]
    }
   ],
   "source": [
    "def intro(a,b,c):\n",
    "    \n",
    "    p= input(\"hello i am \")\n",
    "    q = input(\"i live in \")\n",
    "    r= input(\"i study at \")\n",
    "    \n",
    "    print(\"hello i am\",a + \" i live in\",b + \" i study at\",c)\n",
    "    \n",
    "intro(\"s\", \"k\", \"k\")    "
   ]
  },
  {
   "cell_type": "code",
   "execution_count": null,
   "metadata": {},
   "outputs": [],
   "source": []
  }
 ],
 "metadata": {
  "kernelspec": {
   "display_name": "Python 3",
   "language": "python",
   "name": "python3"
  },
  "language_info": {
   "codemirror_mode": {
    "name": "ipython",
    "version": 3
   },
   "file_extension": ".py",
   "mimetype": "text/x-python",
   "name": "python",
   "nbconvert_exporter": "python",
   "pygments_lexer": "ipython3",
   "version": "3.7.4"
  }
 },
 "nbformat": 4,
 "nbformat_minor": 2
}
