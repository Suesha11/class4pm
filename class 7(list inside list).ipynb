{
 "cells": [
  {
   "cell_type": "code",
   "execution_count": 1,
   "metadata": {},
   "outputs": [
    {
     "name": "stdout",
     "output_type": "stream",
     "text": [
      "the volume is = 120\n"
     ]
    }
   ],
   "source": [
    "#list as an argument\n",
    "\n",
    "def volume(x):\n",
    "    l,b,h=x\n",
    "    print(\"the volume is =\",l*b*h)\n",
    "\n",
    "x=[4,5,6]\n",
    "volume(x)\n",
    "    "
   ]
  },
  {
   "cell_type": "code",
   "execution_count": 2,
   "metadata": {},
   "outputs": [
    {
     "name": "stdout",
     "output_type": "stream",
     "text": [
      "the volume is = 120\n"
     ]
    }
   ],
   "source": [
    "#list as an argument\n",
    "\n",
    "def volume(x):\n",
    "    l,b,h,_=x #_also is a variable and it stores the value\n",
    "    print(\"the volume is =\",l*b*h)\n",
    "\n",
    "x=[4,5,6,7]\n",
    "volume(x)\n",
    "    "
   ]
  },
  {
   "cell_type": "code",
   "execution_count": 4,
   "metadata": {},
   "outputs": [
    {
     "data": {
      "text/plain": [
       "['cat', 'dog', 'apple']"
      ]
     },
     "execution_count": 4,
     "metadata": {},
     "output_type": "execute_result"
    }
   ],
   "source": [
    "#remove- related with value\n",
    "#delete - related with index\n",
    "\n",
    "a=['apple','cat','dog','apple']\n",
    "del a[0]\n",
    "a"
   ]
  },
  {
   "cell_type": "code",
   "execution_count": 5,
   "metadata": {},
   "outputs": [
    {
     "data": {
      "text/plain": [
       "['apple']"
      ]
     },
     "execution_count": 5,
     "metadata": {},
     "output_type": "execute_result"
    }
   ],
   "source": [
    "a=['apple','cat','dog','apple']\n",
    "del a[0:3] #delete 0,1 and 2\n",
    "a"
   ]
  },
  {
   "cell_type": "code",
   "execution_count": 6,
   "metadata": {},
   "outputs": [
    {
     "data": {
      "text/plain": [
       "['cat', 'apple']"
      ]
     },
     "execution_count": 6,
     "metadata": {},
     "output_type": "execute_result"
    }
   ],
   "source": [
    "a=['apple','cat','dog','apple']\n",
    "del a[0:4:2] #2 is the skip\n",
    "a"
   ]
  },
  {
   "cell_type": "code",
   "execution_count": 9,
   "metadata": {},
   "outputs": [
    {
     "data": {
      "text/plain": [
       "['apple', 'dog', 'apple']"
      ]
     },
     "execution_count": 9,
     "metadata": {},
     "output_type": "execute_result"
    }
   ],
   "source": [
    "a=['apple','cat','dog','apple']\n",
    "a.remove('cat')\n",
    "a"
   ]
  },
  {
   "cell_type": "code",
   "execution_count": 12,
   "metadata": {},
   "outputs": [
    {
     "name": "stdout",
     "output_type": "stream",
     "text": [
      "['apple', 'cat', 'dog', 'apple']\n",
      "['cat', 'dog', 'apple']\n",
      "['cat', 'dog']\n"
     ]
    }
   ],
   "source": [
    "a=['apple','apple','cat','dog','apple']\n",
    "b='apple'\n",
    "\n",
    "x= a.count('apple')\n",
    "for i in range(x):\n",
    "    a.remove(b)\n",
    "\n",
    "    print(a)"
   ]
  },
  {
   "cell_type": "code",
   "execution_count": 14,
   "metadata": {},
   "outputs": [
    {
     "data": {
      "text/plain": [
       "['ant', 'cat', 'dog', 'apple']"
      ]
     },
     "execution_count": 14,
     "metadata": {},
     "output_type": "execute_result"
    }
   ],
   "source": [
    "a=['apple','cat','dog','apple']\n",
    "a[0]='ant'\n",
    "a"
   ]
  },
  {
   "cell_type": "code",
   "execution_count": 29,
   "metadata": {},
   "outputs": [
    {
     "data": {
      "text/plain": [
       "0"
      ]
     },
     "execution_count": 29,
     "metadata": {},
     "output_type": "execute_result"
    }
   ],
   "source": [
    "a.index('cat') #index return one value at once\n",
    "\n",
    "\n"
   ]
  },
  {
   "cell_type": "code",
   "execution_count": 30,
   "metadata": {},
   "outputs": [
    {
     "name": "stdout",
     "output_type": "stream",
     "text": [
      "enter the string to be replacedsds\n",
      "enter the value for replacing=adsas\n"
     ]
    },
    {
     "data": {
      "text/plain": [
       "3"
      ]
     },
     "execution_count": 30,
     "metadata": {},
     "output_type": "execute_result"
    }
   ],
   "source": [
    "a=['apple','ball','cat','apple','monkey','apple']\n",
    "x= input(\"enter the string to be replaced\")\n",
    "y= input(\"enter the value for replacing=\")\n",
    "z = a.count('apple')\n",
    "\n",
    "for i in range(z):\n",
    "    index=a.index(x)\n"
   ]
  },
  {
   "cell_type": "code",
   "execution_count": 32,
   "metadata": {},
   "outputs": [
    {
     "data": {
      "text/plain": [
       "3"
      ]
     },
     "execution_count": 32,
     "metadata": {},
     "output_type": "execute_result"
    }
   ],
   "source": [
    "#list inside list\n",
    "\n",
    "a=[[],[],[]]\n",
    "len(a)"
   ]
  },
  {
   "cell_type": "code",
   "execution_count": 36,
   "metadata": {},
   "outputs": [
    {
     "name": "stdout",
     "output_type": "stream",
     "text": [
      "[1, 2, 3]\n",
      "1\n"
     ]
    }
   ],
   "source": [
    "a=[[1,2,3],\n",
    "   [4,5,6],\n",
    "   [7,8,9]]\n",
    "len(a)\n",
    "print(a[0])\n",
    "print(a[0][0])\n"
   ]
  },
  {
   "cell_type": "code",
   "execution_count": 1,
   "metadata": {},
   "outputs": [
    {
     "name": "stdout",
     "output_type": "stream",
     "text": [
      "enter n=2\n",
      "enter the namesasda\n",
      "enter the age12\n",
      "enter addresssdf\n",
      "enter the namexdf\n",
      "enter the age12\n",
      "enter addresssdfsd\n",
      "[[1, 'sasda', 12, 'sdf'], [2, 'xdf', 12, 'sdfsd']]\n"
     ]
    }
   ],
   "source": [
    "n=int(input(\"enter n=\"))\n",
    "info=[] # empty list define\n",
    "\n",
    "for i in range(n):\n",
    "    name=input(\"enter the name\")\n",
    "    age=int(input(\"enter the age\"))\n",
    "    address=input(\"enter address\")\n",
    "    info.append([i+1,name,age,address])\n",
    "    \n",
    "print(info)\n",
    "    "
   ]
  },
  {
   "cell_type": "code",
   "execution_count": 44,
   "metadata": {},
   "outputs": [
    {
     "name": "stdout",
     "output_type": "stream",
     "text": [
      "enter roll i.e index0\n",
      "[0, 'shyam', 45, 'kapan']\n"
     ]
    }
   ],
   "source": [
    "#reading the value\n",
    "x=int(input(\"enter roll i.e index\"))\n",
    "print(info[x])"
   ]
  },
  {
   "cell_type": "code",
   "execution_count": 45,
   "metadata": {},
   "outputs": [
    {
     "name": "stdout",
     "output_type": "stream",
     "text": [
      "enter n=3\n",
      "[[1, 2, 3, 4, 5], [1, 2, 3, 4, 5], [1, 2, 3, 4, 5]]\n"
     ]
    }
   ],
   "source": [
    "n=int(input(\"enter n=\"))\n",
    "info=[] # empty list define\n",
    "\n",
    "for i in range(n):\n",
    " \n",
    "    info.append([1,2,3,4,5])\n",
    "    \n",
    "print(info)\n",
    "    "
   ]
  },
  {
   "cell_type": "code",
   "execution_count": 5,
   "metadata": {},
   "outputs": [
    {
     "name": "stdout",
     "output_type": "stream",
     "text": [
      "enter the number of students1\n",
      "enter the name=ssd\n",
      "enter the mark of dsa12\n",
      "enter the mark of compiler12\n",
      "enter the mark of oop12\n"
     ]
    },
    {
     "ename": "TypeError",
     "evalue": "'NoneType' object is not callable",
     "output_type": "error",
     "traceback": [
      "\u001b[1;31m---------------------------------------------------------------------------\u001b[0m",
      "\u001b[1;31mTypeError\u001b[0m                                 Traceback (most recent call last)",
      "\u001b[1;32m<ipython-input-5-b0f4a3644ecc>\u001b[0m in \u001b[0;36m<module>\u001b[1;34m\u001b[0m\n\u001b[0;32m     11\u001b[0m     \u001b[0mcompiler\u001b[0m \u001b[1;33m=\u001b[0m \u001b[0mint\u001b[0m\u001b[1;33m(\u001b[0m\u001b[0minput\u001b[0m\u001b[1;33m(\u001b[0m\u001b[1;34m\"enter the mark of compiler\"\u001b[0m\u001b[1;33m)\u001b[0m\u001b[1;33m)\u001b[0m\u001b[1;33m\u001b[0m\u001b[1;33m\u001b[0m\u001b[0m\n\u001b[0;32m     12\u001b[0m     \u001b[0moop\u001b[0m\u001b[1;33m=\u001b[0m \u001b[0mint\u001b[0m\u001b[1;33m(\u001b[0m\u001b[0minput\u001b[0m\u001b[1;33m(\u001b[0m\u001b[1;34m\"enter the mark of oop\"\u001b[0m\u001b[1;33m)\u001b[0m\u001b[1;33m)\u001b[0m\u001b[1;33m\u001b[0m\u001b[1;33m\u001b[0m\u001b[0m\n\u001b[1;32m---> 13\u001b[1;33m     \u001b[0mtotal\u001b[0m\u001b[1;33m=\u001b[0m\u001b[0msum\u001b[0m\u001b[1;33m(\u001b[0m\u001b[1;33m[\u001b[0m\u001b[0mdsa\u001b[0m\u001b[1;33m,\u001b[0m\u001b[0mcompiler\u001b[0m\u001b[1;33m,\u001b[0m\u001b[0moop\u001b[0m\u001b[1;33m]\u001b[0m\u001b[1;33m)\u001b[0m\u001b[1;33m\u001b[0m\u001b[1;33m\u001b[0m\u001b[0m\n\u001b[0m\u001b[0;32m     14\u001b[0m     \u001b[0mper\u001b[0m\u001b[1;33m=\u001b[0m\u001b[0mtotal\u001b[0m\u001b[1;33m/\u001b[0m\u001b[1;36m3\u001b[0m\u001b[1;33m\u001b[0m\u001b[1;33m\u001b[0m\u001b[0m\n\u001b[0;32m     15\u001b[0m \u001b[1;33m\u001b[0m\u001b[0m\n",
      "\u001b[1;31mTypeError\u001b[0m: 'NoneType' object is not callable"
     ]
    }
   ],
   "source": [
    "#result print\n",
    "\n",
    "\n",
    "    \n",
    "result=[]  \n",
    "n = int(input(\"enter the number of students\"))\n",
    "\n",
    "for i in range(n):\n",
    "    name=input(\"enter the name=\")\n",
    "    dsa= int(input(\"enter the mark of dsa\"))\n",
    "    compiler = int(input(\"enter the mark of compiler\"))\n",
    "    oop= int(input(\"enter the mark of oop\"))\n",
    "    total=sum([dsa,compiler,oop])\n",
    "    per=total/3\n",
    "  \n",
    "    \n",
    "    result.append([name,dsa,compiler,oop,total,per])\n",
    "    \n",
    "    \n",
    "   \n",
    "\n",
    "print(result)\n",
    "    \n",
    "             "
   ]
  },
  {
   "cell_type": "markdown",
   "metadata": {},
   "source": [
    "# "
   ]
  }
 ],
 "metadata": {
  "kernelspec": {
   "display_name": "Python 3",
   "language": "python",
   "name": "python3"
  },
  "language_info": {
   "codemirror_mode": {
    "name": "ipython",
    "version": 3
   },
   "file_extension": ".py",
   "mimetype": "text/x-python",
   "name": "python",
   "nbconvert_exporter": "python",
   "pygments_lexer": "ipython3",
   "version": "3.8.5"
  }
 },
 "nbformat": 4,
 "nbformat_minor": 2
}
