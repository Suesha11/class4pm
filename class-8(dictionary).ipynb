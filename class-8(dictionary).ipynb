{
 "cells": [
  {
   "cell_type": "code",
   "execution_count": null,
   "metadata": {},
   "outputs": [],
   "source": [
    "# a={<index>:<value>,<index>:<value>}\n"
   ]
  },
  {
   "cell_type": "code",
   "execution_count": 1,
   "metadata": {},
   "outputs": [
    {
     "name": "stdout",
     "output_type": "stream",
     "text": [
      "{'name': 'suesha', 'age': 12, 'address': 'kapan'}\n"
     ]
    },
    {
     "data": {
      "text/plain": [
       "dict"
      ]
     },
     "execution_count": 1,
     "metadata": {},
     "output_type": "execute_result"
    }
   ],
   "source": [
    "#dictionary has keys and values\n",
    "\n",
    "a={\"name\":\"suesha\",\"age\":12,\"address\":\"kapan\"}\n",
    "print(a)\n",
    "type(a)\n"
   ]
  },
  {
   "cell_type": "code",
   "execution_count": 6,
   "metadata": {},
   "outputs": [
    {
     "name": "stdout",
     "output_type": "stream",
     "text": [
      "suesha\n"
     ]
    }
   ],
   "source": [
    "#accessing items\n",
    "\n",
    "print(a['name'])"
   ]
  },
  {
   "cell_type": "code",
   "execution_count": 3,
   "metadata": {},
   "outputs": [
    {
     "data": {
      "text/plain": [
       "{'animal1': 'cat', 'animal2': 'dog', 'animal3': 'apple'}"
      ]
     },
     "execution_count": 3,
     "metadata": {},
     "output_type": "execute_result"
    }
   ],
   "source": [
    "a={} #empty dictionary initialization\n",
    "a['animal1']=\"cat\"\n",
    "a['animal2']=\"dog\"\n",
    "a['animal3']='apple'\n",
    "a\n",
    "\n"
   ]
  },
  {
   "cell_type": "code",
   "execution_count": 5,
   "metadata": {},
   "outputs": [
    {
     "name": "stdout",
     "output_type": "stream",
     "text": [
      "cat\n"
     ]
    },
    {
     "data": {
      "text/plain": [
       "{'animal1': 'cat', 'animal2': 'dog', 'animal3': 'monkey'}"
      ]
     },
     "execution_count": 5,
     "metadata": {},
     "output_type": "execute_result"
    }
   ],
   "source": [
    "print(a['animal1'])\n",
    "a['animal3']=\"monkey\"\n",
    "a"
   ]
  },
  {
   "cell_type": "code",
   "execution_count": 11,
   "metadata": {},
   "outputs": [
    {
     "name": "stdout",
     "output_type": "stream",
     "text": [
      "ani\n",
      "ani\n",
      "ani\n"
     ]
    }
   ],
   "source": [
    "for i in a:\n",
    "    print(i[0:3])"
   ]
  },
  {
   "cell_type": "code",
   "execution_count": 12,
   "metadata": {},
   "outputs": [
    {
     "name": "stdout",
     "output_type": "stream",
     "text": [
      "cat\n",
      "dog\n",
      "monkey\n"
     ]
    }
   ],
   "source": [
    "for i in a.values():\n",
    "    print(i)"
   ]
  },
  {
   "cell_type": "code",
   "execution_count": 13,
   "metadata": {},
   "outputs": [
    {
     "name": "stdout",
     "output_type": "stream",
     "text": [
      "('animal1', 'cat')\n",
      "('animal2', 'dog')\n",
      "('animal3', 'monkey')\n"
     ]
    }
   ],
   "source": [
    "for i in a.items():\n",
    "    print(i)"
   ]
  },
  {
   "cell_type": "code",
   "execution_count": 15,
   "metadata": {},
   "outputs": [
    {
     "data": {
      "text/plain": [
       "{'b': 'ball', 'c': 'cat'}"
      ]
     },
     "execution_count": 15,
     "metadata": {},
     "output_type": "execute_result"
    }
   ],
   "source": [
    "a={'a':'apple','b':'ball','c':'cat'}\n",
    "\n",
    "del a['a']\n",
    "a"
   ]
  },
  {
   "cell_type": "code",
   "execution_count": 19,
   "metadata": {},
   "outputs": [
    {
     "name": "stdout",
     "output_type": "stream",
     "text": [
      "{'b': 'ball', 'c': 'cat'}\n",
      "apple\n"
     ]
    }
   ],
   "source": [
    "\n",
    "#pop\n",
    "\n",
    "a={'a':'apple','b':'ball','c':'cat'}\n",
    "\n",
    "b=a.pop('a')\n",
    "print(a)\n",
    "print(b)"
   ]
  },
  {
   "cell_type": "code",
   "execution_count": 22,
   "metadata": {},
   "outputs": [
    {
     "data": {
      "text/plain": [
       "{}"
      ]
     },
     "execution_count": 22,
     "metadata": {},
     "output_type": "execute_result"
    }
   ],
   "source": [
    "#clear\n",
    "\n",
    "a={'a':'apple','b':'ball'}\n",
    "a.clear()\n",
    "a"
   ]
  },
  {
   "cell_type": "code",
   "execution_count": 5,
   "metadata": {},
   "outputs": [
    {
     "data": {
      "text/plain": [
       "{1: {'name': 'Ram', 'age': 32},\n",
       " 2: {'name': 'Shyam', 'age': 12},\n",
       " 3: {'name': 'Hari', 'age': 22},\n",
       " 4: {'name': 'gita', 'age': 32}}"
      ]
     },
     "execution_count": 5,
     "metadata": {},
     "output_type": "execute_result"
    }
   ],
   "source": [
    "a={1:{'name':'Ram','age':32},\n",
    "  2:{'name':'Shyam','age':12},\n",
    "  3:{'name':'Hari','age':22}}\n",
    "\n",
    "a[4]={'name':'gita','age':32}\n",
    "a"
   ]
  },
  {
   "cell_type": "code",
   "execution_count": 2,
   "metadata": {},
   "outputs": [
    {
     "data": {
      "text/plain": [
       "{1: {'name': 'Ram', 'age': 32},\n",
       " 2: {'name': 'Shyam', 'age': 12},\n",
       " 3: {'name': 'Hari', 'age': 22}}"
      ]
     },
     "execution_count": 2,
     "metadata": {},
     "output_type": "execute_result"
    }
   ],
   "source": [
    "\n",
    "#dictionary\n",
    "a={1:{'name':'Ram','age':32},\n",
    "  2:{'name':'Shyam','age':12},\n",
    "  3:{'name':'Hari','age':22}}\n",
    "a"
   ]
  },
  {
   "cell_type": "code",
   "execution_count": 6,
   "metadata": {},
   "outputs": [
    {
     "data": {
      "text/plain": [
       "{1: {'name': 'gita', 'age': 32},\n",
       " 2: {'name': 'Shyam', 'age': 12},\n",
       " 3: {'name': 'Hari', 'age': 22}}"
      ]
     },
     "execution_count": 6,
     "metadata": {},
     "output_type": "execute_result"
    }
   ],
   "source": [
    "a={1:{'name':'Ram','age':32},\n",
    "  2:{'name':'Shyam','age':12},\n",
    "  3:{'name':'Hari','age':22}}\n",
    "\n",
    "a[1]={'name':'gita','age':32}\n",
    "a"
   ]
  },
  {
   "cell_type": "code",
   "execution_count": 7,
   "metadata": {},
   "outputs": [
    {
     "data": {
      "text/plain": [
       "{1: {'name': 'Ram', 'age': 32, 'add': 'Nepal'},\n",
       " 2: {'name': 'Shyam', 'age': 12},\n",
       " 3: {'name': 'Hari', 'age': 22}}"
      ]
     },
     "execution_count": 7,
     "metadata": {},
     "output_type": "execute_result"
    }
   ],
   "source": [
    "a={1:{'name':'Ram','age':32},\n",
    "  2:{'name':'Shyam','age':12},\n",
    "  3:{'name':'Hari','age':22}}\n",
    "\n",
    "a[1]['add']=\"Nepal\"\n",
    "a"
   ]
  },
  {
   "cell_type": "code",
   "execution_count": 1,
   "metadata": {},
   "outputs": [
    {
     "name": "stdout",
     "output_type": "stream",
     "text": [
      "enter the no of rows=2\n",
      "enter the name=dsfs\n",
      "enter the math=2\n",
      "enter the physics=2\n",
      "enter the science=2\n",
      "enter the social=4\n",
      "enter the chemistry=4\n",
      "enter the zoology=4\n",
      "enter the name=dfgdf\n",
      "enter the math=3\n",
      "enter the physics=3\n",
      "enter the science=3\n",
      "enter the social=3\n",
      "enter the chemistry=4\n",
      "enter the zoology=3\n",
      "{0: {'name': 'dsfs', 'math': 2, 'physics': 2, 'chemistry': 4, 'zoology': 4, 'total': 18}, 1: {'name': 'dfgdf', 'math': 3, 'physics': 3, 'chemistry': 4, 'zoology': 3, 'total': 19}}\n"
     ]
    }
   ],
   "source": [
    "a={}\n",
    "n= int(input(\"enter the no of rows=\"))\n",
    "\n",
    "for i in range(n):\n",
    "    name=input(\"enter the name=\")\n",
    "    math=int(input(\"enter the math=\"))\n",
    "    physics=int(input(\"enter the physics=\"))\n",
    "    science= int(input(\"enter the science=\"))\n",
    "    social=int(input(\"enter the social=\"))\n",
    "    chemistry=int(input(\"enter the chemistry=\"))\n",
    "    zoology=int(input(\"enter the zoology=\"))\n",
    "    total=[math,physics,science,social,chemistry,zoology]\n",
    "    a[i]={'name':name,'math':math,'physics':physics,'chemistry':chemistry,'zoology':zoology,'total':sum(total)}\n",
    "    \n",
    "    \n",
    "print(a)"
   ]
  },
  {
   "cell_type": "code",
   "execution_count": 2,
   "metadata": {},
   "outputs": [
    {
     "name": "stdout",
     "output_type": "stream",
     "text": [
      "enter the no of rows=1\n",
      "enter the name=dsfsd\n",
      "enter the math=1\n",
      "enter the physics=1\n",
      "enter the social=1\n",
      "enter the chemistry=1\n",
      "enter the zoology=1\n",
      "{'name': ['dsfsd'], 'math': [1], 'physics': [1], 'social': [1], 'chemistry': [1], 'zoology': [1], 'total': [5]}\n"
     ]
    }
   ],
   "source": [
    "\n",
    "\n",
    "#list inside dictionary\n",
    "a={}\n",
    "n= int(input(\"enter the no of rows=\"))\n",
    "na=[]\n",
    "ma=[]\n",
    "phy=[]\n",
    "\n",
    "so=[]\n",
    "che=[]\n",
    "zoo=[]\n",
    "tota=[]\n",
    "\n",
    "for i in range(n):\n",
    "    name=input(\"enter the name=\")\n",
    "    math=int(input(\"enter the math=\"))\n",
    "    physics=int(input(\"enter the physics=\"))\n",
    "   \n",
    "    social=int(input(\"enter the social=\"))\n",
    "    chemistry=int(input(\"enter the chemistry=\"))\n",
    "    zoology=int(input(\"enter the zoology=\"))\n",
    "    total=sum([math,physics,social,chemistry,zoology])\n",
    "   \n",
    "    na.append(name)\n",
    "    ma.append(math)\n",
    "    phy.append(physics)\n",
    "  \n",
    "    so.append(social)\n",
    "    che.append(chemistry)\n",
    "    zoo.append(zoology)\n",
    "    tota.append(total)\n",
    "    \n",
    "a={'name':na,'math':ma,'physics':phy,'social':so,'chemistry':che,'zoology':zoo,'total':tota}\n",
    "    \n",
    "    \n",
    "print(a)"
   ]
  },
  {
   "cell_type": "code",
   "execution_count": 3,
   "metadata": {},
   "outputs": [
    {
     "data": {
      "text/plain": [
       "{(1, 2, 3): 'apple'}"
      ]
     },
     "execution_count": 3,
     "metadata": {},
     "output_type": "execute_result"
    }
   ],
   "source": [
    "#in dictionary unchangable data type can only be place on the key side.\n",
    "\n",
    "a={(1,2,3):'apple'}\n",
    "a"
   ]
  },
  {
   "cell_type": "code",
   "execution_count": null,
   "metadata": {},
   "outputs": [],
   "source": []
  }
 ],
 "metadata": {
  "kernelspec": {
   "display_name": "Python 3",
   "language": "python",
   "name": "python3"
  },
  "language_info": {
   "codemirror_mode": {
    "name": "ipython",
    "version": 3
   },
   "file_extension": ".py",
   "mimetype": "text/x-python",
   "name": "python",
   "nbconvert_exporter": "python",
   "pygments_lexer": "ipython3",
   "version": "3.7.4"
  }
 },
 "nbformat": 4,
 "nbformat_minor": 2
}
