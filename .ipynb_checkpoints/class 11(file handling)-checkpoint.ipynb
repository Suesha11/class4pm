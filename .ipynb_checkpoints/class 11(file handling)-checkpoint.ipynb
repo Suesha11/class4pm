{
 "cells": [
  {
   "cell_type": "code",
   "execution_count": null,
   "metadata": {},
   "outputs": [],
   "source": [
    "#syntax\n",
    "\n",
    "#open(<file name>,<file mode>)"
   ]
  },
  {
   "cell_type": "code",
   "execution_count": 1,
   "metadata": {},
   "outputs": [
    {
     "ename": "FileNotFoundError",
     "evalue": "[Errno 2] No such file or directory: 'suesha123.text'",
     "output_type": "error",
     "traceback": [
      "\u001b[1;31m---------------------------------------------------------------------------\u001b[0m",
      "\u001b[1;31mFileNotFoundError\u001b[0m                         Traceback (most recent call last)",
      "\u001b[1;32m<ipython-input-1-35c16d2b610b>\u001b[0m in \u001b[0;36m<module>\u001b[1;34m\u001b[0m\n\u001b[0;32m      1\u001b[0m \u001b[1;31m#file handling\u001b[0m\u001b[1;33m\u001b[0m\u001b[1;33m\u001b[0m\u001b[1;33m\u001b[0m\u001b[0m\n\u001b[0;32m      2\u001b[0m \u001b[1;33m\u001b[0m\u001b[0m\n\u001b[1;32m----> 3\u001b[1;33m \u001b[0mb\u001b[0m \u001b[1;33m=\u001b[0m \u001b[0mopen\u001b[0m\u001b[1;33m(\u001b[0m\u001b[1;34m'suesha123.text'\u001b[0m\u001b[1;33m,\u001b[0m\u001b[1;34m'r'\u001b[0m\u001b[1;33m)\u001b[0m\u001b[1;33m\u001b[0m\u001b[1;33m\u001b[0m\u001b[0m\n\u001b[0m\u001b[0;32m      4\u001b[0m \u001b[0mb\u001b[0m\u001b[1;33m.\u001b[0m\u001b[0mclose\u001b[0m\u001b[1;33m(\u001b[0m\u001b[1;33m)\u001b[0m\u001b[1;33m\u001b[0m\u001b[1;33m\u001b[0m\u001b[0m\n",
      "\u001b[1;31mFileNotFoundError\u001b[0m: [Errno 2] No such file or directory: 'suesha123.text'"
     ]
    }
   ],
   "source": [
    "#file handling\n",
    "\n",
    "b = open('suesha123.text','r') #r for read\n",
    "b.close()"
   ]
  },
  {
   "cell_type": "code",
   "execution_count": 1,
   "metadata": {},
   "outputs": [],
   "source": [
    "b = open('suesha123.txt','x')\n",
    "b.close()"
   ]
  },
  {
   "cell_type": "code",
   "execution_count": 6,
   "metadata": {},
   "outputs": [
    {
     "name": "stdout",
     "output_type": "stream",
     "text": [
      "hello world\n"
     ]
    }
   ],
   "source": [
    "b= open('suesha123.txt','r') #we should close a file after opening\n",
    "print(b.read())\n",
    "b.close()"
   ]
  },
  {
   "cell_type": "code",
   "execution_count": 7,
   "metadata": {},
   "outputs": [
    {
     "name": "stdout",
     "output_type": "stream",
     "text": [
      "<class 'str'>\n"
     ]
    }
   ],
   "source": [
    "b= open('suesha123.txt','r') #we should close a file after opening\n",
    "print(type(b.read()))\n",
    "b.close()"
   ]
  },
  {
   "cell_type": "code",
   "execution_count": 8,
   "metadata": {},
   "outputs": [
    {
     "name": "stdout",
     "output_type": "stream",
     "text": [
      "1.hello world\n",
      "2.hello world\n",
      "3.hello world\n",
      "4.hello \n"
     ]
    }
   ],
   "source": [
    "b= open('suesha123.txt','r') #we should close a file after opening\n",
    "print(b.read(50)) #50 count each and every characters\n",
    "b.close()"
   ]
  },
  {
   "cell_type": "code",
   "execution_count": 9,
   "metadata": {},
   "outputs": [
    {
     "name": "stdout",
     "output_type": "stream",
     "text": [
      "1.hello world\n",
      "\n"
     ]
    }
   ],
   "source": [
    "b= open('suesha123.txt','r') \n",
    "print(b.readline())\n",
    "b.close()"
   ]
  },
  {
   "cell_type": "code",
   "execution_count": 10,
   "metadata": {},
   "outputs": [
    {
     "name": "stdout",
     "output_type": "stream",
     "text": [
      "1.hello world\n",
      "\n",
      "2.hello world\n",
      "\n"
     ]
    }
   ],
   "source": [
    "b= open('suesha123.txt','r') \n",
    "print(b.readline())\n",
    "print(b.readline())\n",
    "b.close()"
   ]
  },
  {
   "cell_type": "code",
   "execution_count": 17,
   "metadata": {},
   "outputs": [
    {
     "name": "stdout",
     "output_type": "stream",
     "text": [
      "1.hel\n",
      "lo world\n",
      "\n"
     ]
    }
   ],
   "source": [
    "b= open('suesha123.txt','r') \n",
    "print(b.readline(5))\n",
    "print(b.readline())\n",
    "b.close()"
   ]
  },
  {
   "cell_type": "code",
   "execution_count": 18,
   "metadata": {},
   "outputs": [],
   "source": [
    "#append le thapicha\n",
    "#w le overwrite garcha\n",
    "b= open('suesha123.txt','a') \n",
    "b.write('\\n13.hello there')\n",
    "b.close()\n"
   ]
  },
  {
   "cell_type": "code",
   "execution_count": 19,
   "metadata": {},
   "outputs": [
    {
     "name": "stdout",
     "output_type": "stream",
     "text": [
      "1.hello world\n",
      "2.hello world\n",
      "3.hello world\n",
      "4.hello world\n",
      "5.hello world\n",
      "6.hello world\n",
      "7.hello world\n",
      "8.hello world\n",
      "9.hello world\n",
      "10.hello world\n",
      "11.hello world\n",
      "12.hello world\n",
      "13.hello there\n"
     ]
    }
   ],
   "source": [
    "b=open('suesha123.txt','r')\n",
    "print(b.read())\n",
    "b.close()"
   ]
  },
  {
   "cell_type": "code",
   "execution_count": 22,
   "metadata": {},
   "outputs": [
    {
     "name": "stdout",
     "output_type": "stream",
     "text": [
      "1. world\n",
      "2. world\n",
      "3. world\n",
      "4. world\n",
      "5. world\n",
      "6. world\n",
      "7. world\n",
      "8. world\n",
      "9. world\n",
      "10. world\n",
      "11. world\n",
      "12. world\n",
      "13. there\n"
     ]
    }
   ],
   "source": [
    "b=open('suesha123.txt','r')\n",
    "c=b.read()\n",
    "d=c.replace(\"hello\",\"\")\n",
    "print(d)\n",
    "b.close()"
   ]
  },
  {
   "cell_type": "code",
   "execution_count": 23,
   "metadata": {},
   "outputs": [],
   "source": [
    "b=open('suesha123.txt','w')\n",
    "b.write(d)\n",
    "b.close()"
   ]
  },
  {
   "cell_type": "code",
   "execution_count": 1,
   "metadata": {},
   "outputs": [
    {
     "name": "stdout",
     "output_type": "stream",
     "text": [
      "enter the no of users=2\n",
      "enter the name=sueshha\n",
      "enter the age=23\n",
      "enter the address=fsdfsd\n",
      "enter the phone number=324234\n",
      "enter the name=pratibha\n",
      "enter the age=23\n",
      "enter the address=sfdf\n",
      "enter the phone number=23434\n"
     ]
    }
   ],
   "source": [
    "n=int(input(\"enter the no of users=\"))\n",
    "u=\"\"\n",
    "file=open(\"record1.txt\",'w')\n",
    "for i in range(n):\n",
    "\n",
    "    name=input(\"enter the name=\")\n",
    "    age=int(input(\"enter the age=\"))\n",
    "    address=input(\"enter the address=\")\n",
    "    phone_number=int(input(\"enter the phone number=\"))\n",
    "    u=u+f\"{name} {age} {address} {phone_number}/n\"  #or info =f\"\n",
    "    \n",
    "   \n",
    "   \n",
    "    file.write(u)\n",
    "    \n",
    "file.close()\n",
    "    \n",
    "\n"
   ]
  },
  {
   "cell_type": "code",
   "execution_count": 2,
   "metadata": {},
   "outputs": [
    {
     "name": "stdout",
     "output_type": "stream",
     "text": [
      "['sueshha 23 fsdfsd 324234', 'sueshha 23 fsdfsd 324234', 'pratibha 23 sfdf 23434', '']\n"
     ]
    }
   ],
   "source": [
    "file=open(\"record1.txt\",'r')\n",
    "c = file.read()\n",
    "print(c.split('/n'))\n",
    "file.close()\n"
   ]
  },
  {
   "cell_type": "code",
   "execution_count": 7,
   "metadata": {},
   "outputs": [
    {
     "name": "stdout",
     "output_type": "stream",
     "text": [
      "[['sueshha', '23', 'fsdfsd', '324234/nsueshha', '23', 'fsdfsd', '324234/npratibha', '23', 'sfdf', '23434/n']]\n"
     ]
    }
   ],
   "source": [
    "\n",
    "infos=[]\n",
    "file=open(\"record1.txt\",'r')\n",
    "c=file.read()\n",
    "d=c.split('\\n')\n",
    "for i in d:\n",
    "        infos.append(i.split())\n",
    "file.close()\n",
    "print(infos)"
   ]
  },
  {
   "cell_type": "code",
   "execution_count": null,
   "metadata": {},
   "outputs": [],
   "source": [
    "\n",
    "infos=[]\n",
    "file=open(\"record1.txt\",'r')\n",
    "c=file.read()\n",
    "d=c.split('\\n')\n",
    "for i in d:\n",
    "        info=i.split()\n",
    "        \n",
    "file.close()\n",
    "print(infos)"
   ]
  },
  {
   "cell_type": "code",
   "execution_count": 9,
   "metadata": {},
   "outputs": [],
   "source": [
    "a= open(\"file.txt\",'x')\n",
    "a.close()"
   ]
  },
  {
   "cell_type": "code",
   "execution_count": 10,
   "metadata": {},
   "outputs": [],
   "source": [
    "a=open(\"file.txt\",'a')\n",
    "a.write('hello i am suesha')\n",
    "a.close()\n"
   ]
  },
  {
   "cell_type": "code",
   "execution_count": 11,
   "metadata": {},
   "outputs": [],
   "source": [
    "b=open('file1.txt','x')\n",
    "b.close()"
   ]
  },
  {
   "cell_type": "code",
   "execution_count": 19,
   "metadata": {},
   "outputs": [],
   "source": [
    "a=open('file.txt','r')\n",
    "c=a.read()\n",
    "a.close()\n",
    "b=open(\"file1.txt\",'a')\n",
    "d=b.write(c)\n",
    "b.close()\n",
    "\n",
    "\n"
   ]
  },
  {
   "cell_type": "code",
   "execution_count": null,
   "metadata": {},
   "outputs": [],
   "source": []
  }
 ],
 "metadata": {
  "kernelspec": {
   "display_name": "Python 3",
   "language": "python",
   "name": "python3"
  },
  "language_info": {
   "codemirror_mode": {
    "name": "ipython",
    "version": 3
   },
   "file_extension": ".py",
   "mimetype": "text/x-python",
   "name": "python",
   "nbconvert_exporter": "python",
   "pygments_lexer": "ipython3",
   "version": "3.7.4"
  }
 },
 "nbformat": 4,
 "nbformat_minor": 2
}
