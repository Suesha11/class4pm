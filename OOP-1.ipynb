{
 "cells": [
  {
   "cell_type": "code",
   "execution_count": 1,
   "metadata": {},
   "outputs": [],
   "source": [
    "#str()..returns strings\n",
    "\n",
    "#repr()..returns tuple,dict,list,string "
   ]
  },
  {
   "cell_type": "code",
   "execution_count": 15,
   "metadata": {},
   "outputs": [
    {
     "name": "stdout",
     "output_type": "stream",
     "text": [
      "<class '__main__.Info'>\n",
      "Ram 23\n"
     ]
    }
   ],
   "source": [
    "#str\n",
    "\n",
    "class Info:\n",
    "    def __init__(self,name,age):\n",
    "        self.name=name\n",
    "        self.age=age\n",
    "    def __str__(self): #__ means it isnt a normal function..used to make constructor\n",
    "        return f\"{self.name} {self.age}\" #return gareko value object ma gayera store huncha\n",
    "        \n",
    "obj=Info(\"Ram\",23)\n",
    "print(type(obj)) #str le obj return garne karan le operator use garna didaina so we use the concept of operator overloading\n",
    "\n",
    "#0r\n",
    "print(obj.__str__())"
   ]
  },
  {
   "cell_type": "code",
   "execution_count": 13,
   "metadata": {},
   "outputs": [
    {
     "name": "stdout",
     "output_type": "stream",
     "text": [
      "{'name': 'ram', 'age': 33}\n"
     ]
    }
   ],
   "source": [
    "#repr()\n",
    "\n",
    "class Info:\n",
    "    def __init__(self,name,age):\n",
    "        self.name=name\n",
    "        self.age=age\n",
    "        \n",
    "    def __repr__(self): #__ means it isnt a normal function..used to make constructor\n",
    "        return {'name':self.name,'age':self.age} #dictionary laireturn gariracha\n",
    "     \n",
    "obj=Info(\"ram\",33)\n",
    "\n",
    "#0r\n",
    "print(obj.__repr__())"
   ]
  },
  {
   "cell_type": "code",
   "execution_count": 14,
   "metadata": {},
   "outputs": [],
   "source": [
    "#str le chai euta string ko adar ma value haru return garcha..euta value ko basis ma display garaunu paryo bhane str\n",
    "\n",
    "#"
   ]
  },
  {
   "cell_type": "code",
   "execution_count": 18,
   "metadata": {},
   "outputs": [
    {
     "name": "stdout",
     "output_type": "stream",
     "text": [
      "2\n",
      "4\n",
      "-1\n",
      "3\n",
      "1\n",
      "7\n",
      "1,7\n",
      "2,4\n",
      "-1,3\n"
     ]
    }
   ],
   "source": [
    "#repr()#operator overloadig\n",
    "class Point:\n",
    "    def __init__(self,x,y):\n",
    "        self.x=x\n",
    "        self.y=y\n",
    "        print(self.x)\n",
    "        print(self.y)\n",
    "        \n",
    "    def __str__(self): \n",
    "        return f\"{self.x},{self.y}\"\n",
    "    \n",
    "    #add ko priority second ma huncha\n",
    "    def __add__(self,other): #other chai arko obj banayera pathayeko value ko reference ho\n",
    "        x=self.x+other.x\n",
    "        y=self.y+other.y\n",
    "        \n",
    "        return Point(x,y) #mathi class ma value return garcha becoz yovalue lai str lle use garera return garcha\n",
    "     \n",
    "p1=Point(2,4)\n",
    "p2=Point(-1,3)\n",
    "print(p1+p2)\n",
    "print(p1)\n",
    "print(p2)"
   ]
  },
  {
   "cell_type": "code",
   "execution_count": 21,
   "metadata": {},
   "outputs": [
    {
     "name": "stdout",
     "output_type": "stream",
     "text": [
      "2\n",
      "3\n",
      "4\n",
      "-1\n",
      "2\n",
      "4\n",
      "1\n",
      "5\n",
      "8\n",
      "(1,5,8)\n",
      "(2,3,4)\n",
      "(-1,2,4)\n"
     ]
    }
   ],
   "source": [
    "#repr()#operator overloadig\n",
    "class Point:\n",
    "    def __init__(self,x,y,z):\n",
    "        self.x=x\n",
    "        self.y=y\n",
    "        self.z=z\n",
    "        print(self.x)\n",
    "        print(self.y)\n",
    "        print(self.z)\n",
    "        \n",
    "    def __str__(self): \n",
    "        return \"({0},{1},{2})\".format(self.x,self.y,self.z)\n",
    "    \n",
    "    #add ko priority second ma huncha\n",
    "    def __add__(self,other): #other chai arko obj banayera pathayeko value ko reference ho\n",
    "        x=self.x+other.x\n",
    "        y=self.y+other.y\n",
    "        z=self.z+other.z\n",
    "        \n",
    "        return Point(x,y,z) #mathi class ma value return garcha becoz yovalue lai str lle use garera return garcha\n",
    "     \n",
    "p1=Point(2,3,4)\n",
    "p2=Point(-1,2,4)\n",
    "print(p1+p2)\n",
    "print(p1)\n",
    "print(p2)"
   ]
  },
  {
   "cell_type": "code",
   "execution_count": 24,
   "metadata": {},
   "outputs": [
    {
     "name": "stdout",
     "output_type": "stream",
     "text": [
      "1000\n",
      "20000\n",
      "21000\n",
      "4000\n",
      "25000\n",
      "30000\n",
      "(55000)\n"
     ]
    }
   ],
   "source": [
    " #addition\n",
    "#repr()#operator overloadig\n",
    "class Point:\n",
    "    def __init__(self,y=0):\n",
    "       \n",
    "        self.y=y\n",
    "       \n",
    "    def __str__(self): \n",
    "        return \"({0})\".format(self.y)\n",
    "    \n",
    "    #add ko priority second ma huncha\n",
    "    def __add__(self,other): #other chai arko obj banayera pathayeko value ko reference ho\n",
    "       \n",
    "        y=self.y+other.y\n",
    "        print(self.y)\n",
    "        print(other.y)\n",
    "        \n",
    "        return Point(y) #mathi class ma value return garcha becoz yovalue lai str lle use garera return garcha\n",
    "     \n",
    "p1=Point(1000)\n",
    "p2=Point(20000)\n",
    "     \n",
    "p3=Point(4000)\n",
    "p4=Point(30000)\n",
    "print(p1+p2+p3+p4)\n",
    "\n",
    "    #similarly mult,dic=v can also be done"
   ]
  },
  {
   "cell_type": "code",
   "execution_count": 27,
   "metadata": {},
   "outputs": [
    {
     "name": "stdout",
     "output_type": "stream",
     "text": [
      "1\n",
      "2\n",
      "2\n",
      "3\n",
      "3\n",
      "1\n",
      "4\n",
      "2\n",
      "2\n",
      "2\n",
      "6\n",
      "6\n",
      "6\n",
      "6\n",
      "6\n",
      "24\n",
      "12\n",
      "(24,12)\n"
     ]
    }
   ],
   "source": [
    " #addition\n",
    "#repr()#operator overloadig\n",
    "class Point:\n",
    "    def __init__(self,x,y):\n",
    "       \n",
    "        self.x=x\n",
    "        self.y=y\n",
    "        print(self.x)\n",
    "        print(self.y)\n",
    "       \n",
    "    def __str__(self): \n",
    "        return \"({0},{1})\".format(self.x,self.y)\n",
    "    \n",
    "    #add ko priority second ma huncha\n",
    "    def __mul__(self,other): #other chai arko obj banayera pathayeko value ko reference ho\n",
    "       \n",
    "        x=self.x*other.x\n",
    "        y=self.y*other.y\n",
    "        print(self.y)\n",
    "      \n",
    "        \n",
    "        return Point(x,y) #mathi class ma value return garcha becoz yovalue lai str lle use garera return garcha\n",
    "     \n",
    "p1=Point(1,2)\n",
    "p2=Point(2,3)\n",
    "     \n",
    "p3=Point(3,1)\n",
    "p4=Point(4,2)\n",
    "print(p1*p2*p3*p4)\n",
    "\n",
    "    #similarly mult,dic=v can also be done"
   ]
  },
  {
   "cell_type": "code",
   "execution_count": 1,
   "metadata": {},
   "outputs": [
    {
     "data": {
      "text/plain": [
       "repr is called"
      ]
     },
     "execution_count": 1,
     "metadata": {},
     "output_type": "execute_result"
    }
   ],
   "source": [
    "class Demo:\n",
    "    def __str__(self):\n",
    "        return \"self is called\"\n",
    "    def __repr__(self):\n",
    "        return \"repr is called\"\n",
    "    \n",
    "obj=Demo()\n",
    "obj"
   ]
  },
  {
   "cell_type": "code",
   "execution_count": 2,
   "metadata": {},
   "outputs": [
    {
     "name": "stdout",
     "output_type": "stream",
     "text": [
      "self is called\n"
     ]
    }
   ],
   "source": [
    "class Demo:\n",
    "    def __str__(self):\n",
    "        return \"self is called\"\n",
    "    def __repr__(self):\n",
    "        return \"repr is called\"\n",
    "    \n",
    "obj=Demo()\n",
    "print(obj)"
   ]
  },
  {
   "cell_type": "code",
   "execution_count": null,
   "metadata": {},
   "outputs": [],
   "source": [
    "class Convert:\n",
    "    def __init(self,x):\n",
    "        self.x=int(input(\"enter the integer\")\n",
    "                "
   ]
  }
 ],
 "metadata": {
  "kernelspec": {
   "display_name": "Python 3",
   "language": "python",
   "name": "python3"
  },
  "language_info": {
   "codemirror_mode": {
    "name": "ipython",
    "version": 3
   },
   "file_extension": ".py",
   "mimetype": "text/x-python",
   "name": "python",
   "nbconvert_exporter": "python",
   "pygments_lexer": "ipython3",
   "version": "3.7.4"
  }
 },
 "nbformat": 4,
 "nbformat_minor": 2
}
