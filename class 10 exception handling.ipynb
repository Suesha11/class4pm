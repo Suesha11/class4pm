{
 "cells": [
  {
   "cell_type": "code",
   "execution_count": null,
   "metadata": {},
   "outputs": [],
   "source": [
    "#try:\n",
    "#  <operations>\n",
    "#except:\n",
    "#  <operations>\n"
   ]
  },
  {
   "cell_type": "code",
   "execution_count": 1,
   "metadata": {},
   "outputs": [
    {
     "name": "stdout",
     "output_type": "stream",
     "text": [
      "enter the namesefsfs\n",
      "enter agesfsd\n"
     ]
    },
    {
     "ename": "ValueError",
     "evalue": "invalid literal for int() with base 10: 'sfsd'",
     "output_type": "error",
     "traceback": [
      "\u001b[1;31m---------------------------------------------------------------------------\u001b[0m",
      "\u001b[1;31mValueError\u001b[0m                                Traceback (most recent call last)",
      "\u001b[1;32m<ipython-input-1-e0053b612732>\u001b[0m in \u001b[0;36m<module>\u001b[1;34m\u001b[0m\n\u001b[0;32m      1\u001b[0m \u001b[0mname\u001b[0m\u001b[1;33m=\u001b[0m\u001b[0minput\u001b[0m\u001b[1;33m(\u001b[0m\u001b[1;34m\"enter the name\"\u001b[0m\u001b[1;33m)\u001b[0m\u001b[1;33m\u001b[0m\u001b[1;33m\u001b[0m\u001b[0m\n\u001b[1;32m----> 2\u001b[1;33m \u001b[0mage\u001b[0m\u001b[1;33m=\u001b[0m\u001b[0mint\u001b[0m\u001b[1;33m(\u001b[0m\u001b[0minput\u001b[0m\u001b[1;33m(\u001b[0m\u001b[1;34m\"enter age\"\u001b[0m\u001b[1;33m)\u001b[0m\u001b[1;33m)\u001b[0m\u001b[1;33m\u001b[0m\u001b[1;33m\u001b[0m\u001b[0m\n\u001b[0m\u001b[0;32m      3\u001b[0m \u001b[1;33m\u001b[0m\u001b[0m\n\u001b[0;32m      4\u001b[0m \u001b[0mprint\u001b[0m\u001b[1;33m(\u001b[0m\u001b[0mname\u001b[0m\u001b[1;33m,\u001b[0m\u001b[0mage\u001b[0m\u001b[1;33m)\u001b[0m\u001b[1;33m\u001b[0m\u001b[1;33m\u001b[0m\u001b[0m\n",
      "\u001b[1;31mValueError\u001b[0m: invalid literal for int() with base 10: 'sfsd'"
     ]
    }
   ],
   "source": [
    "name=input(\"enter the name\")\n",
    "age=int(input(\"enter age\"))\n",
    "\n",
    "print(name,age)"
   ]
  },
  {
   "cell_type": "code",
   "execution_count": 4,
   "metadata": {},
   "outputs": [
    {
     "name": "stdout",
     "output_type": "stream",
     "text": [
      "enter the namesds\n",
      "enter agedsfsd\n",
      "error\n"
     ]
    }
   ],
   "source": [
    "#to remove such error\n",
    "try:\n",
    "    name=input(\"enter the name\")\n",
    "    age=int(input(\"enter age\"))\n",
    "\n",
    "    print(name,age)\n",
    "\n",
    "except:\n",
    "    print(\"error\")"
   ]
  },
  {
   "cell_type": "code",
   "execution_count": 5,
   "metadata": {},
   "outputs": [
    {
     "name": "stdout",
     "output_type": "stream",
     "text": [
      "error\n"
     ]
    }
   ],
   "source": [
    "try:\n",
    "    a=10\n",
    "    b=0\n",
    "    c=a/b\n",
    "    print(c)\n",
    "except: #except le sab kind of error lai handle garcha\n",
    "    print(\"error\")"
   ]
  },
  {
   "cell_type": "code",
   "execution_count": 7,
   "metadata": {},
   "outputs": [
    {
     "name": "stdout",
     "output_type": "stream",
     "text": [
      "zero division error\n"
     ]
    }
   ],
   "source": [
    "try:\n",
    "    a=10\n",
    "    b=0\n",
    "    c=a/b\n",
    "    print(c)\n",
    "except ZeroDivisionError:\n",
    "    print(\"zero division error\")\n",
    "    \n",
    "except TypeError: #yesle particular error lai handle garcha arulai gardaina\n",
    "    print(\"Type Error\")\n",
    "    "
   ]
  },
  {
   "cell_type": "code",
   "execution_count": 8,
   "metadata": {},
   "outputs": [
    {
     "name": "stdout",
     "output_type": "stream",
     "text": [
      "Type Error\n"
     ]
    }
   ],
   "source": [
    "try:\n",
    "    a=10\n",
    "    b='0'\n",
    "    c=a/b\n",
    "    print(c)\n",
    "except ZeroDivisionError:\n",
    "    print(\"zero division error\")\n",
    "    \n",
    "except TypeError: #yesle particular error lai handle garcha arulai gardaina\n",
    "    print(\"Type Error\")\n",
    "    "
   ]
  },
  {
   "cell_type": "code",
   "execution_count": null,
   "metadata": {},
   "outputs": [],
   "source": [
    "#program isnt crashed with the help of exception handling\n",
    "\n",
    "def cal():\n",
    "    try:\n",
    "        a=int(input(\"enter the value of a\"))\n",
    "        b=int(input(\"enter the value of b\"))\n",
    "        c=a/b\n",
    "        print(c)\n",
    "    except ZeroDivisionError:\n",
    "        print(\"Zero Division Error\")\n",
    "    except TypeError:\n",
    "        print(\"Type Error\")\n",
    "    except ValueError:\n",
    "        print(\"Value Error\")\n",
    "cal()\n",
    "        \n",
    "    "
   ]
  },
  {
   "cell_type": "code",
   "execution_count": null,
   "metadata": {},
   "outputs": [
    {
     "name": "stdout",
     "output_type": "stream",
     "text": [
      "enter the value of a3\n",
      "enter the value of b5\n",
      "Type Error\n",
      "enter the value of a3\n",
      "enter the value of bghvhg\n",
      "Type Error\n"
     ]
    }
   ],
   "source": [
    "#program isnt crashed with the help of exception handling\n",
    "\n",
    "def cal():\n",
    "    try:\n",
    "        a=int(input(\"enter the value of a\"))\n",
    "        b=input(\"enter the value of b\")\n",
    "        c=a/b\n",
    "        print(c)\n",
    "    except ZeroDivisionError:\n",
    "        print(\"Zero Division Error\")\n",
    "        cal()\n",
    "    except TypeError:\n",
    "        print(\"Type Error\")\n",
    "        cal()\n",
    "    except ValueError:\n",
    "        print(\"Value Error\")\n",
    "        cal()\n",
    "cal()\n",
    "        \n",
    "    "
   ]
  },
  {
   "cell_type": "code",
   "execution_count": 1,
   "metadata": {},
   "outputs": [
    {
     "name": "stdout",
     "output_type": "stream",
     "text": [
      "enter the value of a2\n",
      "enter the value of bvhgv\n"
     ]
    },
    {
     "ename": "ValueError",
     "evalue": "invalid literal for int() with base 10: 'vhgv'",
     "output_type": "error",
     "traceback": [
      "\u001b[1;31m---------------------------------------------------------------------------\u001b[0m",
      "\u001b[1;31mValueError\u001b[0m                                Traceback (most recent call last)",
      "\u001b[1;32m<ipython-input-1-d01ab29167f5>\u001b[0m in \u001b[0;36m<module>\u001b[1;34m\u001b[0m\n\u001b[0;32m      7\u001b[0m     \u001b[1;32mexcept\u001b[0m\u001b[1;33m(\u001b[0m\u001b[0mZeroDivisionError\u001b[0m\u001b[1;33m,\u001b[0m\u001b[0mTypeError\u001b[0m\u001b[1;33m)\u001b[0m\u001b[1;33m:\u001b[0m\u001b[1;33m\u001b[0m\u001b[1;33m\u001b[0m\u001b[0m\n\u001b[0;32m      8\u001b[0m         \u001b[0mprint\u001b[0m\u001b[1;33m(\u001b[0m\u001b[1;34m\"error\"\u001b[0m\u001b[1;33m)\u001b[0m\u001b[1;33m\u001b[0m\u001b[1;33m\u001b[0m\u001b[0m\n\u001b[1;32m----> 9\u001b[1;33m \u001b[0mcal\u001b[0m\u001b[1;33m(\u001b[0m\u001b[1;33m)\u001b[0m\u001b[1;33m\u001b[0m\u001b[1;33m\u001b[0m\u001b[0m\n\u001b[0m",
      "\u001b[1;32m<ipython-input-1-d01ab29167f5>\u001b[0m in \u001b[0;36mcal\u001b[1;34m()\u001b[0m\n\u001b[0;32m      2\u001b[0m     \u001b[1;32mtry\u001b[0m\u001b[1;33m:\u001b[0m\u001b[1;33m\u001b[0m\u001b[1;33m\u001b[0m\u001b[0m\n\u001b[0;32m      3\u001b[0m         \u001b[0ma\u001b[0m\u001b[1;33m=\u001b[0m\u001b[0mint\u001b[0m\u001b[1;33m(\u001b[0m\u001b[0minput\u001b[0m\u001b[1;33m(\u001b[0m\u001b[1;34m\"enter the value of a\"\u001b[0m\u001b[1;33m)\u001b[0m\u001b[1;33m)\u001b[0m\u001b[1;33m\u001b[0m\u001b[1;33m\u001b[0m\u001b[0m\n\u001b[1;32m----> 4\u001b[1;33m         \u001b[0mb\u001b[0m\u001b[1;33m=\u001b[0m\u001b[0mint\u001b[0m\u001b[1;33m(\u001b[0m\u001b[0minput\u001b[0m\u001b[1;33m(\u001b[0m\u001b[1;34m\"enter the value of b\"\u001b[0m\u001b[1;33m)\u001b[0m\u001b[1;33m)\u001b[0m\u001b[1;33m\u001b[0m\u001b[1;33m\u001b[0m\u001b[0m\n\u001b[0m\u001b[0;32m      5\u001b[0m         \u001b[0mc\u001b[0m\u001b[1;33m=\u001b[0m\u001b[0ma\u001b[0m\u001b[1;33m/\u001b[0m\u001b[0mb\u001b[0m\u001b[1;33m\u001b[0m\u001b[1;33m\u001b[0m\u001b[0m\n\u001b[0;32m      6\u001b[0m         \u001b[0mprint\u001b[0m\u001b[1;33m(\u001b[0m\u001b[0mc\u001b[0m\u001b[1;33m)\u001b[0m\u001b[1;33m\u001b[0m\u001b[1;33m\u001b[0m\u001b[0m\n",
      "\u001b[1;31mValueError\u001b[0m: invalid literal for int() with base 10: 'vhgv'"
     ]
    }
   ],
   "source": [
    "\n",
    "def cal():\n",
    "    try:\n",
    "        a=int(input(\"enter the value of a\"))\n",
    "        b=int(input(\"enter the value of b\"))\n",
    "        c=a/b\n",
    "        print(c)\n",
    "    except(ZeroDivisionError,TypeError):\n",
    "        print(\"error\")\n",
    "cal()"
   ]
  },
  {
   "cell_type": "code",
   "execution_count": 2,
   "metadata": {},
   "outputs": [
    {
     "name": "stdout",
     "output_type": "stream",
     "text": [
      "enter the value of a2\n",
      "enter the value of b3\n",
      "error\n"
     ]
    }
   ],
   "source": [
    "#try except else...exception created then except will work...if not then else will work\n",
    "\n",
    "def cal():\n",
    "    try:\n",
    "        a=int(input(\"enter the value of a\"))\n",
    "        b=input(\"enter the value of b\")\n",
    "        c=a/b\n",
    "        print(c)\n",
    "    except(ZeroDivisionError,ValueError, TypeError):\n",
    "        print(\"error\")\n",
    "    else:\n",
    "        print(\"the value of c\",c)\n",
    "cal()"
   ]
  },
  {
   "cell_type": "code",
   "execution_count": 2,
   "metadata": {},
   "outputs": [
    {
     "name": "stdout",
     "output_type": "stream",
     "text": [
      "enter the value of a4\n",
      "enter the value of b3\n",
      "the value of c 1.3333333333333333\n"
     ]
    }
   ],
   "source": [
    "#try except else...exception created then except will work...if not then else will work\n",
    "\n",
    "def cal():\n",
    "    try:\n",
    "        a=int(input(\"enter the value of a\"))\n",
    "        b=int(input(\"enter the value of b\"))\n",
    "        c=a/b\n",
    "       \n",
    "    except(ZeroDivisionError,ValueError, TypeError):\n",
    "        print(\"error\")\n",
    "        cal()\n",
    "    else:\n",
    "        print(\"the value of c\",c)\n",
    "cal()"
   ]
  },
  {
   "cell_type": "code",
   "execution_count": 3,
   "metadata": {},
   "outputs": [
    {
     "name": "stdout",
     "output_type": "stream",
     "text": [
      "enter the value of a2\n",
      "enter the value of b3\n",
      "the value of c 0.6666666666666666\n",
      "thank you\n"
     ]
    }
   ],
   "source": [
    "#finally\n",
    "\n",
    "#try except else...exception created then except will work...if not then else will work\n",
    "\n",
    "def cal():\n",
    "    try:\n",
    "        a=int(input(\"enter the value of a\"))\n",
    "        b=int(input(\"enter the value of b\"))\n",
    "        c=a/b\n",
    "       \n",
    "    except(ZeroDivisionError,ValueError, TypeError):\n",
    "        print(\"error\")\n",
    "        cal()\n",
    "    else:\n",
    "        print(\"the value of c\",c)\n",
    "    finally:\n",
    "        print(\"thank you\")\n",
    "cal()"
   ]
  },
  {
   "cell_type": "code",
   "execution_count": null,
   "metadata": {},
   "outputs": [
    {
     "name": "stdout",
     "output_type": "stream",
     "text": [
      "enter the value of a2\n",
      "enter the value of bdfd\n",
      "error\n"
     ]
    }
   ],
   "source": [
    "#finally\n",
    "\n",
    "#try except else...exception created then except will work...if not then else will work\n",
    "\n",
    "def cal():\n",
    "    try:\n",
    "        a=int(input(\"enter the value of a\"))\n",
    "        b=int(input(\"enter the value of b\"))\n",
    "        c=a/b\n",
    "       \n",
    "    except(ZeroDivisionError,ValueError, TypeError):\n",
    "        print(\"error\")\n",
    "        cal()\n",
    "    else:\n",
    "        print(\"the value of c\",c)\n",
    "    finally: #always runs but if except is executed the except block runs which calls the function thus cant run finally block\n",
    "        print(\"thank you\")\n",
    "cal()"
   ]
  },
  {
   "cell_type": "code",
   "execution_count": 1,
   "metadata": {},
   "outputs": [
    {
     "name": "stdout",
     "output_type": "stream",
     "text": [
      "enter the vale of a?4\n",
      "enter the value of b?0\n",
      "the value of b cant be 0\n"
     ]
    }
   ],
   "source": [
    "#raise...to create error by programmer themselves\n",
    "#assert\n",
    "\n",
    "\n",
    "try:\n",
    "    a=int(input(\"enter the vale of a?\"))\n",
    "    b=int(input(\"enter the value of b?\"))\n",
    "    \n",
    "    if b==0:\n",
    "        raise ArithmeticError\n",
    "    else:\n",
    "        print(\"a/b\",a/b)\n",
    "except ArithmeticError:\n",
    "    print(\"the value of b cant be 0\")\n",
    "    "
   ]
  },
  {
   "cell_type": "code",
   "execution_count": 6,
   "metadata": {},
   "outputs": [
    {
     "name": "stdout",
     "output_type": "stream",
     "text": [
      "enter the value of n9\n",
      "Error\n"
     ]
    }
   ],
   "source": [
    "#assert is like if and if that is not fulfilled then it will raise assertion error\n",
    "\n",
    "try:\n",
    "    n=int(input(\"enter the value of n\"))\n",
    "    assert(n%2==0)\n",
    "    print(n)\n",
    "except AssertionError:\n",
    "    print(\"Error\")"
   ]
  },
  {
   "cell_type": "code",
   "execution_count": 3,
   "metadata": {},
   "outputs": [
    {
     "ename": "FileNotFoundError",
     "evalue": "[Errno 2] No such file or directory: 'suesha.txt'",
     "output_type": "error",
     "traceback": [
      "\u001b[1;31m---------------------------------------------------------------------------\u001b[0m",
      "\u001b[1;31mFileNotFoundError\u001b[0m                         Traceback (most recent call last)",
      "\u001b[1;32m<ipython-input-3-ac522800d1bc>\u001b[0m in \u001b[0;36m<module>\u001b[1;34m\u001b[0m\n\u001b[1;32m----> 1\u001b[1;33m \u001b[0mfile\u001b[0m\u001b[1;33m=\u001b[0m\u001b[0mopen\u001b[0m\u001b[1;33m(\u001b[0m\u001b[1;34m\"suesha.txt\"\u001b[0m\u001b[1;33m,\u001b[0m\u001b[1;34m'r'\u001b[0m\u001b[1;33m)\u001b[0m\u001b[1;33m\u001b[0m\u001b[1;33m\u001b[0m\u001b[0m\n\u001b[0m\u001b[0;32m      2\u001b[0m \u001b[0mfile\u001b[0m\u001b[1;33m.\u001b[0m\u001b[0mread\u001b[0m\u001b[1;33m(\u001b[0m\u001b[1;33m)\u001b[0m\u001b[1;33m\u001b[0m\u001b[1;33m\u001b[0m\u001b[0m\n\u001b[0;32m      3\u001b[0m \u001b[1;33m\u001b[0m\u001b[0m\n",
      "\u001b[1;31mFileNotFoundError\u001b[0m: [Errno 2] No such file or directory: 'suesha.txt'"
     ]
    }
   ],
   "source": [
    "\n",
    "    file=open(\"suesha.txt\",'r')\n",
    "    file.read()\n",
    "    \n"
   ]
  },
  {
   "cell_type": "code",
   "execution_count": null,
   "metadata": {},
   "outputs": [],
   "source": []
  }
 ],
 "metadata": {
  "kernelspec": {
   "display_name": "Python 3",
   "language": "python",
   "name": "python3"
  },
  "language_info": {
   "codemirror_mode": {
    "name": "ipython",
    "version": 3
   },
   "file_extension": ".py",
   "mimetype": "text/x-python",
   "name": "python",
   "nbconvert_exporter": "python",
   "pygments_lexer": "ipython3",
   "version": "3.7.4"
  }
 },
 "nbformat": 4,
 "nbformat_minor": 2
}
