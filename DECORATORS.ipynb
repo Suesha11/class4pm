{
 "cells": [
  {
   "cell_type": "code",
   "execution_count": 3,
   "metadata": {},
   "outputs": [
    {
     "name": "stdout",
     "output_type": "stream",
     "text": [
      "This is inside outer function\n",
      "This is inside outer function\n",
      "Hello World\n"
     ]
    }
   ],
   "source": [
    "#FUNCTION INSIDE FUNCTION\n",
    "def outer_function():\n",
    "    value=\"Hello World\"\n",
    "    print('This is inside outer function')\n",
    "    def inner_function():\n",
    "        print('This is inside outer function')\n",
    "        print(value)\n",
    "    return inner_function()\n",
    "\n",
    "outer_function()"
   ]
  },
  {
   "cell_type": "code",
   "execution_count": 5,
   "metadata": {},
   "outputs": [
    {
     "name": "stdout",
     "output_type": "stream",
     "text": [
      "This is inside outer function\n",
      "This is inside outer function\n",
      "Hello World\n"
     ]
    }
   ],
   "source": [
    "\n",
    "def outer_function():\n",
    "    value=\"Hello World\"\n",
    "    print('This is inside outer function')\n",
    "    def inner_function():\n",
    "        print('This is inside outer function')\n",
    "        return value\n",
    "    return inner_function()\n",
    "\n",
    "print(outer_function())"
   ]
  },
  {
   "cell_type": "code",
   "execution_count": 7,
   "metadata": {},
   "outputs": [
    {
     "name": "stdout",
     "output_type": "stream",
     "text": [
      "Hello Suesha\n"
     ]
    }
   ],
   "source": [
    "#  @indicates decorator...which sends function as an argument to the main function\n",
    "def outer_function(fun):\n",
    "    def inner_function():\n",
    "        x=fun() #calling function which is send as argument and the resukt stored in x\n",
    "    return inner_function()\n",
    "@outer_function #syntax of decorators- @main-function-name #outer_function garda decorator le main directly call gardinxa...so we dont need to call it separately\n",
    "def hello(): \n",
    "    print(\"Hello Suesha\") "
   ]
  },
  {
   "cell_type": "code",
   "execution_count": 9,
   "metadata": {},
   "outputs": [
    {
     "data": {
      "text/plain": [
       "'hello world'"
      ]
     },
     "execution_count": 9,
     "metadata": {},
     "output_type": "execute_result"
    }
   ],
   "source": [
    "#decorators will hepl build frameworks..\n",
    "def strings(function):\n",
    "    def wrapper():\n",
    "        fun=function()\n",
    "        x=fun.lower()\n",
    "        return x\n",
    "    return wrapper #wrapper lai call garne ani esle deko kura lai tala tira return garne in info()\n",
    "\n",
    "@strings #main function being called\n",
    "def info():\n",
    "    return \"hello world\"\n",
    "\n",
    "info()"
   ]
  },
  {
   "cell_type": "code",
   "execution_count": 10,
   "metadata": {},
   "outputs": [
    {
     "data": {
      "text/plain": [
       "['hellow', 'world']"
      ]
     },
     "execution_count": 10,
     "metadata": {},
     "output_type": "execute_result"
    }
   ],
   "source": [
    "#multiple decorators\n",
    "#decorators will help build frameworks..\n",
    "def strings(function):\n",
    "    def wrapper():\n",
    "        fun=function()\n",
    "        x=fun.lower()\n",
    "        return x\n",
    "    return wrapper #wrapper lai call garne ani esle deko kura lai tala tira return garne in info()\n",
    "\n",
    "def split_string(function):\n",
    "    def wrappe():\n",
    "        func=function()\n",
    "        splitted_string=func.split()\n",
    "        return splitted_string\n",
    "    return wrappe \n",
    "\n",
    "@split_string\n",
    "@strings #suruma strings will execute and its output will be send to info then after that infovalue will be passed to split_strings and again returned to info()\n",
    "def info():\n",
    "    return \"Hellow World\"\n",
    "info()"
   ]
  },
  {
   "cell_type": "code",
   "execution_count": 11,
   "metadata": {},
   "outputs": [
    {
     "name": "stdout",
     "output_type": "stream",
     "text": [
      "2021-01-26\n"
     ]
    }
   ],
   "source": [
    "#DATE AND TIME\n",
    "#datetime is a package\n",
    "from datetime import date\n",
    "now=date.today()\n",
    "print(now)"
   ]
  },
  {
   "cell_type": "code",
   "execution_count": 13,
   "metadata": {},
   "outputs": [
    {
     "name": "stdout",
     "output_type": "stream",
     "text": [
      "2021-01-26 03:21:20.121666\n"
     ]
    }
   ],
   "source": [
    "from datetime import datetime\n",
    "datetime_object=datetime.now()\n",
    "print(datetime_object)"
   ]
  },
  {
   "cell_type": "code",
   "execution_count": 14,
   "metadata": {},
   "outputs": [
    {
     "data": {
      "text/plain": [
       "<re.Match object; span=(11, 17), match='suesha'>"
      ]
     },
     "execution_count": 14,
     "metadata": {},
     "output_type": "execute_result"
    }
   ],
   "source": [
    "#regular expressions\n",
    "a =\"hello i am suesha\"\n",
    "import re\n",
    "m=re.search('suesha',a) # span(11,17) ..suesha starts from 11 index\n",
    "m"
   ]
  },
  {
   "cell_type": "code",
   "execution_count": 15,
   "metadata": {},
   "outputs": [
    {
     "data": {
      "text/plain": [
       "['C:\\\\Users\\\\ACER\\\\Python class',\n",
       " 'C:\\\\Users\\\\ACER\\\\anaconda3\\\\python38.zip',\n",
       " 'C:\\\\Users\\\\ACER\\\\anaconda3\\\\DLLs',\n",
       " 'C:\\\\Users\\\\ACER\\\\anaconda3\\\\lib',\n",
       " 'C:\\\\Users\\\\ACER\\\\anaconda3',\n",
       " '',\n",
       " 'C:\\\\Users\\\\ACER\\\\anaconda3\\\\lib\\\\site-packages',\n",
       " 'C:\\\\Users\\\\ACER\\\\anaconda3\\\\lib\\\\site-packages\\\\win32',\n",
       " 'C:\\\\Users\\\\ACER\\\\anaconda3\\\\lib\\\\site-packages\\\\win32\\\\lib',\n",
       " 'C:\\\\Users\\\\ACER\\\\anaconda3\\\\lib\\\\site-packages\\\\Pythonwin',\n",
       " 'C:\\\\Users\\\\ACER\\\\anaconda3\\\\lib\\\\site-packages\\\\IPython\\\\extensions',\n",
       " 'C:\\\\Users\\\\ACER\\\\.ipython']"
      ]
     },
     "execution_count": 15,
     "metadata": {},
     "output_type": "execute_result"
    }
   ],
   "source": [
    "#sys...to check there is python install in virtual environment\n",
    "#system\n",
    "import sys\n",
    "sys.path"
   ]
  },
  {
   "cell_type": "code",
   "execution_count": null,
   "metadata": {},
   "outputs": [],
   "source": []
  }
 ],
 "metadata": {
  "kernelspec": {
   "display_name": "Python 3",
   "language": "python",
   "name": "python3"
  },
  "language_info": {
   "codemirror_mode": {
    "name": "ipython",
    "version": 3
   },
   "file_extension": ".py",
   "mimetype": "text/x-python",
   "name": "python",
   "nbconvert_exporter": "python",
   "pygments_lexer": "ipython3",
   "version": "3.8.5"
  }
 },
 "nbformat": 4,
 "nbformat_minor": 4
}
