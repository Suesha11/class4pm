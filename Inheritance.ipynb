{
 "cells": [
  {
   "cell_type": "code",
   "execution_count": 1,
   "metadata": {},
   "outputs": [],
   "source": [
    "#Inheritance..wheninherited object is also shared\n",
    "\n"
   ]
  },
  {
   "cell_type": "code",
   "execution_count": 2,
   "metadata": {},
   "outputs": [
    {
     "name": "stdout",
     "output_type": "stream",
     "text": [
      "ram kapan\n",
      "name and add is ram kapan\n"
     ]
    }
   ],
   "source": [
    "class Profile:\n",
    "    def __init__(self,name,address):\n",
    "        self.name=name\n",
    "        self.address=address\n",
    "    def profile(self):\n",
    "        print(\"name and add is\",self.name,self.address)\n",
    "        \n",
    "class Hr(Profile):\n",
    "    def info(self):\n",
    "        print(self.name,self.address)\n",
    "        \n",
    "x = Hr(\"ram\",\"kapan\")\n",
    "x.info()\n",
    "x.profile()"
   ]
  },
  {
   "cell_type": "code",
   "execution_count": 3,
   "metadata": {},
   "outputs": [
    {
     "name": "stdout",
     "output_type": "stream",
     "text": [
      "this is init function  ram 22\n",
      "hi i am ram.I am 22.I live in kathmandu\n",
      "ram 22\n"
     ]
    }
   ],
   "source": [
    "class A:\n",
    "    def __init__(self,name,age):\n",
    "        self.name=name\n",
    "        self.age=age\n",
    "        print(\"this is init function \",self.name,self.age)\n",
    "        \n",
    "class B(A):\n",
    "    def text(self,add):\n",
    "        print(f\"hi i am {self.name}.I am {self.age}.I live in {add}\")\n",
    "        \n",
    "              \n",
    "class C(B):\n",
    "    def last(self):\n",
    "        print(self.name,self.age)\n",
    "              \n",
    "              \n",
    "x = C(\"ram\",22)\n",
    "x.text(\"kathmandu\")\n",
    "x.last()\n",
    "              \n",
    "              \n",
    "\n",
    "        "
   ]
  },
  {
   "cell_type": "code",
   "execution_count": 4,
   "metadata": {},
   "outputs": [
    {
     "name": "stdout",
     "output_type": "stream",
     "text": [
      "this is init function  ram 22\n",
      "hi i am ram.I am 22.I live in kathmandu\n",
      "ram 22\n"
     ]
    }
   ],
   "source": [
    "#Multiclass\n",
    "\n",
    "class Person:\n",
    "    #defining constructor\n",
    "    def __init__(self,personName,personAge):\n",
    "        self.name=personName\n",
    "        self.age=personAge\n",
    "    #defining class method\n",
    "        \n",
    "class B(A):\n",
    "    def text(self,add):\n",
    "        print(f\"hi i am {self.name}.I am {self.age}.I live in {add}\")\n",
    "        \n",
    "              \n",
    "class C(B):\n",
    "    def last(self):\n",
    "        print(self.name,self.age)\n",
    "              \n",
    "              \n",
    "x = C(\"ram\",22)\n",
    "x.text(\"kathmandu\")\n",
    "x.last()\n",
    "              "
   ]
  },
  {
   "cell_type": "code",
   "execution_count": 5,
   "metadata": {},
   "outputs": [
    {
     "name": "stdout",
     "output_type": "stream",
     "text": [
      "hello i am ram.I am 22 years old.My id is 3\n"
     ]
    }
   ],
   "source": [
    "class Person:\n",
    "    #defining constructor\n",
    "    def __init__(self,personName,personAge):\n",
    "        self.name=personName\n",
    "        self.age=personAge\n",
    "    #defining class method\n",
    "    def showName(self):\n",
    "        print(self.name)\n",
    "    def showAge(self):\n",
    "        print(self.age)\n",
    "        \n",
    "class Student:\n",
    "    \n",
    "    def __init__(self,studentId):\n",
    "        self.ids=studentId\n",
    "       \n",
    "   \n",
    "    def getId(self):\n",
    "        return self.ids\n",
    "    \n",
    "class Resident(Person,Student):\n",
    "   \n",
    "    def __init__(self,n,a,i):\n",
    "        Person.__init__(self,n,a)\n",
    "        Student.__init__(self,i)\n",
    "    def info(self):\n",
    "        print(f\"hello i am {self.name}.I am {self.age} years old.My id is {self.ids}\")\n",
    "              \n",
    "        \n",
    "x= Resident(\"ram\",22,3)\n",
    "x.info()\n",
    "\n",
    "\n",
    "\n",
    "              "
   ]
  },
  {
   "cell_type": "code",
   "execution_count": 6,
   "metadata": {},
   "outputs": [],
   "source": [
    "#super() le aru class ko methods lai inherit garcha\n",
    "\n",
    "#Multi Level Inheritance\n",
    "\n"
   ]
  },
  {
   "cell_type": "code",
   "execution_count": null,
   "metadata": {},
   "outputs": [],
   "source": []
  },
  {
   "cell_type": "code",
   "execution_count": null,
   "metadata": {},
   "outputs": [],
   "source": []
  }
 ],
 "metadata": {
  "kernelspec": {
   "display_name": "Python 3",
   "language": "python",
   "name": "python3"
  },
  "language_info": {
   "codemirror_mode": {
    "name": "ipython",
    "version": 3
   },
   "file_extension": ".py",
   "mimetype": "text/x-python",
   "name": "python",
   "nbconvert_exporter": "python",
   "pygments_lexer": "ipython3",
   "version": "3.7.4"
  }
 },
 "nbformat": 4,
 "nbformat_minor": 2
}
