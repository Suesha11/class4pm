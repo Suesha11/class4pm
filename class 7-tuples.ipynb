{
 "cells": [
  {
   "cell_type": "code",
   "execution_count": 1,
   "metadata": {},
   "outputs": [
    {
     "ename": "AttributeError",
     "evalue": "'tuple' object has no attribute 'append'",
     "output_type": "error",
     "traceback": [
      "\u001b[1;31m---------------------------------------------------------------------------\u001b[0m",
      "\u001b[1;31mAttributeError\u001b[0m                            Traceback (most recent call last)",
      "\u001b[1;32m<ipython-input-1-6ced11a5164e>\u001b[0m in \u001b[0;36m<module>\u001b[1;34m\u001b[0m\n\u001b[0;32m      1\u001b[0m \u001b[0ma\u001b[0m\u001b[1;33m=\u001b[0m\u001b[1;33m(\u001b[0m\u001b[1;36m1\u001b[0m\u001b[1;33m,\u001b[0m\u001b[1;36m2\u001b[0m\u001b[1;33m,\u001b[0m\u001b[1;36m3\u001b[0m\u001b[1;33m,\u001b[0m\u001b[1;36m4\u001b[0m\u001b[1;33m,\u001b[0m\u001b[1;36m5\u001b[0m\u001b[1;33m)\u001b[0m\u001b[1;33m\u001b[0m\u001b[1;33m\u001b[0m\u001b[0m\n\u001b[1;32m----> 2\u001b[1;33m \u001b[0ma\u001b[0m\u001b[1;33m.\u001b[0m\u001b[0mappend\u001b[0m\u001b[1;33m(\u001b[0m\u001b[1;36m2\u001b[0m\u001b[1;33m)\u001b[0m\u001b[1;33m\u001b[0m\u001b[1;33m\u001b[0m\u001b[0m\n\u001b[0m",
      "\u001b[1;31mAttributeError\u001b[0m: 'tuple' object has no attribute 'append'"
     ]
    }
   ],
   "source": [
    "a=(1,2,3,4,5) #no append in tuple ..no delete..no remove\n",
    "a.append(2)"
   ]
  },
  {
   "cell_type": "code",
   "execution_count": 2,
   "metadata": {},
   "outputs": [
    {
     "ename": "TypeError",
     "evalue": "'tuple' object does not support item assignment",
     "output_type": "error",
     "traceback": [
      "\u001b[1;31m---------------------------------------------------------------------------\u001b[0m",
      "\u001b[1;31mTypeError\u001b[0m                                 Traceback (most recent call last)",
      "\u001b[1;32m<ipython-input-2-33a8eb2c774b>\u001b[0m in \u001b[0;36m<module>\u001b[1;34m\u001b[0m\n\u001b[0;32m      1\u001b[0m \u001b[0ma\u001b[0m\u001b[1;33m=\u001b[0m\u001b[1;33m(\u001b[0m\u001b[1;36m1\u001b[0m\u001b[1;33m,\u001b[0m\u001b[1;36m2\u001b[0m\u001b[1;33m,\u001b[0m\u001b[1;36m3\u001b[0m\u001b[1;33m,\u001b[0m\u001b[1;36m4\u001b[0m\u001b[1;33m,\u001b[0m\u001b[1;36m5\u001b[0m\u001b[1;33m)\u001b[0m \u001b[1;31m#no append in tuple ..no delete..no remove\u001b[0m\u001b[1;33m\u001b[0m\u001b[1;33m\u001b[0m\u001b[0m\n\u001b[1;32m----> 2\u001b[1;33m \u001b[0ma\u001b[0m\u001b[1;33m[\u001b[0m\u001b[1;36m0\u001b[0m\u001b[1;33m]\u001b[0m\u001b[1;33m=\u001b[0m\u001b[1;36m1\u001b[0m\u001b[1;33m\u001b[0m\u001b[1;33m\u001b[0m\u001b[0m\n\u001b[0m",
      "\u001b[1;31mTypeError\u001b[0m: 'tuple' object does not support item assignment"
     ]
    }
   ],
   "source": [
    "a=(1,2,3,4,5) #no replace.... no assigmment\n",
    "a[0]=1 "
   ]
  },
  {
   "cell_type": "code",
   "execution_count": 5,
   "metadata": {},
   "outputs": [
    {
     "name": "stdout",
     "output_type": "stream",
     "text": [
      "<class 'tuple'>\n",
      "3\n"
     ]
    }
   ],
   "source": [
    "#tuple within tuple\n",
    "a=((1,2,3),(2,3,4),(4,5,6))\n",
    "print(type(a))\n",
    "print(len(a))"
   ]
  },
  {
   "cell_type": "code",
   "execution_count": 6,
   "metadata": {},
   "outputs": [
    {
     "data": {
      "text/plain": [
       "(1, 2, 3)"
      ]
     },
     "execution_count": 6,
     "metadata": {},
     "output_type": "execute_result"
    }
   ],
   "source": [
    "#add tuple with tuple\n",
    "\n",
    "a=()\n",
    "b=(1,2,3)\n",
    "a+b"
   ]
  },
  {
   "cell_type": "code",
   "execution_count": 8,
   "metadata": {},
   "outputs": [
    {
     "data": {
      "text/plain": [
       "((1, 2, 3),)"
      ]
     },
     "execution_count": 8,
     "metadata": {},
     "output_type": "execute_result"
    }
   ],
   "source": [
    "\n",
    "a=()\n",
    "b=(1,2,3)\n",
    "a+(b,)"
   ]
  },
  {
   "cell_type": "code",
   "execution_count": 10,
   "metadata": {},
   "outputs": [
    {
     "data": {
      "text/plain": [
       "((1, 2, 3), (4, 5, 6))"
      ]
     },
     "execution_count": 10,
     "metadata": {},
     "output_type": "execute_result"
    }
   ],
   "source": [
    "\n",
    "a=()\n",
    "b=(1,2,3)\n",
    "c=(4,5,6)\n",
    "a+(b,)+(c,)"
   ]
  },
  {
   "cell_type": "code",
   "execution_count": 11,
   "metadata": {},
   "outputs": [
    {
     "name": "stdout",
     "output_type": "stream",
     "text": [
      "enter the name=asdas\n",
      "enter the age12\n",
      "enter the addressasdasd\n",
      "enter the name=adasd\n",
      "enter the age12\n",
      "enter the addressasdas\n",
      "('adasd', 12, 'asdas', 'asdas', 12, 'asdasd')\n"
     ]
    }
   ],
   "source": [
    "a=()\n",
    "for i in range(2):\n",
    "    name=input(\"enter the name=\")\n",
    "    age=int(input(\"enter the age\"))\n",
    "    address=input(\"enter the address\")\n",
    "    c=(name,age,address)\n",
    "    a=c+a #tuple elements lai matra add gardiyo\n",
    "print(a)\n",
    "    "
   ]
  },
  {
   "cell_type": "code",
   "execution_count": 14,
   "metadata": {},
   "outputs": [
    {
     "name": "stdout",
     "output_type": "stream",
     "text": [
      "enter the name=sdfsd\n",
      "enter the age12\n",
      "enter the addresssdfsdf\n",
      "enter the name=sdsfsd\n",
      "enter the age13\n",
      "enter the addressdfsdf\n",
      "(('sdsfsd', 13, 'dfsdf'), ('sdfsd', 12, 'sdfsdf'))\n"
     ]
    }
   ],
   "source": [
    "a=()\n",
    "for i in range(2):\n",
    "    name=input(\"enter the name=\")\n",
    "    age=int(input(\"enter the age\"))\n",
    "    address=input(\"enter the address\")\n",
    "    c=(name,age,address)\n",
    "    a=(c,)+a #() dont make a difference but adding (,)means this is also denoted as tuple\n",
    "print(a)\n",
    "    "
   ]
  },
  {
   "cell_type": "code",
   "execution_count": 15,
   "metadata": {},
   "outputs": [
    {
     "data": {
      "text/plain": [
       "([1, 2, 3], [4, 5, 6])"
      ]
     },
     "execution_count": 15,
     "metadata": {},
     "output_type": "execute_result"
    }
   ],
   "source": [
    "#list within tuple\n",
    "x=([1,2,3],[4,5,6])\n",
    "x"
   ]
  },
  {
   "cell_type": "code",
   "execution_count": 16,
   "metadata": {},
   "outputs": [
    {
     "name": "stdout",
     "output_type": "stream",
     "text": [
      "enter the name=fdgdf\n",
      "enter the age12\n",
      "enter the addresssdfsd\n",
      "enter the name=sdfsdf\n",
      "enter the age12\n",
      "enter the addressdfsd\n",
      "(['sdfsdf', 12, 'dfsd'], ['fdgdf', 12, 'sdfsd'])\n"
     ]
    }
   ],
   "source": [
    "a=()\n",
    "for i in range(2):\n",
    "    name=input(\"enter the name=\")\n",
    "    age=int(input(\"enter the age\"))\n",
    "    address=input(\"enter the address\")\n",
    "    c=[name,age,address]\n",
    "    a=(c,)+a #() dont make a difference but adding (,)means this is also denoted as tuple\n",
    "print(a)\n",
    "    "
   ]
  },
  {
   "cell_type": "code",
   "execution_count": 18,
   "metadata": {},
   "outputs": [
    {
     "data": {
      "text/plain": [
       "([1, 2, 3, '5'], [4, 5, 6])"
      ]
     },
     "execution_count": 18,
     "metadata": {},
     "output_type": "execute_result"
    }
   ],
   "source": [
    "#tuple bhitra ko list ma add garna milyo\n",
    "x=([1,2,3],[4,5,6])\n",
    "x[0].append('5')\n",
    "x"
   ]
  },
  {
   "cell_type": "code",
   "execution_count": 19,
   "metadata": {},
   "outputs": [
    {
     "data": {
      "text/plain": [
       "[1, 2, 3, 4]"
      ]
     },
     "execution_count": 19,
     "metadata": {},
     "output_type": "execute_result"
    }
   ],
   "source": [
    "#change tuple to list\n",
    "a=(1,2,3,4)\n",
    "list(a)"
   ]
  },
  {
   "cell_type": "code",
   "execution_count": 22,
   "metadata": {},
   "outputs": [
    {
     "data": {
      "text/plain": [
       "(1, 2, 3, 4, 6)"
      ]
     },
     "execution_count": 22,
     "metadata": {},
     "output_type": "execute_result"
    }
   ],
   "source": [
    "#change list to tuple\n",
    "a=(1,2,3,4)\n",
    "\n",
    "a=list(a)\n",
    "\n",
    "a.append(6)\n",
    "tuple(a)"
   ]
  },
  {
   "cell_type": "code",
   "execution_count": 23,
   "metadata": {},
   "outputs": [
    {
     "name": "stdout",
     "output_type": "stream",
     "text": [
      "(1, 2, 3)\n",
      "(3, 4, 5, 6)\n",
      "(4, 5, 6)\n"
     ]
    }
   ],
   "source": [
    "x=((1,2,3),(3,4,5,6),(4,5,6))\n",
    "#chnaging it into list inside list\n",
    "\n",
    "for i in range(len(x)):\n",
    "    y=x[i]\n",
    "    print(y)"
   ]
  },
  {
   "cell_type": "code",
   "execution_count": 24,
   "metadata": {},
   "outputs": [
    {
     "name": "stdout",
     "output_type": "stream",
     "text": [
      "[1, 2, 3]\n",
      "[3, 4, 5, 6]\n",
      "[4, 5, 6]\n"
     ]
    }
   ],
   "source": [
    "x=((1,2,3),(3,4,5,6),(4,5,6))\n",
    "#chnaging it into list inside list\n",
    "\n",
    "for i in range(len(x)):\n",
    "    y=list(x[i])\n",
    "    print(y)"
   ]
  },
  {
   "cell_type": "code",
   "execution_count": 30,
   "metadata": {},
   "outputs": [
    {
     "name": "stdout",
     "output_type": "stream",
     "text": [
      "[[1, 2, 3], [3, 4, 5, 6], [4, 5, 6]]\n"
     ]
    }
   ],
   "source": [
    "x=((1,2,3),(3,4,5,6),(4,5,6))\n",
    "#chnaging it into list inside list\n",
    "z=[]\n",
    "for i in range(len(x)):\n",
    "    y=list(x[i])\n",
    "    \n",
    "    z.append(y)\n",
    "print(z)"
   ]
  },
  {
   "cell_type": "code",
   "execution_count": 43,
   "metadata": {},
   "outputs": [
    {
     "name": "stdout",
     "output_type": "stream",
     "text": [
      "enter the no of students=2\n",
      "enter the name=dsdfs\n",
      "enter the marks of dsa=1\n",
      "enter the marks of compiler=1\n",
      "enter the marks of oop=1\n",
      "enter the name=sdfsdf\n",
      "enter the marks of dsa=1\n",
      "enter the marks of compiler=1\n",
      "enter the marks of oop=1\n",
      "[['dsdfs', 1, 1, 1, 3, 1.0], ['sdfsdf', 1, 1, 1, 3, 1.0]]\n"
     ]
    }
   ],
   "source": [
    "#marksheet\n",
    "\n",
    "n=int(input(\"enter the no of students=\"))\n",
    "x=[]\n",
    "for i in range(n):\n",
    "    name=input(\"enter the name=\")\n",
    "    dsa=int(input(\"enter the marks of dsa=\"))\n",
    "    compiler=int(input(\"enter the marks of compiler=\"))\n",
    "    oop=int(input(\"enter the marks of oop=\"))\n",
    "    total=sum([dsa,compiler,oop])\n",
    "    per=total/3\n",
    "    x.append([name,dsa,compiler,oop,total,per])\n",
    "    \n",
    "print(x)\n",
    "    "
   ]
  },
  {
   "cell_type": "code",
   "execution_count": 46,
   "metadata": {},
   "outputs": [
    {
     "name": "stdout",
     "output_type": "stream",
     "text": [
      "(('sdfsdf', 1, 1, 1, 3, 1.0), ('dsdfs', 1, 1, 1, 3, 1.0))\n"
     ]
    }
   ],
   "source": [
    "z=()\n",
    "for i in range(len(x)):\n",
    "    y=tuple(x[i])\n",
    "    z=(y,)+z\n",
    "    \n",
    "print(z)\n",
    "    "
   ]
  },
  {
   "cell_type": "code",
   "execution_count": null,
   "metadata": {},
   "outputs": [],
   "source": [
    "#marksheet\n",
    "\n",
    "n=int(input(\"enter the no of students=\"))\n",
    "x=()\n",
    "for i in range(n):\n",
    "    name=input(\"enter the name=\")\n",
    "    dsa=int(input(\"enter the marks of dsa=\"))\n",
    "    compiler=int(input(\"enter the marks of compiler=\"))\n",
    "    oop=int(input(\"enter the marks of oop=\"))\n",
    "    \n",
    "    x.append([name,dsa,compiler,oop,total,per])\n",
    "    \n",
    "print(x)\n",
    "    "
   ]
  }
 ],
 "metadata": {
  "kernelspec": {
   "display_name": "Python 3",
   "language": "python",
   "name": "python3"
  },
  "language_info": {
   "codemirror_mode": {
    "name": "ipython",
    "version": 3
   },
   "file_extension": ".py",
   "mimetype": "text/x-python",
   "name": "python",
   "nbconvert_exporter": "python",
   "pygments_lexer": "ipython3",
   "version": "3.7.4"
  }
 },
 "nbformat": 4,
 "nbformat_minor": 2
}
