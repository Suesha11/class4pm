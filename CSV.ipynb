{
 "cells": [
  {
   "cell_type": "code",
   "execution_count": 5,
   "metadata": {},
   "outputs": [
    {
     "name": "stdout",
     "output_type": "stream",
     "text": [
      "enter the no of users=2\n",
      "enter the name=sdfsdf\n",
      "enter the age=23\n",
      "enter the address=dfsdf\n",
      "enter the phone number=2424234\n",
      "enter the name=dfsdfsdf\n",
      "enter the age=23\n",
      "enter the address=dfsdfsd\n",
      "enter the phone number=234324\n"
     ]
    }
   ],
   "source": [
    "\n",
    "#import pandas for well maintained data...data manipulation\n",
    "n=int(input(\"enter the no of users=\"))\n",
    "\n",
    "b=open(\"record1.csv\",'w')\n",
    "b.write(\"Name,Age,Address,Phone\\n\")\n",
    "for i in range(n):\n",
    "\n",
    "    name=input(\"enter the name=\")\n",
    "    age=int(input(\"enter the age=\"))\n",
    "    address=input(\"enter the address=\")\n",
    "    phone_number=int(input(\"enter the phone number=\"))\n",
    "    info=f\"{name},{age},{address},{phone_number}\\n\"  #or info =f\"\n",
    "    \n",
    "   \n",
    "   \n",
    "    b.write(info)\n",
    "    \n",
    "b.close()"
   ]
  },
  {
   "cell_type": "code",
   "execution_count": 8,
   "metadata": {},
   "outputs": [
    {
     "data": {
      "text/html": [
       "<div>\n",
       "<style scoped>\n",
       "    .dataframe tbody tr th:only-of-type {\n",
       "        vertical-align: middle;\n",
       "    }\n",
       "\n",
       "    .dataframe tbody tr th {\n",
       "        vertical-align: top;\n",
       "    }\n",
       "\n",
       "    .dataframe thead th {\n",
       "        text-align: right;\n",
       "    }\n",
       "</style>\n",
       "<table border=\"1\" class=\"dataframe\">\n",
       "  <thead>\n",
       "    <tr style=\"text-align: right;\">\n",
       "      <th></th>\n",
       "      <th>Name</th>\n",
       "      <th>Age</th>\n",
       "      <th>Address</th>\n",
       "      <th>Phone</th>\n",
       "    </tr>\n",
       "  </thead>\n",
       "  <tbody>\n",
       "    <tr>\n",
       "      <td>0</td>\n",
       "      <td>sdfsdf</td>\n",
       "      <td>23</td>\n",
       "      <td>dfsdf</td>\n",
       "      <td>2424234</td>\n",
       "    </tr>\n",
       "    <tr>\n",
       "      <td>1</td>\n",
       "      <td>dfsdfsdf</td>\n",
       "      <td>23</td>\n",
       "      <td>dfsdfsd</td>\n",
       "      <td>234324</td>\n",
       "    </tr>\n",
       "  </tbody>\n",
       "</table>\n",
       "</div>"
      ],
      "text/plain": [
       "       Name  Age  Address    Phone\n",
       "0    sdfsdf   23    dfsdf  2424234\n",
       "1  dfsdfsdf   23  dfsdfsd   234324"
      ]
     },
     "execution_count": 8,
     "metadata": {},
     "output_type": "execute_result"
    }
   ],
   "source": [
    "import pandas as pd\n",
    "df=pd.read_csv('record1.csv',nrows=2) #nrows shows the number of data..comma separated value is diff value\n",
    "df"
   ]
  },
  {
   "cell_type": "code",
   "execution_count": 9,
   "metadata": {},
   "outputs": [
    {
     "data": {
      "text/html": [
       "<div>\n",
       "<style scoped>\n",
       "    .dataframe tbody tr th:only-of-type {\n",
       "        vertical-align: middle;\n",
       "    }\n",
       "\n",
       "    .dataframe tbody tr th {\n",
       "        vertical-align: top;\n",
       "    }\n",
       "\n",
       "    .dataframe thead th {\n",
       "        text-align: right;\n",
       "    }\n",
       "</style>\n",
       "<table border=\"1\" class=\"dataframe\">\n",
       "  <thead>\n",
       "    <tr style=\"text-align: right;\">\n",
       "      <th></th>\n",
       "      <th>Name</th>\n",
       "      <th>Age</th>\n",
       "      <th>Address</th>\n",
       "      <th>Phone</th>\n",
       "    </tr>\n",
       "  </thead>\n",
       "  <tbody>\n",
       "    <tr>\n",
       "      <td>0</td>\n",
       "      <td>sdfsdf</td>\n",
       "      <td>23</td>\n",
       "      <td>dfsdf</td>\n",
       "      <td>2424234</td>\n",
       "    </tr>\n",
       "    <tr>\n",
       "      <td>1</td>\n",
       "      <td>dfsdfsdf</td>\n",
       "      <td>23</td>\n",
       "      <td>dfsdfsd</td>\n",
       "      <td>234324</td>\n",
       "    </tr>\n",
       "  </tbody>\n",
       "</table>\n",
       "</div>"
      ],
      "text/plain": [
       "       Name  Age  Address    Phone\n",
       "0    sdfsdf   23    dfsdf  2424234\n",
       "1  dfsdfsdf   23  dfsdfsd   234324"
      ]
     },
     "execution_count": 9,
     "metadata": {},
     "output_type": "execute_result"
    }
   ],
   "source": [
    "df.head() #mathibata data"
   ]
  },
  {
   "cell_type": "code",
   "execution_count": 10,
   "metadata": {},
   "outputs": [
    {
     "data": {
      "text/html": [
       "<div>\n",
       "<style scoped>\n",
       "    .dataframe tbody tr th:only-of-type {\n",
       "        vertical-align: middle;\n",
       "    }\n",
       "\n",
       "    .dataframe tbody tr th {\n",
       "        vertical-align: top;\n",
       "    }\n",
       "\n",
       "    .dataframe thead th {\n",
       "        text-align: right;\n",
       "    }\n",
       "</style>\n",
       "<table border=\"1\" class=\"dataframe\">\n",
       "  <thead>\n",
       "    <tr style=\"text-align: right;\">\n",
       "      <th></th>\n",
       "      <th>Name</th>\n",
       "      <th>Age</th>\n",
       "      <th>Address</th>\n",
       "      <th>Phone</th>\n",
       "    </tr>\n",
       "  </thead>\n",
       "  <tbody>\n",
       "    <tr>\n",
       "      <td>0</td>\n",
       "      <td>sdfsdf</td>\n",
       "      <td>23</td>\n",
       "      <td>dfsdf</td>\n",
       "      <td>2424234</td>\n",
       "    </tr>\n",
       "    <tr>\n",
       "      <td>1</td>\n",
       "      <td>dfsdfsdf</td>\n",
       "      <td>23</td>\n",
       "      <td>dfsdfsd</td>\n",
       "      <td>234324</td>\n",
       "    </tr>\n",
       "  </tbody>\n",
       "</table>\n",
       "</div>"
      ],
      "text/plain": [
       "       Name  Age  Address    Phone\n",
       "0    sdfsdf   23    dfsdf  2424234\n",
       "1  dfsdfsdf   23  dfsdfsd   234324"
      ]
     },
     "execution_count": 10,
     "metadata": {},
     "output_type": "execute_result"
    }
   ],
   "source": [
    "df.tail()"
   ]
  },
  {
   "cell_type": "code",
   "execution_count": 11,
   "metadata": {},
   "outputs": [
    {
     "data": {
      "text/plain": [
       "0      sdfsdf\n",
       "1    dfsdfsdf\n",
       "Name: Name, dtype: object"
      ]
     },
     "execution_count": 11,
     "metadata": {},
     "output_type": "execute_result"
    }
   ],
   "source": [
    "df['Name']"
   ]
  },
  {
   "cell_type": "code",
   "execution_count": 13,
   "metadata": {},
   "outputs": [
    {
     "data": {
      "text/html": [
       "<div>\n",
       "<style scoped>\n",
       "    .dataframe tbody tr th:only-of-type {\n",
       "        vertical-align: middle;\n",
       "    }\n",
       "\n",
       "    .dataframe tbody tr th {\n",
       "        vertical-align: top;\n",
       "    }\n",
       "\n",
       "    .dataframe thead th {\n",
       "        text-align: right;\n",
       "    }\n",
       "</style>\n",
       "<table border=\"1\" class=\"dataframe\">\n",
       "  <thead>\n",
       "    <tr style=\"text-align: right;\">\n",
       "      <th></th>\n",
       "      <th>Name</th>\n",
       "      <th>Age</th>\n",
       "      <th>Address</th>\n",
       "    </tr>\n",
       "    <tr>\n",
       "      <th>Phone</th>\n",
       "      <th></th>\n",
       "      <th></th>\n",
       "      <th></th>\n",
       "    </tr>\n",
       "  </thead>\n",
       "  <tbody>\n",
       "    <tr>\n",
       "      <td>2424234</td>\n",
       "      <td>sdfsdf</td>\n",
       "      <td>23</td>\n",
       "      <td>dfsdf</td>\n",
       "    </tr>\n",
       "    <tr>\n",
       "      <td>234324</td>\n",
       "      <td>dfsdfsdf</td>\n",
       "      <td>23</td>\n",
       "      <td>dfsdfsd</td>\n",
       "    </tr>\n",
       "  </tbody>\n",
       "</table>\n",
       "</div>"
      ],
      "text/plain": [
       "             Name  Age  Address\n",
       "Phone                          \n",
       "2424234    sdfsdf   23    dfsdf\n",
       "234324   dfsdfsdf   23  dfsdfsd"
      ]
     },
     "execution_count": 13,
     "metadata": {},
     "output_type": "execute_result"
    }
   ],
   "source": [
    "import pandas as pd\n",
    "df=pd.read_csv('record1.csv',index_col='Phone') #index_col gives unique and universal  \n",
    "df"
   ]
  },
  {
   "cell_type": "code",
   "execution_count": 14,
   "metadata": {},
   "outputs": [],
   "source": [
    "import pandas as pd\n",
    "df=pd.read_csv('record1.csv',index_col=0) #0 index ma name cha"
   ]
  },
  {
   "cell_type": "code",
   "execution_count": 15,
   "metadata": {},
   "outputs": [
    {
     "data": {
      "text/html": [
       "<div>\n",
       "<style scoped>\n",
       "    .dataframe tbody tr th:only-of-type {\n",
       "        vertical-align: middle;\n",
       "    }\n",
       "\n",
       "    .dataframe tbody tr th {\n",
       "        vertical-align: top;\n",
       "    }\n",
       "\n",
       "    .dataframe thead th {\n",
       "        text-align: right;\n",
       "    }\n",
       "</style>\n",
       "<table border=\"1\" class=\"dataframe\">\n",
       "  <thead>\n",
       "    <tr style=\"text-align: right;\">\n",
       "      <th></th>\n",
       "      <th>Age</th>\n",
       "      <th>Address</th>\n",
       "      <th>Phone</th>\n",
       "    </tr>\n",
       "    <tr>\n",
       "      <th>Name</th>\n",
       "      <th></th>\n",
       "      <th></th>\n",
       "      <th></th>\n",
       "    </tr>\n",
       "  </thead>\n",
       "  <tbody>\n",
       "    <tr>\n",
       "      <td>sdfsdf</td>\n",
       "      <td>23</td>\n",
       "      <td>dfsdf</td>\n",
       "      <td>2424234</td>\n",
       "    </tr>\n",
       "    <tr>\n",
       "      <td>dfsdfsdf</td>\n",
       "      <td>23</td>\n",
       "      <td>dfsdfsd</td>\n",
       "      <td>234324</td>\n",
       "    </tr>\n",
       "  </tbody>\n",
       "</table>\n",
       "</div>"
      ],
      "text/plain": [
       "          Age  Address    Phone\n",
       "Name                           \n",
       "sdfsdf     23    dfsdf  2424234\n",
       "dfsdfsdf   23  dfsdfsd   234324"
      ]
     },
     "execution_count": 15,
     "metadata": {},
     "output_type": "execute_result"
    }
   ],
   "source": [
    "df"
   ]
  },
  {
   "cell_type": "code",
   "execution_count": 16,
   "metadata": {},
   "outputs": [],
   "source": [
    "#usecols..means which column to use.\n",
    "\n",
    "import pandas as pd\n",
    "df=pd.read_csv('record1.csv',index_col='Phone', usecols=(['Phone','Name']))"
   ]
  },
  {
   "cell_type": "code",
   "execution_count": 17,
   "metadata": {},
   "outputs": [
    {
     "data": {
      "text/html": [
       "<div>\n",
       "<style scoped>\n",
       "    .dataframe tbody tr th:only-of-type {\n",
       "        vertical-align: middle;\n",
       "    }\n",
       "\n",
       "    .dataframe tbody tr th {\n",
       "        vertical-align: top;\n",
       "    }\n",
       "\n",
       "    .dataframe thead th {\n",
       "        text-align: right;\n",
       "    }\n",
       "</style>\n",
       "<table border=\"1\" class=\"dataframe\">\n",
       "  <thead>\n",
       "    <tr style=\"text-align: right;\">\n",
       "      <th></th>\n",
       "      <th>Name</th>\n",
       "    </tr>\n",
       "    <tr>\n",
       "      <th>Phone</th>\n",
       "      <th></th>\n",
       "    </tr>\n",
       "  </thead>\n",
       "  <tbody>\n",
       "    <tr>\n",
       "      <td>2424234</td>\n",
       "      <td>sdfsdf</td>\n",
       "    </tr>\n",
       "    <tr>\n",
       "      <td>234324</td>\n",
       "      <td>dfsdfsdf</td>\n",
       "    </tr>\n",
       "  </tbody>\n",
       "</table>\n",
       "</div>"
      ],
      "text/plain": [
       "             Name\n",
       "Phone            \n",
       "2424234    sdfsdf\n",
       "234324   dfsdfsdf"
      ]
     },
     "execution_count": 17,
     "metadata": {},
     "output_type": "execute_result"
    }
   ],
   "source": [
    "df"
   ]
  },
  {
   "cell_type": "code",
   "execution_count": 20,
   "metadata": {},
   "outputs": [
    {
     "data": {
      "text/html": [
       "<div>\n",
       "<style scoped>\n",
       "    .dataframe tbody tr th:only-of-type {\n",
       "        vertical-align: middle;\n",
       "    }\n",
       "\n",
       "    .dataframe tbody tr th {\n",
       "        vertical-align: top;\n",
       "    }\n",
       "\n",
       "    .dataframe thead th {\n",
       "        text-align: right;\n",
       "    }\n",
       "</style>\n",
       "<table border=\"1\" class=\"dataframe\">\n",
       "  <thead>\n",
       "    <tr style=\"text-align: right;\">\n",
       "      <th></th>\n",
       "      <th>Name</th>\n",
       "      <th>Age</th>\n",
       "    </tr>\n",
       "    <tr>\n",
       "      <th>Phone</th>\n",
       "      <th></th>\n",
       "      <th></th>\n",
       "    </tr>\n",
       "  </thead>\n",
       "  <tbody>\n",
       "    <tr>\n",
       "      <td>2424234</td>\n",
       "      <td>sdfsdf</td>\n",
       "      <td>23</td>\n",
       "    </tr>\n",
       "  </tbody>\n",
       "</table>\n",
       "</div>"
      ],
      "text/plain": [
       "           Name  Age\n",
       "Phone               \n",
       "2424234  sdfsdf   23"
      ]
     },
     "execution_count": 20,
     "metadata": {},
     "output_type": "execute_result"
    }
   ],
   "source": [
    "#bich bata data nikalna...iloc\n",
    "#df.iloc[0:3,0:2] 0 to 3 is row...0 to 2 is column..ie.name and ag ein this case\n",
    "\n",
    "import pandas as pd\n",
    "df=pd.read_csv('record1.csv',index_col='Phone') \n",
    "df.iloc[0:1,0:2]\n"
   ]
  },
  {
   "cell_type": "code",
   "execution_count": 21,
   "metadata": {},
   "outputs": [
    {
     "data": {
      "text/html": [
       "<div>\n",
       "<style scoped>\n",
       "    .dataframe tbody tr th:only-of-type {\n",
       "        vertical-align: middle;\n",
       "    }\n",
       "\n",
       "    .dataframe tbody tr th {\n",
       "        vertical-align: top;\n",
       "    }\n",
       "\n",
       "    .dataframe thead th {\n",
       "        text-align: right;\n",
       "    }\n",
       "</style>\n",
       "<table border=\"1\" class=\"dataframe\">\n",
       "  <thead>\n",
       "    <tr style=\"text-align: right;\">\n",
       "      <th></th>\n",
       "      <th>Name</th>\n",
       "      <th>Age</th>\n",
       "    </tr>\n",
       "  </thead>\n",
       "  <tbody>\n",
       "    <tr>\n",
       "      <td>0</td>\n",
       "      <td>sdfsdf</td>\n",
       "      <td>23</td>\n",
       "    </tr>\n",
       "  </tbody>\n",
       "</table>\n",
       "</div>"
      ],
      "text/plain": [
       "     Name  Age\n",
       "0  sdfsdf   23"
      ]
     },
     "execution_count": 21,
     "metadata": {},
     "output_type": "execute_result"
    }
   ],
   "source": [
    "import pandas as pd\n",
    "df=pd.read_csv('record1.csv') \n",
    "df.iloc[0:1,0:2]"
   ]
  },
  {
   "cell_type": "code",
   "execution_count": 32,
   "metadata": {},
   "outputs": [
    {
     "data": {
      "text/html": [
       "<div>\n",
       "<style scoped>\n",
       "    .dataframe tbody tr th:only-of-type {\n",
       "        vertical-align: middle;\n",
       "    }\n",
       "\n",
       "    .dataframe tbody tr th {\n",
       "        vertical-align: top;\n",
       "    }\n",
       "\n",
       "    .dataframe thead th {\n",
       "        text-align: right;\n",
       "    }\n",
       "</style>\n",
       "<table border=\"1\" class=\"dataframe\">\n",
       "  <thead>\n",
       "    <tr style=\"text-align: right;\">\n",
       "      <th></th>\n",
       "      <th>Name</th>\n",
       "      <th>Age</th>\n",
       "      <th>Address</th>\n",
       "      <th>Phone</th>\n",
       "    </tr>\n",
       "  </thead>\n",
       "  <tbody>\n",
       "    <tr>\n",
       "      <td>1</td>\n",
       "      <td>dfsdfsdf</td>\n",
       "      <td>23</td>\n",
       "      <td>dfsdfsd</td>\n",
       "      <td>234324</td>\n",
       "    </tr>\n",
       "  </tbody>\n",
       "</table>\n",
       "</div>"
      ],
      "text/plain": [
       "       Name  Age  Address   Phone\n",
       "1  dfsdfsdf   23  dfsdfsd  234324"
      ]
     },
     "execution_count": 32,
     "metadata": {},
     "output_type": "execute_result"
    }
   ],
   "source": [
    "#queryy\n",
    "\n",
    "df[df['Name']=='dfsdfsdf']\n"
   ]
  },
  {
   "cell_type": "code",
   "execution_count": 29,
   "metadata": {},
   "outputs": [
    {
     "data": {
      "text/html": [
       "<div>\n",
       "<style scoped>\n",
       "    .dataframe tbody tr th:only-of-type {\n",
       "        vertical-align: middle;\n",
       "    }\n",
       "\n",
       "    .dataframe tbody tr th {\n",
       "        vertical-align: top;\n",
       "    }\n",
       "\n",
       "    .dataframe thead th {\n",
       "        text-align: right;\n",
       "    }\n",
       "</style>\n",
       "<table border=\"1\" class=\"dataframe\">\n",
       "  <thead>\n",
       "    <tr style=\"text-align: right;\">\n",
       "      <th></th>\n",
       "      <th>Name</th>\n",
       "      <th>Age</th>\n",
       "      <th>Address</th>\n",
       "      <th>Phone</th>\n",
       "    </tr>\n",
       "  </thead>\n",
       "  <tbody>\n",
       "    <tr>\n",
       "      <td>0</td>\n",
       "      <td>sdfsdf</td>\n",
       "      <td>23</td>\n",
       "      <td>dfsdf</td>\n",
       "      <td>2424234</td>\n",
       "    </tr>\n",
       "    <tr>\n",
       "      <td>1</td>\n",
       "      <td>dfsdfsdf</td>\n",
       "      <td>23</td>\n",
       "      <td>dfsdfsd</td>\n",
       "      <td>234324</td>\n",
       "    </tr>\n",
       "  </tbody>\n",
       "</table>\n",
       "</div>"
      ],
      "text/plain": [
       "       Name  Age  Address    Phone\n",
       "0    sdfsdf   23    dfsdf  2424234\n",
       "1  dfsdfsdf   23  dfsdfsd   234324"
      ]
     },
     "execution_count": 29,
     "metadata": {},
     "output_type": "execute_result"
    }
   ],
   "source": []
  },
  {
   "cell_type": "code",
   "execution_count": 34,
   "metadata": {},
   "outputs": [
    {
     "data": {
      "text/html": [
       "<div>\n",
       "<style scoped>\n",
       "    .dataframe tbody tr th:only-of-type {\n",
       "        vertical-align: middle;\n",
       "    }\n",
       "\n",
       "    .dataframe tbody tr th {\n",
       "        vertical-align: top;\n",
       "    }\n",
       "\n",
       "    .dataframe thead th {\n",
       "        text-align: right;\n",
       "    }\n",
       "</style>\n",
       "<table border=\"1\" class=\"dataframe\">\n",
       "  <thead>\n",
       "    <tr style=\"text-align: right;\">\n",
       "      <th></th>\n",
       "      <th>Name</th>\n",
       "      <th>Age</th>\n",
       "      <th>Address</th>\n",
       "      <th>Phone</th>\n",
       "    </tr>\n",
       "  </thead>\n",
       "  <tbody>\n",
       "    <tr>\n",
       "      <td>0</td>\n",
       "      <td>sdfsdf</td>\n",
       "      <td>23</td>\n",
       "      <td>dfsdf</td>\n",
       "      <td>2424234</td>\n",
       "    </tr>\n",
       "    <tr>\n",
       "      <td>1</td>\n",
       "      <td>dfsdfsdf</td>\n",
       "      <td>23</td>\n",
       "      <td>dfsdfsd</td>\n",
       "      <td>234324</td>\n",
       "    </tr>\n",
       "  </tbody>\n",
       "</table>\n",
       "</div>"
      ],
      "text/plain": [
       "       Name  Age  Address    Phone\n",
       "0    sdfsdf   23    dfsdf  2424234\n",
       "1  dfsdfsdf   23  dfsdfsd   234324"
      ]
     },
     "execution_count": 34,
     "metadata": {},
     "output_type": "execute_result"
    }
   ],
   "source": [
    "df[(df['Age']==23)|(df['Address']=='dfsdf')] "
   ]
  },
  {
   "cell_type": "code",
   "execution_count": 35,
   "metadata": {},
   "outputs": [
    {
     "data": {
      "text/html": [
       "<div>\n",
       "<style scoped>\n",
       "    .dataframe tbody tr th:only-of-type {\n",
       "        vertical-align: middle;\n",
       "    }\n",
       "\n",
       "    .dataframe tbody tr th {\n",
       "        vertical-align: top;\n",
       "    }\n",
       "\n",
       "    .dataframe thead th {\n",
       "        text-align: right;\n",
       "    }\n",
       "</style>\n",
       "<table border=\"1\" class=\"dataframe\">\n",
       "  <thead>\n",
       "    <tr style=\"text-align: right;\">\n",
       "      <th></th>\n",
       "      <th>Name</th>\n",
       "      <th>Age</th>\n",
       "      <th>Address</th>\n",
       "      <th>Phone</th>\n",
       "    </tr>\n",
       "  </thead>\n",
       "  <tbody>\n",
       "    <tr>\n",
       "      <td>0</td>\n",
       "      <td>sdfsdf</td>\n",
       "      <td>23</td>\n",
       "      <td>dfsdf</td>\n",
       "      <td>2424234</td>\n",
       "    </tr>\n",
       "  </tbody>\n",
       "</table>\n",
       "</div>"
      ],
      "text/plain": [
       "     Name  Age Address    Phone\n",
       "0  sdfsdf   23   dfsdf  2424234"
      ]
     },
     "execution_count": 35,
     "metadata": {},
     "output_type": "execute_result"
    }
   ],
   "source": [
    "df[(df['Age']==23) & (df['Address']=='dfsdf')] # & is for and "
   ]
  },
  {
   "cell_type": "code",
   "execution_count": 38,
   "metadata": {},
   "outputs": [
    {
     "data": {
      "text/html": [
       "<div>\n",
       "<style scoped>\n",
       "    .dataframe tbody tr th:only-of-type {\n",
       "        vertical-align: middle;\n",
       "    }\n",
       "\n",
       "    .dataframe tbody tr th {\n",
       "        vertical-align: top;\n",
       "    }\n",
       "\n",
       "    .dataframe thead th {\n",
       "        text-align: right;\n",
       "    }\n",
       "</style>\n",
       "<table border=\"1\" class=\"dataframe\">\n",
       "  <thead>\n",
       "    <tr style=\"text-align: right;\">\n",
       "      <th></th>\n",
       "      <th>Names</th>\n",
       "      <th>Address</th>\n",
       "      <th>Age</th>\n",
       "    </tr>\n",
       "  </thead>\n",
       "  <tbody>\n",
       "    <tr>\n",
       "      <td>0</td>\n",
       "      <td>Ram</td>\n",
       "      <td>kapan</td>\n",
       "      <td>23</td>\n",
       "    </tr>\n",
       "    <tr>\n",
       "      <td>1</td>\n",
       "      <td>Shyam</td>\n",
       "      <td>Bhaktapur</td>\n",
       "      <td>44</td>\n",
       "    </tr>\n",
       "    <tr>\n",
       "      <td>2</td>\n",
       "      <td>Hari</td>\n",
       "      <td>Kathmandu</td>\n",
       "      <td>35</td>\n",
       "    </tr>\n",
       "    <tr>\n",
       "      <td>0</td>\n",
       "      <td>Ram</td>\n",
       "      <td>kapan</td>\n",
       "      <td>23</td>\n",
       "    </tr>\n",
       "    <tr>\n",
       "      <td>1</td>\n",
       "      <td>Shyam</td>\n",
       "      <td>Bhaktapur</td>\n",
       "      <td>44</td>\n",
       "    </tr>\n",
       "    <tr>\n",
       "      <td>2</td>\n",
       "      <td>Hari</td>\n",
       "      <td>Kathmandu</td>\n",
       "      <td>35</td>\n",
       "    </tr>\n",
       "  </tbody>\n",
       "</table>\n",
       "</div>"
      ],
      "text/plain": [
       "   Names    Address  Age\n",
       "0    Ram      kapan   23\n",
       "1  Shyam  Bhaktapur   44\n",
       "2   Hari  Kathmandu   35\n",
       "0    Ram      kapan   23\n",
       "1  Shyam  Bhaktapur   44\n",
       "2   Hari  Kathmandu   35"
      ]
     },
     "execution_count": 38,
     "metadata": {},
     "output_type": "execute_result"
    }
   ],
   "source": [
    "#Dataframe..list inside dictionary can make it easy\n",
    "#in dataframe if we embed dictionary it becomes dataframe\n",
    "\n",
    "import pandas as pd\n",
    "\n",
    "data1={'Names':['Ram','Shyam','Hari'],'Address':['kapan','Bhaktapur','Kathmandu'],'Age':[23,44,35]}\n",
    "\n",
    "data2={'Names':['Sita','Sabita','Hina'],'Address':['kapan1','Bhaktapur2','Kathmandu3'],'Age':[13,34,25]}\n",
    "\n",
    "df1=pd.DataFrame(data1)\n",
    "\n",
    "df2=pd.DataFrame(data1)\n",
    "\n",
    "df=pd.concat([df1,df2])\n",
    "\n",
    "df.to_csv('record1.csv',)#df.to_csv()('books.csv') le concat gareko kura lai ie obtained df lai books.csv ma lagera rakhcha\n",
    "df #df.head le 5 ota matra display garcha"
   ]
  },
  {
   "cell_type": "code",
   "execution_count": 2,
   "metadata": {},
   "outputs": [
    {
     "name": "stdout",
     "output_type": "stream",
     "text": [
      "enter the no of users=5\n",
      "enter the name=sita\n",
      "enter the age=12\n",
      "enter the address=kapan\n",
      "enter the phone number=9876453266\n",
      "enter the name=sita\n",
      "enter the age=22\n",
      "enter the address=lalitpur\n",
      "enter the phone number=9845362788\n",
      "enter the name=gita\n",
      "enter the age=34\n",
      "enter the address=bhaktapur\n",
      "enter the phone number=9841234355\n",
      "enter the name=rita\n",
      "enter the age=11\n",
      "enter the address=kalopul\n",
      "enter the phone number=9851245233\n",
      "enter the name=shyam\n",
      "enter the age=33\n",
      "enter the address=terai\n",
      "enter the phone number=9851246256\n"
     ]
    }
   ],
   "source": [
    "\n",
    "#import pandas for well maintained data...data manipulation\n",
    "n=int(input(\"enter the no of users=\"))\n",
    "\n",
    "b=open(\"record2.csv\",'w')\n",
    "b.write(\"Name,Age,Address,Phone\\n\")\n",
    "for i in range(n):\n",
    "\n",
    "    name=input(\"enter the name=\")\n",
    "    age=int(input(\"enter the age=\"))\n",
    "    address=input(\"enter the address=\")\n",
    "    phone_number=int(input(\"enter the phone number=\"))\n",
    "    info=f\"{name},{age},{address},{phone_number}\\n\"  #or info =f\"\n",
    "    \n",
    "   \n",
    "   \n",
    "    b.write(info)\n",
    "    \n",
    "b.close()"
   ]
  },
  {
   "cell_type": "code",
   "execution_count": 3,
   "metadata": {},
   "outputs": [
    {
     "data": {
      "text/html": [
       "<div>\n",
       "<style scoped>\n",
       "    .dataframe tbody tr th:only-of-type {\n",
       "        vertical-align: middle;\n",
       "    }\n",
       "\n",
       "    .dataframe tbody tr th {\n",
       "        vertical-align: top;\n",
       "    }\n",
       "\n",
       "    .dataframe thead th {\n",
       "        text-align: right;\n",
       "    }\n",
       "</style>\n",
       "<table border=\"1\" class=\"dataframe\">\n",
       "  <thead>\n",
       "    <tr style=\"text-align: right;\">\n",
       "      <th></th>\n",
       "      <th>Age</th>\n",
       "      <th>Address</th>\n",
       "      <th>Phone</th>\n",
       "    </tr>\n",
       "    <tr>\n",
       "      <th>Name</th>\n",
       "      <th></th>\n",
       "      <th></th>\n",
       "      <th></th>\n",
       "    </tr>\n",
       "  </thead>\n",
       "  <tbody>\n",
       "    <tr>\n",
       "      <td>sita</td>\n",
       "      <td>12</td>\n",
       "      <td>kapan</td>\n",
       "      <td>9876453266</td>\n",
       "    </tr>\n",
       "    <tr>\n",
       "      <td>sita</td>\n",
       "      <td>22</td>\n",
       "      <td>lalitpur</td>\n",
       "      <td>9845362788</td>\n",
       "    </tr>\n",
       "    <tr>\n",
       "      <td>gita</td>\n",
       "      <td>34</td>\n",
       "      <td>bhaktapur</td>\n",
       "      <td>9841234355</td>\n",
       "    </tr>\n",
       "    <tr>\n",
       "      <td>rita</td>\n",
       "      <td>11</td>\n",
       "      <td>kalopul</td>\n",
       "      <td>9851245233</td>\n",
       "    </tr>\n",
       "    <tr>\n",
       "      <td>shyam</td>\n",
       "      <td>33</td>\n",
       "      <td>terai</td>\n",
       "      <td>9851246256</td>\n",
       "    </tr>\n",
       "  </tbody>\n",
       "</table>\n",
       "</div>"
      ],
      "text/plain": [
       "       Age    Address       Phone\n",
       "Name                             \n",
       "sita    12      kapan  9876453266\n",
       "sita    22   lalitpur  9845362788\n",
       "gita    34  bhaktapur  9841234355\n",
       "rita    11    kalopul  9851245233\n",
       "shyam   33      terai  9851246256"
      ]
     },
     "execution_count": 3,
     "metadata": {},
     "output_type": "execute_result"
    }
   ],
   "source": [
    "import pandas as pd\n",
    "df=pd.read_csv('record2.csv',index_col='Name')\n",
    "df"
   ]
  },
  {
   "cell_type": "code",
   "execution_count": 4,
   "metadata": {},
   "outputs": [
    {
     "data": {
      "text/html": [
       "<div>\n",
       "<style scoped>\n",
       "    .dataframe tbody tr th:only-of-type {\n",
       "        vertical-align: middle;\n",
       "    }\n",
       "\n",
       "    .dataframe tbody tr th {\n",
       "        vertical-align: top;\n",
       "    }\n",
       "\n",
       "    .dataframe thead th {\n",
       "        text-align: right;\n",
       "    }\n",
       "</style>\n",
       "<table border=\"1\" class=\"dataframe\">\n",
       "  <thead>\n",
       "    <tr style=\"text-align: right;\">\n",
       "      <th></th>\n",
       "      <th>Address</th>\n",
       "      <th>Phone</th>\n",
       "    </tr>\n",
       "    <tr>\n",
       "      <th>Name</th>\n",
       "      <th></th>\n",
       "      <th></th>\n",
       "    </tr>\n",
       "  </thead>\n",
       "  <tbody>\n",
       "    <tr>\n",
       "      <td>sita</td>\n",
       "      <td>kapan</td>\n",
       "      <td>9876453266</td>\n",
       "    </tr>\n",
       "    <tr>\n",
       "      <td>sita</td>\n",
       "      <td>lalitpur</td>\n",
       "      <td>9845362788</td>\n",
       "    </tr>\n",
       "    <tr>\n",
       "      <td>gita</td>\n",
       "      <td>bhaktapur</td>\n",
       "      <td>9841234355</td>\n",
       "    </tr>\n",
       "    <tr>\n",
       "      <td>rita</td>\n",
       "      <td>kalopul</td>\n",
       "      <td>9851245233</td>\n",
       "    </tr>\n",
       "    <tr>\n",
       "      <td>shyam</td>\n",
       "      <td>terai</td>\n",
       "      <td>9851246256</td>\n",
       "    </tr>\n",
       "  </tbody>\n",
       "</table>\n",
       "</div>"
      ],
      "text/plain": [
       "         Address       Phone\n",
       "Name                        \n",
       "sita       kapan  9876453266\n",
       "sita    lalitpur  9845362788\n",
       "gita   bhaktapur  9841234355\n",
       "rita     kalopul  9851245233\n",
       "shyam      terai  9851246256"
      ]
     },
     "execution_count": 4,
     "metadata": {},
     "output_type": "execute_result"
    }
   ],
   "source": [
    "#axis 0 is for deleting rows elements and 1 is for deleting whole column element\n",
    "import pandas as pd\n",
    "df=pd.read_csv('record2.csv',index_col='Name')\n",
    "df.drop(['Age'],axis=1)\n"
   ]
  },
  {
   "cell_type": "code",
   "execution_count": 5,
   "metadata": {},
   "outputs": [
    {
     "data": {
      "text/html": [
       "<div>\n",
       "<style scoped>\n",
       "    .dataframe tbody tr th:only-of-type {\n",
       "        vertical-align: middle;\n",
       "    }\n",
       "\n",
       "    .dataframe tbody tr th {\n",
       "        vertical-align: top;\n",
       "    }\n",
       "\n",
       "    .dataframe thead th {\n",
       "        text-align: right;\n",
       "    }\n",
       "</style>\n",
       "<table border=\"1\" class=\"dataframe\">\n",
       "  <thead>\n",
       "    <tr style=\"text-align: right;\">\n",
       "      <th></th>\n",
       "      <th>Age</th>\n",
       "      <th>Address</th>\n",
       "      <th>Phone</th>\n",
       "    </tr>\n",
       "    <tr>\n",
       "      <th>Name</th>\n",
       "      <th></th>\n",
       "      <th></th>\n",
       "      <th></th>\n",
       "    </tr>\n",
       "  </thead>\n",
       "  <tbody>\n",
       "    <tr>\n",
       "      <td>sita</td>\n",
       "      <td>12</td>\n",
       "      <td>kapan</td>\n",
       "      <td>9876453266</td>\n",
       "    </tr>\n",
       "    <tr>\n",
       "      <td>sita</td>\n",
       "      <td>22</td>\n",
       "      <td>lalitpur</td>\n",
       "      <td>9845362788</td>\n",
       "    </tr>\n",
       "    <tr>\n",
       "      <td>gita</td>\n",
       "      <td>34</td>\n",
       "      <td>bhaktapur</td>\n",
       "      <td>9841234355</td>\n",
       "    </tr>\n",
       "    <tr>\n",
       "      <td>shyam</td>\n",
       "      <td>33</td>\n",
       "      <td>terai</td>\n",
       "      <td>9851246256</td>\n",
       "    </tr>\n",
       "  </tbody>\n",
       "</table>\n",
       "</div>"
      ],
      "text/plain": [
       "       Age    Address       Phone\n",
       "Name                             \n",
       "sita    12      kapan  9876453266\n",
       "sita    22   lalitpur  9845362788\n",
       "gita    34  bhaktapur  9841234355\n",
       "shyam   33      terai  9851246256"
      ]
     },
     "execution_count": 5,
     "metadata": {},
     "output_type": "execute_result"
    }
   ],
   "source": [
    "import pandas as pd\n",
    "df=pd.read_csv('record2.csv',index_col='Name')\n",
    "df.drop(['rita'],axis=0)"
   ]
  },
  {
   "cell_type": "code",
   "execution_count": 6,
   "metadata": {},
   "outputs": [],
   "source": [
    "import csv\n",
    "fields=['hari','26','kathmandu','9864532511']\n",
    "with open('record2.csv','a') as f:  #f is an object\n",
    "    w=csv.writer(f) #writer and writerow is a predefined function\n",
    "    w.writerow(fields) #record2 ma value aucha..\n",
    "    #vertically value is done through dataframe and horizontally can be done in this way"
   ]
  },
  {
   "cell_type": "code",
   "execution_count": null,
   "metadata": {},
   "outputs": [],
   "source": []
  }
 ],
 "metadata": {
  "kernelspec": {
   "display_name": "Python 3",
   "language": "python",
   "name": "python3"
  },
  "language_info": {
   "codemirror_mode": {
    "name": "ipython",
    "version": 3
   },
   "file_extension": ".py",
   "mimetype": "text/x-python",
   "name": "python",
   "nbconvert_exporter": "python",
   "pygments_lexer": "ipython3",
   "version": "3.7.4"
  }
 },
 "nbformat": 4,
 "nbformat_minor": 2
}
