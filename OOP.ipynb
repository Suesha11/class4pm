{
 "cells": [
  {
   "cell_type": "code",
   "execution_count": 1,
   "metadata": {},
   "outputs": [],
   "source": [
    "# class <name_of_class>:\n",
    "#   <opertions>\n",
    "#   <methods>\n",
    "\n",
    "#object=<name_of_class>()"
   ]
  },
  {
   "cell_type": "code",
   "execution_count": 2,
   "metadata": {},
   "outputs": [],
   "source": [
    "class Info:\n",
    "    #value initialization\n",
    "    #methods\n",
    "    pass\n",
    "\n",
    "obj=Info()\n"
   ]
  },
  {
   "cell_type": "code",
   "execution_count": 3,
   "metadata": {},
   "outputs": [
    {
     "name": "stdout",
     "output_type": "stream",
     "text": [
      "Hello World\n"
     ]
    }
   ],
   "source": [
    "class Info: #class\n",
    "    def info(self): #method within the class ..self isnt a parameter..it is the indentation that this method is build within a class\n",
    "        print(\"Hello World\")\n",
    "obj=Info() #object of class\n",
    "obj.info() #calling method through the class\n"
   ]
  },
  {
   "cell_type": "code",
   "execution_count": 6,
   "metadata": {},
   "outputs": [
    {
     "name": "stdout",
     "output_type": "stream",
     "text": [
      "Hello World\n",
      "Hi there\n"
     ]
    }
   ],
   "source": [
    "class Info: #class\n",
    "    def info(self): \n",
    "        print(\"Hello World\")\n",
    "    def infos(self): \n",
    "        print(\"Hi there\")\n",
    "obj=Info() \n",
    "\n",
    "obj.info()\n",
    "obj.infos()"
   ]
  },
  {
   "cell_type": "code",
   "execution_count": 7,
   "metadata": {},
   "outputs": [
    {
     "name": "stdout",
     "output_type": "stream",
     "text": [
      "the area is 20\n",
      "the volume is 24\n"
     ]
    }
   ],
   "source": [
    "class Cal: #class name starts with a capital letter\n",
    "    def area(self,l,b): #self is a reference of a class...\n",
    "        print(\"the area is\",l*b)  #return typ huda bhitra calculate gareko value lai bahira use garna sakincha\n",
    "    def volume(self,l,b,h):\n",
    "        print(\"the volume is\",l*b*h)\n",
    "        \n",
    "obj=Cal()\n",
    "obj.area(4,5) \n",
    "obj.volume(2,3,4)"
   ]
  },
  {
   "cell_type": "code",
   "execution_count": 9,
   "metadata": {},
   "outputs": [
    {
     "name": "stdout",
     "output_type": "stream",
     "text": [
      "20\n",
      "24\n"
     ]
    }
   ],
   "source": [
    "class Cal: #class name starts with a capital letter\n",
    "    def area(self,l,b): #self is a reference of a class...\n",
    "        return l*b  #return typ huda bhitra calculate gareko value lai bahira use garna sakincha\n",
    "    def volume(self,l,b,h):\n",
    "        return l*b*h\n",
    "        \n",
    "obj=Cal()\n",
    "print(obj.area(4,5)) \n",
    "print(obj.volume(2,3,4))"
   ]
  },
  {
   "cell_type": "code",
   "execution_count": 11,
   "metadata": {},
   "outputs": [
    {
     "name": "stdout",
     "output_type": "stream",
     "text": [
      "the area is 20\n",
      "the volume is 24\n"
     ]
    }
   ],
   "source": [
    "class Cal: #class name starts with a capital letter\n",
    "    def area(self,l,b): #self is a reference of a class...\n",
    "        return l*b  #return typ huda bhitra calculate gareko value lai bahira use garna sakincha\n",
    "    def volume(self,l,b,h):\n",
    "        return l*b*h\n",
    "        \n",
    "obj=Cal()\n",
    "a=obj.area(4,5)  #return vako value ya ayera store huncha\n",
    "b=obj.volume(2,3,4)\n",
    "print(\"the area is\",a)\n",
    "print(\"the volume is\",b)"
   ]
  },
  {
   "cell_type": "code",
   "execution_count": 12,
   "metadata": {},
   "outputs": [
    {
     "name": "stdout",
     "output_type": "stream",
     "text": [
      "12\n"
     ]
    }
   ],
   "source": [
    "#more class more object\n",
    "\n",
    "\n",
    "class Cal:\n",
    "    def area(self,l,b):\n",
    "        return l*b\n",
    "    \n",
    "class Cal1:\n",
    "    def volume(self,l,b,h):\n",
    "        return l*b*h\n",
    "obj=Cal()\n",
    "objs=Cal1()\n",
    "print(obj.area(3,4))"
   ]
  },
  {
   "cell_type": "code",
   "execution_count": 13,
   "metadata": {},
   "outputs": [
    {
     "name": "stdout",
     "output_type": "stream",
     "text": [
      "12\n",
      "24\n"
     ]
    }
   ],
   "source": [
    "#more class more object\n",
    "\n",
    "\n",
    "class Cal:\n",
    "    def area(self,l,b):\n",
    "        return l*b\n",
    "    \n",
    "class Cal1:\n",
    "    def volume(self,l,b,h):\n",
    "        return l*b*h\n",
    "obj=Cal()\n",
    "objs=Cal1()\n",
    "print(obj.area(3,4))\n",
    "print(objs.volume(2,3,4))"
   ]
  },
  {
   "cell_type": "code",
   "execution_count": 14,
   "metadata": {},
   "outputs": [
    {
     "name": "stdout",
     "output_type": "stream",
     "text": [
      "the volume is 24\n"
     ]
    }
   ],
   "source": [
    "#first argument of the class is the reference of the class and remaining are the parameters\n",
    "\n",
    "#__init__function() ..no need to call it initialize itself when class object is made\n",
    "\n",
    "#to send the value through cass we need to make constructor\n",
    "\n",
    "\n",
    "class Volume:\n",
    "    def __init__(self,l,b,h): #things here can be used by all the functions\n",
    "        self.l=l\n",
    "        self.b=b\n",
    "        self.h=h\n",
    "        \n",
    "    def volume(self):\n",
    "        print(\"the volume is\",self.l*self.b*self.h)\n",
    "        \n",
    "obj=Volume(2,3,4)\n",
    "obj.volume()\n"
   ]
  },
  {
   "cell_type": "code",
   "execution_count": 19,
   "metadata": {},
   "outputs": [
    {
     "name": "stdout",
     "output_type": "stream",
     "text": [
      "Hello my name is suesha.I am 21 years old.I live inKapan\n",
      "suesha\n"
     ]
    }
   ],
   "source": [
    "class Info:\n",
    "    def __init__(self,name,age,address): #things here can be used by all the functions\n",
    "        self.name=name\n",
    "        self.age=age\n",
    "        self.address=address\n",
    "        \n",
    "    def infos(this):\n",
    "        print(f\"Hello my name is {this.name}.I am {this.age} years old.I live in{this.address}\")\n",
    "    def names(that):\n",
    "        print(that.name) #this that ar ejust reference that is used within only a particular function \n",
    "        #..if and only if the values are stored by the constructori.e. init function..\n",
    "        \n",
    "obj=Info(\"suesha\",21,\"Kapan\")\n",
    "obj.infos()\n",
    "obj.names()"
   ]
  },
  {
   "cell_type": "code",
   "execution_count": 20,
   "metadata": {},
   "outputs": [
    {
     "name": "stdout",
     "output_type": "stream",
     "text": [
      "Hello my name is suesha.I am 21 years old.I live in kapan\n"
     ]
    }
   ],
   "source": [
    "class Info:\n",
    "    def __init__(self,name,age): #things here can be used by all the functions\n",
    "        self.name=name\n",
    "        self.age=age\n",
    "       \n",
    "        \n",
    "    def infos(this,address):\n",
    "        print(f\"Hello my name is {this.name}.I am {this.age} years old.I live in {address}\")\n",
    "        \n",
    "obj=Info(\"suesha\",21)\n",
    "obj.infos(\"kapan\")"
   ]
  },
  {
   "cell_type": "code",
   "execution_count": 23,
   "metadata": {},
   "outputs": [
    {
     "name": "stdout",
     "output_type": "stream",
     "text": [
      "enter name=shyam\n",
      "enter age=43\n",
      "Hello my name is shyam.I am 43 years old.I live in kapan\n"
     ]
    }
   ],
   "source": [
    "class Info:\n",
    "    def __init__(self,name,age): #things here can be used by all the functions\n",
    "        self.name=input(\"enter name=\")\n",
    "        self.age=int(input(\"enter age=\"))\n",
    "       \n",
    "        \n",
    "    def infos(this,address):\n",
    "        print(f\"Hello my name is {this.name}.I am {this.age} years old.I live in {address}\")\n",
    "        \n",
    "obj=Info('suesha',21)\n",
    "obj.infos(\"kapan\")"
   ]
  },
  {
   "cell_type": "code",
   "execution_count": 27,
   "metadata": {},
   "outputs": [
    {
     "name": "stdout",
     "output_type": "stream",
     "text": [
      "Hello my name is Ram.I am 24 years old.I live in kapan\n"
     ]
    }
   ],
   "source": [
    "class Info:\n",
    "    def __init__(self,x): #tuple as an argument\n",
    "        self.name,self.age=x\n",
    "        \n",
    "    def infos(this,address):\n",
    "        print(f\"Hello my name is {this.name}.I am {this.age} years old.I live in {address}\")\n",
    "        \n",
    "x=(\"Ram\",24)\n",
    "obj=Info(x)#here info should have x as an argument as through the obj we are sending x tuple to the init function\n",
    "obj.infos(\"kapan\")"
   ]
  },
  {
   "cell_type": "code",
   "execution_count": 28,
   "metadata": {},
   "outputs": [
    {
     "name": "stdout",
     "output_type": "stream",
     "text": [
      "Hello my name is Ram.I am 24 years old.I live in kapan\n"
     ]
    }
   ],
   "source": [
    "class Info:\n",
    "    def __init__(self,x): #tuple as an argument\n",
    "        self.name,self.age=x\n",
    "        \n",
    "    def infos(this,y):\n",
    "        print(f\"Hello my name is {this.name}.I am {this.age} years old.I live in {y}\")\n",
    "        \n",
    "x=(\"Ram\",24)\n",
    "y=\"kapan\"\n",
    "obj=Info(x)#here info should have x as an argument as through the obj we are sending x tuple to the init function\n",
    "obj.infos(y)"
   ]
  },
  {
   "cell_type": "code",
   "execution_count": 34,
   "metadata": {},
   "outputs": [
    {
     "name": "stdout",
     "output_type": "stream",
     "text": [
      "the volume is 40\n"
     ]
    }
   ],
   "source": [
    "#two constructor\n",
    "class Area:\n",
    "    def __init__(self,l,b):\n",
    "        self.l=l\n",
    "        self.b=b\n",
    "    def area(self):\n",
    "        return self.l*self.b\n",
    "    \n",
    "class Height:\n",
    "    def __init__(self,h):\n",
    "        self.h=h\n",
    "        \n",
    "    def height(self):\n",
    "        return self.h\n",
    "    \n",
    "a=Area(4,5)\n",
    "h=Height(2)\n",
    "c=a.area()\n",
    "d=h.height()\n",
    "volume=c*d\n",
    "print(\"the volume is\",volume)\n",
    "        "
   ]
  },
  {
   "cell_type": "code",
   "execution_count": null,
   "metadata": {},
   "outputs": [],
   "source": []
  }
 ],
 "metadata": {
  "kernelspec": {
   "display_name": "Python 3",
   "language": "python",
   "name": "python3"
  },
  "language_info": {
   "codemirror_mode": {
    "name": "ipython",
    "version": 3
   },
   "file_extension": ".py",
   "mimetype": "text/x-python",
   "name": "python",
   "nbconvert_exporter": "python",
   "pygments_lexer": "ipython3",
   "version": "3.7.4"
  }
 },
 "nbformat": 4,
 "nbformat_minor": 2
}
